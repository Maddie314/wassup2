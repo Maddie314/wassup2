{
 "cells": [
  {
   "cell_type": "code",
   "execution_count": null,
   "id": "ef629e87",
   "metadata": {},
   "outputs": [],
   "source": []
  },
  {
   "cell_type": "markdown",
   "id": "aaed891e",
   "metadata": {},
   "source": [
    "![header](https://capsule-render.vercel.app/api?type=cylinder&color=30:B296FF,50:C1D2DC&height=150&text=Hello!%20I'm%20Maddie&animation=fadeIn&fontColor=FFFFFF&fontSize=40)"
   ]
  },
  {
   "cell_type": "markdown",
   "id": "9be4ebdd",
   "metadata": {},
   "source": [
    "## ABOUT ME"
   ]
  },
  {
   "cell_type": "markdown",
   "id": "8f61e359",
   "metadata": {},
   "source": [
    "> 안녕하세요 ESTsoft WASSUP2기를 교육받고 있는 심현정 교육생입니다. 지속적인 성장을 하는 \"기획자\"를 꿈꾸고 있습니다."
   ]
  },
  {
   "cell_type": "code",
   "execution_count": null,
   "id": "0888ed6f",
   "metadata": {},
   "outputs": [],
   "source": []
  },
  {
   "cell_type": "markdown",
   "id": "3ec8503c",
   "metadata": {},
   "source": [
    "## CONTACT ME"
   ]
  },
  {
   "cell_type": "markdown",
   "id": "77e2d619",
   "metadata": {},
   "source": [
    "<a href='https://www.instagram.com/shimn_/' target=\"_blank\"><img src = 'https://img.shields.io/badge/Instagram-E4405F?style=for-the-badge&logo=instagram&logoColor=white'></a><a href='https://github.com/Maddie314/wassup2.git' target=\"_blank\"><img src = 'https://img.shields.io/badge/GitHub-100000?style=for-the-badge&logo=github&logoColor=white'></a>\n"
   ]
  },
  {
   "cell_type": "markdown",
   "id": "b6d5daf4",
   "metadata": {},
   "source": [
    "## TOOLS & SKILLS"
   ]
  },
  {
   "cell_type": "markdown",
   "id": "462dcbf2",
   "metadata": {},
   "source": [
    "<img src = 'https://img.shields.io/badge/MySQL-00000F?style=for-the-badge&logo=mysql&logoColor=white'> <img src = 'https://img.shields.io/badge/Python-3776AB?style=for-the-badge&logo=python&logoColor=white'> <img src ='https://img.shields.io/badge/Figma-F24E1E?style=for-the-badge&logo=figma&logoColor=white'> <img src ='https://img.shields.io/badge/Miro-050038?style=for-the-badge&logo=Miro&logoColor=white'> <img src ='https://img.shields.io/badge/Notion-000000?style=for-the-badge&logo=notion&logoColor=white'>"
   ]
  },
  {
   "cell_type": "markdown",
   "id": "89a2ca9d",
   "metadata": {},
   "source": [
    "## STUDY"
   ]
  },
  {
   "cell_type": "markdown",
   "id": "2dec5496",
   "metadata": {},
   "source": [
    "<a href='https://www.notion.so/oreumi/6a8a77b182a046e39bf3d00617e28b90?pvs=4' target=\"_blank\"><img src = 'https://img.shields.io/badge/Notion-000000?style=for-the-badge&logo=notion&logoColor=white'></a>"
   ]
  },
  {
   "cell_type": "markdown",
   "id": "3b3e0754",
   "metadata": {},
   "source": []
  },
  {
   "cell_type": "markdown",
   "id": "18cbb9a9",
   "metadata": {},
   "source": [
    "## PROJECT EXPERIENCES"
   ]
  },
  {
   "cell_type": "markdown",
   "id": "9602ed92",
   "metadata": {},
   "source": [
    "**2023.06 ~ 2023.12 메타버스 아카데미 2기 콘텐츠 기획**\n",
    "* 물리기반의 이삿짐 옮기기 \"무빙아웃\" 게임 모작 프로젝트 기획 참여\n",
    "* 고수의 운전면허 기반의 VR 모의 운전 면허장 체험 프로젝트 기획 참여\n",
    "* AI기반 다양한 배경의 커플 이미지 생성 서비스 프로젝트 기획 참여\n",
    "* 실시간 3D 물건 생성 서비스 프로젝트 기획 참여"
   ]
  },
  {
   "cell_type": "markdown",
   "id": "6e15da29",
   "metadata": {},
   "source": [
    "**2022.01~ 2022.06 E-LAND CHINA 이커머스 인턴**\n",
    "* 틱톡 숏폼 콘텐츠 기획\n",
    "* 틱톡 라이브 방송 상품 및 데이터 관리"
   ]
  },
  {
   "cell_type": "markdown",
   "id": "b2952b24",
   "metadata": {},
   "source": [
    "## GITHUB STATUS"
   ]
  },
  {
   "cell_type": "markdown",
   "id": "67433281",
   "metadata": {},
   "source": [
    "![Maddie314's github stats](https://github-readme-stats.vercel.app/api?username=[Maddie314&show_icons=true&theme=tokyonight)"
   ]
  },
  {
   "cell_type": "code",
   "execution_count": null,
   "id": "907f50e8",
   "metadata": {},
   "outputs": [],
   "source": []
  },
  {
   "cell_type": "code",
   "execution_count": null,
   "id": "e79a769b",
   "metadata": {},
   "outputs": [],
   "source": []
  }
 ],
 "metadata": {
  "kernelspec": {
   "display_name": "Python 3 (ipykernel)",
   "language": "python",
   "name": "python3"
  },
  "language_info": {
   "codemirror_mode": {
    "name": "ipython",
    "version": 3
   },
   "file_extension": ".py",
   "mimetype": "text/x-python",
   "name": "python",
   "nbconvert_exporter": "python",
   "pygments_lexer": "ipython3",
   "version": "3.11.5"
  }
 },
 "nbformat": 4,
 "nbformat_minor": 5
}
