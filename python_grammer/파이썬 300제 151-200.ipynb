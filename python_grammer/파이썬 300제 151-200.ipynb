{
 "cells": [
  {
   "cell_type": "markdown",
   "id": "1754b0dd",
   "metadata": {},
   "source": [
    "# 151-160"
   ]
  },
  {
   "cell_type": "code",
   "execution_count": null,
   "id": "f8126ca8",
   "metadata": {},
   "outputs": [],
   "source": [
    "#151"
   ]
  },
  {
   "cell_type": "code",
   "execution_count": 7,
   "id": "4827385d",
   "metadata": {},
   "outputs": [
    {
     "name": "stdout",
     "output_type": "stream",
     "text": [
      "-20\n",
      "-3\n"
     ]
    }
   ],
   "source": [
    "리스트 = [3, -20, -3, 44]\n",
    "for a in 리스트:\n",
    "    if a < 0:\n",
    "        print(a)"
   ]
  },
  {
   "cell_type": "code",
   "execution_count": 9,
   "id": "f2076963",
   "metadata": {},
   "outputs": [
    {
     "name": "stdout",
     "output_type": "stream",
     "text": [
      "3\n"
     ]
    }
   ],
   "source": [
    "리스트 = [3, 100, 23, 44]\n",
    "for a in 리스트:\n",
    "    if a%3 == 0:\n",
    "        print(a)"
   ]
  },
  {
   "cell_type": "code",
   "execution_count": 10,
   "id": "c7e1374c",
   "metadata": {},
   "outputs": [
    {
     "name": "stdout",
     "output_type": "stream",
     "text": [
      "12\n",
      "18\n"
     ]
    }
   ],
   "source": [
    "리스트 = [13, 21, 12, 14, 30, 18]\n",
    "#조건 <30 / 3의 배수\n",
    "for a in 리스트:\n",
    "    if a < 20 and a % 3 == 0:\n",
    "        print(a)"
   ]
  },
  {
   "cell_type": "code",
   "execution_count": null,
   "id": "0034b72a",
   "metadata": {},
   "outputs": [],
   "source": [
    "#154"
   ]
  },
  {
   "cell_type": "code",
   "execution_count": 20,
   "id": "3cda48e7",
   "metadata": {},
   "outputs": [
    {
     "name": "stdout",
     "output_type": "stream",
     "text": [
      "study\n",
      "python\n",
      "language\n"
     ]
    }
   ],
   "source": [
    "리스트 = [\"I\", \"study\", \"python\", \"language\", \"!\"]\n",
    "\n",
    "for a in 리스트:\n",
    "    if len(a) >=3:\n",
    "        print(a)"
   ]
  },
  {
   "cell_type": "code",
   "execution_count": 30,
   "id": "1873821e",
   "metadata": {},
   "outputs": [
    {
     "name": "stdout",
     "output_type": "stream",
     "text": [
      "A\n",
      "D\n"
     ]
    }
   ],
   "source": [
    "리스트 = [\"A\", \"b\", \"c\", \"D\"]\n",
    "for a in 리스트:\n",
    "    if a.isupper():\n",
    "        print(a)\n",
    "\n"
   ]
  },
  {
   "cell_type": "code",
   "execution_count": null,
   "id": "ce25ccb6",
   "metadata": {},
   "outputs": [],
   "source": [
    "#157"
   ]
  },
  {
   "cell_type": "code",
   "execution_count": 51,
   "id": "5aeebd44",
   "metadata": {},
   "outputs": [
    {
     "name": "stdout",
     "output_type": "stream",
     "text": [
      "Dog\n",
      "Cat\n",
      "Parrot\n"
     ]
    }
   ],
   "source": [
    "리스트 = ['dog', 'cat', 'parrot']\n",
    "for a in 리스트:\n",
    "    print(a.upper()[0] + a[1:])"
   ]
  },
  {
   "cell_type": "code",
   "execution_count": 53,
   "id": "c3598eeb",
   "metadata": {},
   "outputs": [
    {
     "name": "stdout",
     "output_type": "stream",
     "text": [
      "hello\n",
      "ex01\n",
      "intro\n"
     ]
    }
   ],
   "source": [
    "리스트 = ['hello.py', 'ex01.py', 'intro.hwp']\n",
    "for a in 리스트:\n",
    "    print(a.split('.')[0])"
   ]
  },
  {
   "cell_type": "code",
   "execution_count": 57,
   "id": "a7549831",
   "metadata": {},
   "outputs": [
    {
     "name": "stdout",
     "output_type": "stream",
     "text": [
      "intra.h\n",
      "define.h\n"
     ]
    }
   ],
   "source": [
    "리스트 = ['intra.h', 'intra.c', 'define.h', 'run.py']\n",
    "for a in 리스트:\n",
    "    if a.endswith('h'):\n",
    "        print(a)"
   ]
  },
  {
   "cell_type": "code",
   "execution_count": 60,
   "id": "6437da6e",
   "metadata": {},
   "outputs": [
    {
     "name": "stdout",
     "output_type": "stream",
     "text": [
      "intra.h\n",
      "define.h\n"
     ]
    }
   ],
   "source": [
    "리스트 = ['intra.h', 'intra.c', 'define.h', 'run.py']\n",
    "for a in 리스트:\n",
    "    b=a.split(\".\")[1]\n",
    "    if b == 'h':\n",
    "        print(a)"
   ]
  },
  {
   "cell_type": "code",
   "execution_count": 62,
   "id": "9c83ecb6",
   "metadata": {},
   "outputs": [
    {
     "name": "stdout",
     "output_type": "stream",
     "text": [
      "intra.h\n",
      "intra.c\n",
      "define.h\n"
     ]
    }
   ],
   "source": [
    "리스트 = ['intra.h', 'intra.c', 'define.h', 'run.py']\n",
    "for a in 리스트:\n",
    "    b=a.split(\".\")[1]\n",
    "    if b == 'h' or b == 'c':\n",
    "        print(a)"
   ]
  },
  {
   "cell_type": "markdown",
   "id": "0075a47d",
   "metadata": {},
   "source": [
    "# 161-170"
   ]
  },
  {
   "cell_type": "code",
   "execution_count": 204,
   "id": "19229644",
   "metadata": {},
   "outputs": [
    {
     "ename": "SyntaxError",
     "evalue": "invalid syntax (57335614.py, line 1)",
     "output_type": "error",
     "traceback": [
      "\u001b[1;36m  Cell \u001b[1;32mIn[204], line 1\u001b[1;36m\u001b[0m\n\u001b[1;33m    for num in range(0,100, end''):\u001b[0m\n\u001b[1;37m                               ^\u001b[0m\n\u001b[1;31mSyntaxError\u001b[0m\u001b[1;31m:\u001b[0m invalid syntax\n"
     ]
    }
   ],
   "source": [
    "for num in range(0,100):\n",
    "    #print(num)"
   ]
  },
  {
   "cell_type": "code",
   "execution_count": 74,
   "id": "d579c9b4",
   "metadata": {},
   "outputs": [
    {
     "name": "stdout",
     "output_type": "stream",
     "text": [
      "2002\n",
      "2006\n",
      "2010\n",
      "2014\n",
      "2018\n",
      "2022\n",
      "2026\n",
      "2030\n",
      "2034\n",
      "2038\n",
      "2042\n",
      "2046\n",
      "2050\n"
     ]
    }
   ],
   "source": [
    "for a in range(2002, 2051,4):\n",
    "    print(a)"
   ]
  },
  {
   "cell_type": "code",
   "execution_count": 77,
   "id": "8182805e",
   "metadata": {},
   "outputs": [
    {
     "name": "stdout",
     "output_type": "stream",
     "text": [
      "3\n",
      "6\n",
      "9\n",
      "12\n",
      "15\n",
      "18\n",
      "21\n",
      "24\n",
      "27\n",
      "30\n"
     ]
    }
   ],
   "source": [
    "for a in range(1, 31):\n",
    "    if a % 3 == 0:\n",
    "        print(a)"
   ]
  },
  {
   "cell_type": "code",
   "execution_count": 78,
   "id": "bdab8df0",
   "metadata": {},
   "outputs": [
    {
     "name": "stdout",
     "output_type": "stream",
     "text": [
      "3\n",
      "6\n",
      "9\n",
      "12\n",
      "15\n",
      "18\n",
      "21\n",
      "24\n",
      "27\n",
      "30\n"
     ]
    }
   ],
   "source": [
    "for a in range(3, 31, 3):\n",
    "    print(a)"
   ]
  },
  {
   "cell_type": "code",
   "execution_count": 201,
   "id": "49aa323b",
   "metadata": {},
   "outputs": [
    {
     "ename": "SyntaxError",
     "evalue": "incomplete input (269344207.py, line 2)",
     "output_type": "error",
     "traceback": [
      "\u001b[1;36m  Cell \u001b[1;32mIn[201], line 2\u001b[1;36m\u001b[0m\n\u001b[1;33m    #print(a)\u001b[0m\n\u001b[1;37m             ^\u001b[0m\n\u001b[1;31mSyntaxError\u001b[0m\u001b[1;31m:\u001b[0m incomplete input\n"
     ]
    }
   ],
   "source": [
    "for a in range(99, -1, -1):\n",
    "    #print(a)"
   ]
  },
  {
   "cell_type": "code",
   "execution_count": null,
   "id": "42519aad",
   "metadata": {},
   "outputs": [],
   "source": [
    "#165(강의)"
   ]
  },
  {
   "cell_type": "code",
   "execution_count": 88,
   "id": "0c376342",
   "metadata": {},
   "outputs": [
    {
     "name": "stdout",
     "output_type": "stream",
     "text": [
      "0.0\n",
      "0.1\n",
      "0.2\n",
      "0.3\n",
      "0.4\n",
      "0.5\n",
      "0.6\n",
      "0.7\n",
      "0.8\n",
      "0.9\n"
     ]
    }
   ],
   "source": [
    "for a in range(10):\n",
    "    print(a/10)"
   ]
  },
  {
   "cell_type": "code",
   "execution_count": 105,
   "id": "a2efefba",
   "metadata": {},
   "outputs": [
    {
     "name": "stdout",
     "output_type": "stream",
     "text": [
      "3 X 1 = 3\n",
      "3 X 2 = 6\n",
      "3 X 3 = 9\n",
      "3 X 4 = 12\n",
      "3 X 5 = 15\n",
      "3 X 6 = 18\n",
      "3 X 7 = 21\n",
      "3 X 8 = 24\n",
      "3 X 9 = 27\n"
     ]
    }
   ],
   "source": [
    "for a in range(1,10):\n",
    "    print(\"3\",\"X\",a,\"=\",3*a)"
   ]
  },
  {
   "cell_type": "code",
   "execution_count": 110,
   "id": "e82cac37",
   "metadata": {},
   "outputs": [
    {
     "name": "stdout",
     "output_type": "stream",
     "text": [
      "3 X 1 = 3\n",
      "3 X 3 = 9\n",
      "3 X 5 = 15\n",
      "3 X 7 = 21\n",
      "3 X 9 = 27\n"
     ]
    }
   ],
   "source": [
    "for a in range(1,10,2):\n",
    "    print(\"3\",\"X\",a,\"=\",3*a)"
   ]
  },
  {
   "cell_type": "markdown",
   "id": "4fbeed79",
   "metadata": {},
   "source": [
    "#168(강의보기)\n",
    "1~10까지의 숫자에 대해 모두 더한 값을 출력하는 프로그램을 for 문을 사용하여 작성하라."
   ]
  },
  {
   "cell_type": "code",
   "execution_count": 114,
   "id": "0154fe9a",
   "metadata": {},
   "outputs": [
    {
     "name": "stdout",
     "output_type": "stream",
     "text": [
      "합: 55\n"
     ]
    }
   ],
   "source": [
    "hab = 0\n",
    "for i in range(1,11):\n",
    "    hab += i\n",
    "print(\"합:\",hab)"
   ]
  },
  {
   "cell_type": "code",
   "execution_count": 115,
   "id": "33fbba61",
   "metadata": {},
   "outputs": [
    {
     "name": "stdout",
     "output_type": "stream",
     "text": [
      "합: 25\n"
     ]
    }
   ],
   "source": [
    "hab = 0\n",
    "for i in range(1,11,2):\n",
    "    hab += i\n",
    "print(\"합:\",hab)"
   ]
  },
  {
   "cell_type": "code",
   "execution_count": null,
   "id": "9b4f7d81",
   "metadata": {},
   "outputs": [],
   "source": [
    "#1~10까지의 숫자를 모두 곱한 값을 출력하는 프로그램을 for 문을 사용하여 작성하라."
   ]
  },
  {
   "cell_type": "code",
   "execution_count": null,
   "id": "7929080c",
   "metadata": {},
   "outputs": [],
   "source": [
    "#170(강의보기)"
   ]
  },
  {
   "cell_type": "code",
   "execution_count": 117,
   "id": "6ed5b317",
   "metadata": {},
   "outputs": [
    {
     "name": "stdout",
     "output_type": "stream",
     "text": [
      "곱: 3628800\n"
     ]
    }
   ],
   "source": [
    "hab = 1\n",
    "for i in range(1,11):\n",
    "    hab *= i\n",
    "print(\"곱:\",hab)"
   ]
  },
  {
   "cell_type": "markdown",
   "id": "df7d5080",
   "metadata": {},
   "source": [
    "# 171-180"
   ]
  },
  {
   "cell_type": "code",
   "execution_count": null,
   "id": "39d06c09",
   "metadata": {},
   "outputs": [],
   "source": [
    "# 171 (강의)"
   ]
  },
  {
   "cell_type": "code",
   "execution_count": 118,
   "id": "385eeaba",
   "metadata": {},
   "outputs": [
    {
     "name": "stdout",
     "output_type": "stream",
     "text": [
      "32100\n",
      "32150\n",
      "32000\n",
      "32500\n"
     ]
    }
   ],
   "source": [
    "price_list = [32100, 32150, 32000, 32500]\n",
    "for a in price_list:\n",
    "    print(a)"
   ]
  },
  {
   "cell_type": "code",
   "execution_count": 121,
   "id": "85c93558",
   "metadata": {},
   "outputs": [
    {
     "name": "stdout",
     "output_type": "stream",
     "text": [
      "32100\n",
      "32150\n",
      "32000\n",
      "32500\n"
     ]
    }
   ],
   "source": [
    "price_list = [32100, 32150, 32000, 32500]\n",
    "for i in range(4):\n",
    "    print(price_list[i])"
   ]
  },
  {
   "cell_type": "code",
   "execution_count": 122,
   "id": "7b667378",
   "metadata": {},
   "outputs": [
    {
     "name": "stdout",
     "output_type": "stream",
     "text": [
      "32100\n",
      "32150\n",
      "32000\n",
      "32500\n"
     ]
    }
   ],
   "source": [
    "for i in range(len(price_list)):\n",
    "    print(price_list[i])"
   ]
  },
  {
   "cell_type": "code",
   "execution_count": 125,
   "id": "8e1265de",
   "metadata": {},
   "outputs": [
    {
     "name": "stdout",
     "output_type": "stream",
     "text": [
      "0 32100\n",
      "1 32150\n",
      "2 32000\n",
      "3 32500\n"
     ]
    }
   ],
   "source": [
    "price_list = [32100, 32150, 32000, 32500]\n",
    "for a in range(4):\n",
    "    print(a, price_list[a])"
   ]
  },
  {
   "cell_type": "code",
   "execution_count": null,
   "id": "cb19a4da",
   "metadata": {},
   "outputs": [],
   "source": [
    "#173"
   ]
  },
  {
   "cell_type": "code",
   "execution_count": 127,
   "id": "c037f0b2",
   "metadata": {},
   "outputs": [
    {
     "name": "stdout",
     "output_type": "stream",
     "text": [
      "3 32100\n",
      "2 32150\n",
      "1 32000\n",
      "0 32500\n"
     ]
    }
   ],
   "source": [
    "price_list = [32100, 32150, 32000, 32500]\n",
    "for a in range(4):\n",
    "    print(3-a, price_list[a])"
   ]
  },
  {
   "cell_type": "code",
   "execution_count": 129,
   "id": "e673202b",
   "metadata": {},
   "outputs": [
    {
     "name": "stdout",
     "output_type": "stream",
     "text": [
      "3 32100\n",
      "2 32150\n",
      "1 32000\n",
      "0 32500\n"
     ]
    }
   ],
   "source": [
    "for i in range(len(price_list)):\n",
    "    print((len(price_list)-1) -i, price_list[i])"
   ]
  },
  {
   "cell_type": "code",
   "execution_count": null,
   "id": "84552d6f",
   "metadata": {},
   "outputs": [],
   "source": [
    "#174 강의"
   ]
  },
  {
   "cell_type": "code",
   "execution_count": 136,
   "id": "31b00311",
   "metadata": {},
   "outputs": [
    {
     "name": "stdout",
     "output_type": "stream",
     "text": [
      "32100\n",
      "32150\n",
      "32000\n",
      "32500\n"
     ]
    }
   ],
   "source": [
    "price_list = [32100, 32150, 32000, 32500]\n",
    "for a in range(1,4):\n",
    "    print(90+10*i, price_list[a])"
   ]
  },
  {
   "cell_type": "code",
   "execution_count": 162,
   "id": "68371cf0",
   "metadata": {},
   "outputs": [
    {
     "data": {
      "text/plain": [
       "('다', '라')"
      ]
     },
     "execution_count": 162,
     "metadata": {},
     "output_type": "execute_result"
    }
   ],
   "source": [
    "my_list = [\"가\", \"나\", \"다\", \"라\"]\n",
    "my_list[0],my_list[1]\n",
    "my_list[1],my_list[2]\n",
    "my_list[2],my_list[3]"
   ]
  },
  {
   "cell_type": "code",
   "execution_count": 161,
   "id": "6b60e75a",
   "metadata": {},
   "outputs": [
    {
     "name": "stdout",
     "output_type": "stream",
     "text": [
      "가 나\n",
      "나 다\n",
      "다 라\n"
     ]
    }
   ],
   "source": [
    "my_list = [\"가\", \"나\", \"다\", \"라\"]\n",
    "for i in range(0,3):\n",
    "    print(my_list[i],my_list[i+1])"
   ]
  },
  {
   "cell_type": "code",
   "execution_count": 163,
   "id": "8d66b8b6",
   "metadata": {},
   "outputs": [
    {
     "name": "stdout",
     "output_type": "stream",
     "text": [
      "가 나\n",
      "나 다\n",
      "다 라\n"
     ]
    }
   ],
   "source": [
    "my_list = [\"가\", \"나\", \"다\", \"라\"]\n",
    "for i in range(len(my_list)-1):\n",
    "    print(my_list[i],my_list[i+1])"
   ]
  },
  {
   "cell_type": "code",
   "execution_count": 167,
   "id": "841f2ed9",
   "metadata": {},
   "outputs": [
    {
     "data": {
      "text/plain": [
       "('다', '라', '마')"
      ]
     },
     "execution_count": 167,
     "metadata": {},
     "output_type": "execute_result"
    }
   ],
   "source": [
    "my_list = [\"가\", \"나\", \"다\", \"라\", \"마\"]\n",
    "my_list[0],my_list[1],my_list[2]\n",
    "my_list[1],my_list[2],my_list[3]\n",
    "my_list[2],my_list[3],my_list[4]\n",
    "my_list[i],my_list[i+1],my_list[i+2],"
   ]
  },
  {
   "cell_type": "code",
   "execution_count": 168,
   "id": "228576a7",
   "metadata": {},
   "outputs": [
    {
     "name": "stdout",
     "output_type": "stream",
     "text": [
      "가 나 다\n",
      "나 다 라\n",
      "다 라 마\n"
     ]
    }
   ],
   "source": [
    "for i in range(len(my_list)-2):\n",
    "    print(my_list[i],my_list[i+1],my_list[i+2])"
   ]
  },
  {
   "cell_type": "code",
   "execution_count": null,
   "id": "028cae9e",
   "metadata": {},
   "outputs": [],
   "source": [
    "#177 강적임-- 강의.."
   ]
  },
  {
   "cell_type": "code",
   "execution_count": 173,
   "id": "a6973e7b",
   "metadata": {},
   "outputs": [
    {
     "name": "stdout",
     "output_type": "stream",
     "text": [
      "라 다\n",
      "다 나\n",
      "나 가\n",
      "라 다\n",
      "다 나\n",
      "나 가\n",
      "라 다\n",
      "다 나\n",
      "나 가\n"
     ]
    }
   ],
   "source": [
    "my_list = [\"가\", \"나\", \"다\", \"라\"]\n",
    "my_list[3],my_list[2]\n",
    "my_list[2],my_list[1]\n",
    "my_list[1],my_list[0]\n",
    "\n",
    "for i in [3,2,1]:\n",
    "    print(my_list[i], my_list[i-1])\n",
    "for i in [2,1,0]:\n",
    "    print(my_list[i+1], my_list[i])\n",
    "for i in [0,1,2]:\n",
    "    print(my_list[3-i],my_list[2-i])"
   ]
  },
  {
   "cell_type": "code",
   "execution_count": 160,
   "id": "57a8ba6f",
   "metadata": {},
   "outputs": [
    {
     "name": "stdout",
     "output_type": "stream",
     "text": [
      "가\n",
      "라\n"
     ]
    }
   ],
   "source": [
    "my_list = [\"가\", \"나\", \"다\", \"라\"]\n",
    "for a in range(len(my_list)-1, 0, -1):\n",
    "    print(my_list[-a])"
   ]
  },
  {
   "cell_type": "code",
   "execution_count": 175,
   "id": "039210e7",
   "metadata": {},
   "outputs": [
    {
     "data": {
      "text/plain": [
       "200"
      ]
     },
     "execution_count": 175,
     "metadata": {},
     "output_type": "execute_result"
    }
   ],
   "source": [
    "my_list = [100, 200, 400, 800]\n",
    "\n",
    "my_list[1]-my_list[0]\n",
    "my_list[2]-my_list[1]\n",
    "my_list[3]-my_list[2]\n",
    "\n",
    "my_list[i]-my_list[i-1]"
   ]
  },
  {
   "cell_type": "code",
   "execution_count": 179,
   "id": "c4307ebf",
   "metadata": {},
   "outputs": [
    {
     "name": "stdout",
     "output_type": "stream",
     "text": [
      "100\n",
      "200\n",
      "400\n"
     ]
    }
   ],
   "source": [
    "my_list = [100, 200, 400, 800]\n",
    "for i in range(1,4):\n",
    "    print(my_list[i]-my_list[i-1])"
   ]
  },
  {
   "cell_type": "code",
   "execution_count": 181,
   "id": "3b15f589",
   "metadata": {},
   "outputs": [
    {
     "name": "stdout",
     "output_type": "stream",
     "text": [
      "100\n",
      "200\n",
      "400\n"
     ]
    }
   ],
   "source": [
    "my_list = [100, 200, 400, 800]\n",
    "for i in range(len(my_list)-1):\n",
    "    print(my_list[i+1] - my_list[i])"
   ]
  },
  {
   "cell_type": "code",
   "execution_count": 185,
   "id": "5aae3cf2",
   "metadata": {},
   "outputs": [
    {
     "data": {
      "text/plain": [
       "1033.3333333333333"
      ]
     },
     "execution_count": 185,
     "metadata": {},
     "output_type": "execute_result"
    }
   ],
   "source": [
    "my_list = [100, 200, 400, 800, 1000, 1300]\n",
    "(my_list[0]+my_list[1]+my_list[2])/3\n",
    "(my_list[1]+my_list[2]+my_list[3])/3\n",
    "(my_list[2]+my_list[3]+my_list[4])/3\n",
    "(my_list[3]+my_list[4]+my_list[5])/3\n",
    "\n",
    "(my_list[i]+my_list[i+1]+my_list[i+2])/3\n"
   ]
  },
  {
   "cell_type": "code",
   "execution_count": 188,
   "id": "ab804e30",
   "metadata": {},
   "outputs": [
    {
     "name": "stdout",
     "output_type": "stream",
     "text": [
      "233.33333333333334\n",
      "466.6666666666667\n",
      "733.3333333333334\n",
      "1033.3333333333333\n"
     ]
    }
   ],
   "source": [
    "my_list = [100, 200, 400, 800, 1000, 1300]\n",
    "for i in range(len(my_list)-2):\n",
    "    print((my_list[i]+my_list[i+1]+my_list[i+2])/3)"
   ]
  },
  {
   "cell_type": "code",
   "execution_count": 190,
   "id": "42532fd6",
   "metadata": {},
   "outputs": [
    {
     "ename": "NameError",
     "evalue": "name 'high_prces' is not defined",
     "output_type": "error",
     "traceback": [
      "\u001b[1;31m---------------------------------------------------------------------------\u001b[0m",
      "\u001b[1;31mNameError\u001b[0m                                 Traceback (most recent call last)",
      "Cell \u001b[1;32mIn[190], line 3\u001b[0m\n\u001b[0;32m      1\u001b[0m low_prices  \u001b[38;5;241m=\u001b[39m [\u001b[38;5;241m100\u001b[39m, \u001b[38;5;241m200\u001b[39m, \u001b[38;5;241m400\u001b[39m, \u001b[38;5;241m800\u001b[39m, \u001b[38;5;241m1000\u001b[39m]\n\u001b[0;32m      2\u001b[0m high_prices \u001b[38;5;241m=\u001b[39m [\u001b[38;5;241m150\u001b[39m, \u001b[38;5;241m300\u001b[39m, \u001b[38;5;241m430\u001b[39m, \u001b[38;5;241m880\u001b[39m, \u001b[38;5;241m1000\u001b[39m]\n\u001b[1;32m----> 3\u001b[0m \u001b[38;5;28mprint\u001b[39m(high_prces\u001b[38;5;241m-\u001b[39mlow_prices)\n",
      "\u001b[1;31mNameError\u001b[0m: name 'high_prces' is not defined"
     ]
    }
   ],
   "source": [
    "low_prices  = [100, 200, 400, 800, 1000]\n",
    "high_prices = [150, 300, 430, 880, 1000]\n",
    "변동폭= high_prices[0]-low_prices[0]\n",
    "        high_prices[4]-low_prices[4]"
   ]
  },
  {
   "cell_type": "code",
   "execution_count": null,
   "id": "9c712a66",
   "metadata": {},
   "outputs": [],
   "source": [
    "#list에서 list.append()함수 만들기--- 내용 추가할 수 있음"
   ]
  },
  {
   "cell_type": "code",
   "execution_count": 200,
   "id": "95c8d573",
   "metadata": {},
   "outputs": [
    {
     "name": "stdout",
     "output_type": "stream",
     "text": [
      "[50, 100, 30, 80, 0]\n"
     ]
    }
   ],
   "source": [
    "low_prices  = [100, 200, 400, 800, 1000]\n",
    "high_prices = [150, 300, 430, 880, 1000]\n",
    "\n",
    "volatility=[]\n",
    "for i in range(len(low_prices)):\n",
    "    volatility.append(high_prices[i]-low_prices[i])\n",
    "print(volatility)"
   ]
  },
  {
   "cell_type": "markdown",
   "id": "0e0f003d",
   "metadata": {},
   "source": [
    "# 181-190"
   ]
  },
  {
   "cell_type": "code",
   "execution_count": 206,
   "id": "a3ed9116",
   "metadata": {},
   "outputs": [
    {
     "name": "stdout",
     "output_type": "stream",
     "text": [
      "[['101호', '102호'], ['201호', '202호'], ['301호', '302호']]\n"
     ]
    }
   ],
   "source": [
    "apart= [[\"101호\",\"102호\"],[\"201호\",\"202호\"],[\"301호\",\"302호\"]]\n",
    "print(apart)"
   ]
  },
  {
   "cell_type": "code",
   "execution_count": 209,
   "id": "69820d6e",
   "metadata": {},
   "outputs": [
    {
     "name": "stdout",
     "output_type": "stream",
     "text": [
      "[['시가', 100, 200, 300], ['종가', 80, 210, 330]]\n"
     ]
    }
   ],
   "source": [
    "stock=[[\"시가\",100,200,300],[\"종가\",80,210,330]]\n",
    "print(stock)"
   ]
  },
  {
   "cell_type": "code",
   "execution_count": 211,
   "id": "d70f23df",
   "metadata": {},
   "outputs": [
    {
     "name": "stdout",
     "output_type": "stream",
     "text": [
      "{'시가': [100, 200, 300], '종가': [80, 210, 330]}\n"
     ]
    }
   ],
   "source": [
    "stock={\"시가\":[100,200,300],\"종가\":[80,210,330]}\n",
    "print(stock)"
   ]
  },
  {
   "cell_type": "code",
   "execution_count": 213,
   "id": "f3a76e64",
   "metadata": {},
   "outputs": [
    {
     "name": "stdout",
     "output_type": "stream",
     "text": [
      "{'10/10': [80, 110, 70, 90], '10/11': [210, 230, 190, 200]}\n"
     ]
    }
   ],
   "source": [
    "stock={\"10/10\":[80,110,70,90],\"10/11\":[210,230,190,200]}\n",
    "print(stock)"
   ]
  },
  {
   "cell_type": "code",
   "execution_count": null,
   "id": "6df3e3f2",
   "metadata": {},
   "outputs": [],
   "source": [
    "#185- 이중루프"
   ]
  },
  {
   "cell_type": "code",
   "execution_count": 224,
   "id": "efd84740",
   "metadata": {},
   "outputs": [
    {
     "name": "stdout",
     "output_type": "stream",
     "text": [
      "101 호\n",
      "102 호\n",
      "201 호\n",
      "202 호\n",
      "301 호\n",
      "302 호\n"
     ]
    }
   ],
   "source": [
    "apart = [ [101, 102], [201, 202], [301, 302] ]\n",
    "\n",
    "for 층 in apart:\n",
    "    for 집 in 층:\n",
    "        print(집,\"호\")"
   ]
  },
  {
   "cell_type": "code",
   "execution_count": 227,
   "id": "ff1ac224",
   "metadata": {},
   "outputs": [
    {
     "name": "stdout",
     "output_type": "stream",
     "text": [
      "301 호\n",
      "302 호\n",
      "201 호\n",
      "202 호\n",
      "101 호\n",
      "102 호\n"
     ]
    }
   ],
   "source": [
    "apart = [ [101, 102], [201, 202], [301, 302] ]\n",
    "for 층 in apart[::-1]:\n",
    "    for 집 in 층:\n",
    "        print(집,\"호\")"
   ]
  },
  {
   "cell_type": "code",
   "execution_count": 228,
   "id": "21c57182",
   "metadata": {},
   "outputs": [
    {
     "name": "stdout",
     "output_type": "stream",
     "text": [
      "302 호\n",
      "301 호\n",
      "202 호\n",
      "201 호\n",
      "102 호\n",
      "101 호\n"
     ]
    }
   ],
   "source": [
    "apart = [ [101, 102], [201, 202], [301, 302] ]\n",
    "for 층 in apart[::-1]:\n",
    "    for 집 in 층[::-1]:\n",
    "        print(집,\"호\")"
   ]
  },
  {
   "cell_type": "code",
   "execution_count": 242,
   "id": "7284832f",
   "metadata": {},
   "outputs": [
    {
     "name": "stdout",
     "output_type": "stream",
     "text": [
      "101 호\n",
      "-----\n",
      "102 호\n",
      "-----\n",
      "201 호\n",
      "-----\n",
      "202 호\n",
      "-----\n",
      "301 호\n",
      "-----\n",
      "302 호\n",
      "-----\n"
     ]
    }
   ],
   "source": [
    "apart = [ [101, 102], [201, 202], [301, 302] ]\n",
    "for 층 in apart: \n",
    "    for 집 in 층:\n",
    "        print(집, \"호\")\n",
    "        print(\"-\"*5)"
   ]
  },
  {
   "cell_type": "code",
   "execution_count": 245,
   "id": "dcfa48bb",
   "metadata": {},
   "outputs": [
    {
     "name": "stdout",
     "output_type": "stream",
     "text": [
      "101 호\n",
      "102 호\n",
      "-----\n",
      "201 호\n",
      "202 호\n",
      "-----\n",
      "301 호\n",
      "302 호\n",
      "-----\n"
     ]
    }
   ],
   "source": [
    "apart = [ [101, 102], [201, 202], [301, 302] ]\n",
    "for row in apart:\n",
    "    for col in row:\n",
    "        print(col, \"호\")\n",
    "    print(\"-----\")"
   ]
  },
  {
   "cell_type": "code",
   "execution_count": 246,
   "id": "1acf5b4b",
   "metadata": {},
   "outputs": [
    {
     "name": "stdout",
     "output_type": "stream",
     "text": [
      "101 호\n",
      "102 호\n",
      "201 호\n",
      "202 호\n",
      "301 호\n",
      "302 호\n",
      "-----\n"
     ]
    }
   ],
   "source": [
    "apart = [ [101, 102], [201, 202], [301, 302] ]\n",
    "for row in apart:\n",
    "    for col in row:\n",
    "        print(col, \"호\")\n",
    "print(\"-----\")"
   ]
  },
  {
   "cell_type": "markdown",
   "id": "fb5b680c",
   "metadata": {},
   "source": [
    "# 191-200"
   ]
  },
  {
   "cell_type": "code",
   "execution_count": null,
   "id": "f209ded4",
   "metadata": {},
   "outputs": [],
   "source": [
    "#191 소수점 머야"
   ]
  },
  {
   "cell_type": "code",
   "execution_count": 251,
   "id": "9b2b4d57",
   "metadata": {},
   "outputs": [
    {
     "name": "stdout",
     "output_type": "stream",
     "text": [
      "2000.28\n",
      "3050.427\n",
      "2050.2870000000003\n",
      "1980.2772\n",
      "7501.05\n",
      "2050.2870000000003\n",
      "2050.2870000000003\n",
      "1980.2772\n",
      "15452.163\n",
      "15052.107\n",
      "15552.177\n",
      "14902.086000000001\n"
     ]
    }
   ],
   "source": [
    "data = [\n",
    "    [ 2000,  3050,  2050,  1980],\n",
    "    [ 7500,  2050,  2050,  1980],\n",
    "    [15450, 15050, 15550, 14900]\n",
    "]\n",
    "\n",
    "for a in data:\n",
    "    for b in a:\n",
    "        print(b*1.00014)"
   ]
  },
  {
   "cell_type": "code",
   "execution_count": 253,
   "id": "9f75432c",
   "metadata": {
    "scrolled": true
   },
   "outputs": [
    {
     "name": "stdout",
     "output_type": "stream",
     "text": [
      "2000.28\n",
      "3050.427\n",
      "2050.2870000000003\n",
      "1980.2772\n",
      "----\n",
      "7501.05\n",
      "2050.2870000000003\n",
      "2050.2870000000003\n",
      "1980.2772\n",
      "----\n",
      "15452.163\n",
      "15052.107\n",
      "15552.177\n",
      "14902.086000000001\n",
      "----\n"
     ]
    }
   ],
   "source": [
    "data = [\n",
    "    [ 2000,  3050,  2050,  1980],\n",
    "    [ 7500,  2050,  2050,  1980],\n",
    "    [15450, 15050, 15550, 14900]\n",
    "]\n",
    "\n",
    "for a in data:\n",
    "    for b in a:\n",
    "        print(b*1.00014)\n",
    "    print(\"-\"*4)"
   ]
  },
  {
   "cell_type": "code",
   "execution_count": 267,
   "id": "35d38af6",
   "metadata": {},
   "outputs": [
    {
     "data": {
      "text/plain": [
       "list"
      ]
     },
     "execution_count": 267,
     "metadata": {},
     "output_type": "execute_result"
    }
   ],
   "source": [
    "data = [\n",
    "    [ 2000,  3050,  2050,  1980],\n",
    "    [ 7500,  2050,  2050,  1980],\n",
    "    [15450, 15050, 15550, 14900]\n",
    "]\n",
    "\n",
    "type(data)"
   ]
  },
  {
   "cell_type": "code",
   "execution_count": 266,
   "id": "b8cbeb2c",
   "metadata": {},
   "outputs": [
    {
     "name": "stdout",
     "output_type": "stream",
     "text": [
      "[2000.28, 3050.427, 2050.2870000000003, 1980.2772, 7501.05, 2050.2870000000003, 2050.2870000000003, 1980.2772, 15452.163, 15052.107, 15552.177, 14902.086000000001]\n"
     ]
    }
   ],
   "source": [
    "data = [\n",
    "    [ 2000,  3050,  2050,  1980],\n",
    "    [ 7500,  2050,  2050,  1980],\n",
    "    [15450, 15050, 15550, 14900]\n",
    "]\n",
    "\n",
    "result=[]\n",
    "for a in data:\n",
    "    for b in a:\n",
    "        result.append(b*1.00014)\n",
    "print(result)\n"
   ]
  },
  {
   "cell_type": "code",
   "execution_count": null,
   "id": "4732a63f",
   "metadata": {},
   "outputs": [],
   "source": [
    "#194 "
   ]
  },
  {
   "cell_type": "code",
   "execution_count": 273,
   "id": "82815622",
   "metadata": {},
   "outputs": [
    {
     "name": "stdout",
     "output_type": "stream",
     "text": [
      "[[2000.28, 3050.427, 2050.2870000000003, 1980.2772], [7501.05, 2050.2870000000003, 2050.2870000000003, 1980.2772], [15452.163, 15052.107, 15552.177, 14902.086000000001]]\n"
     ]
    }
   ],
   "source": [
    "data = [\n",
    "    [ 2000,  3050,  2050,  1980],\n",
    "    [ 7500,  2050,  2050,  1980],\n",
    "    [15450, 15050, 15550, 14900]\n",
    "]\n",
    "result = []\n",
    "for line in data:\n",
    "    sub = []\n",
    "    for column in line:\n",
    "        sub.append(column * 1.00014)\n",
    "    result.append(sub)\n",
    "print(result)"
   ]
  },
  {
   "cell_type": "code",
   "execution_count": 275,
   "id": "339d58d5",
   "metadata": {},
   "outputs": [],
   "source": [
    "ohlc = [[\"open\", \"high\", \"low\", \"close\"],\n",
    "        [100, 110, 70, 100],\n",
    "        [200, 210, 180, 190],\n",
    "        [300, 310, 300, 310]]\n",
    "ohlc[1][3]\n",
    "ohlc[2][3]\n",
    "ohlc[3][3]"
   ]
  },
  {
   "cell_type": "code",
   "execution_count": 282,
   "id": "252613fc",
   "metadata": {},
   "outputs": [
    {
     "name": "stdout",
     "output_type": "stream",
     "text": [
      "100\n",
      "190\n",
      "310\n"
     ]
    }
   ],
   "source": [
    "for i in range(len(ohlc)-1):\n",
    "    print(ohlc[i+1][3])"
   ]
  },
  {
   "cell_type": "code",
   "execution_count": 284,
   "id": "44817f14",
   "metadata": {},
   "outputs": [
    {
     "name": "stdout",
     "output_type": "stream",
     "text": [
      "190\n",
      "310\n"
     ]
    }
   ],
   "source": [
    "ohlc = [[\"open\", \"high\", \"low\", \"close\"],\n",
    "        [100, 110, 70, 100],\n",
    "        [200, 210, 180, 190],\n",
    "        [300, 310, 300, 310]]\n",
    "for i in range(len(ohlc)-1):\n",
    "    b=ohlc[i+1][3]\n",
    "    if b > 150:\n",
    "        print(b)"
   ]
  },
  {
   "cell_type": "code",
   "execution_count": 287,
   "id": "41264ae3",
   "metadata": {},
   "outputs": [
    {
     "name": "stdout",
     "output_type": "stream",
     "text": [
      "100\n",
      "310\n"
     ]
    }
   ],
   "source": [
    "ohlc = [[\"open\", \"high\", \"low\", \"close\"],\n",
    "        [100, 110, 70, 100],\n",
    "        [200, 210, 180, 190],\n",
    "        [300, 310, 300, 310]]\n",
    "\n",
    "for i in ohlc[1:]:\n",
    "    if (i[3] >= i[0]):\n",
    "        print(i[3])"
   ]
  },
  {
   "cell_type": "code",
   "execution_count": 291,
   "id": "f5fe151a",
   "metadata": {},
   "outputs": [
    {
     "name": "stdout",
     "output_type": "stream",
     "text": [
      "[40, 30, 10]\n"
     ]
    }
   ],
   "source": [
    "ohlc = [[\"open\", \"high\", \"low\", \"close\"],\n",
    "        [100, 110, 70, 100],\n",
    "        [200, 210, 180, 190],\n",
    "        [300, 310, 300, 310]]\n",
    "volatility=[]\n",
    "for i in ohlc[1:]:\n",
    "    volatility.append(i[1]-i[2])\n",
    "print(volatility)"
   ]
  },
  {
   "cell_type": "code",
   "execution_count": 292,
   "id": "3681ebd3",
   "metadata": {},
   "outputs": [
    {
     "name": "stdout",
     "output_type": "stream",
     "text": [
      "10\n"
     ]
    }
   ],
   "source": [
    "ohlc = [[\"open\", \"high\", \"low\", \"close\"],\n",
    "        [100, 110, 70, 100],\n",
    "        [200, 210, 180, 190],\n",
    "        [300, 310, 300, 310]]\n",
    "\n",
    "#조건 2 \n",
    "# 종가 > 시가\n",
    "#변동성 고가 저가\n",
    "\n",
    "for i in ohlc[1:]:\n",
    "    if i[3] > i[0]:\n",
    "        print(i[1]-i[2])"
   ]
  },
  {
   "cell_type": "code",
   "execution_count": null,
   "id": "ff0aef24",
   "metadata": {},
   "outputs": [],
   "source": [
    "#200 왜 profit=0?"
   ]
  },
  {
   "cell_type": "code",
   "execution_count": 311,
   "id": "488b54ea",
   "metadata": {},
   "outputs": [
    {
     "name": "stdout",
     "output_type": "stream",
     "text": [
      "0\n"
     ]
    }
   ],
   "source": [
    "ohlc = [[\"open\", \"high\", \"low\", \"close\"],\n",
    "        [100, 110, 70, 100],\n",
    "        [200, 210, 180, 190],\n",
    "        [300, 310, 300, 310]]\n",
    "profit=0\n",
    "for i in ohlc[1:]:\n",
    "    profit += (i[3]-i[0])\n",
    "print(profit)"
   ]
  }
 ],
 "metadata": {
  "kernelspec": {
   "display_name": "Python 3 (ipykernel)",
   "language": "python",
   "name": "python3"
  },
  "language_info": {
   "codemirror_mode": {
    "name": "ipython",
    "version": 3
   },
   "file_extension": ".py",
   "mimetype": "text/x-python",
   "name": "python",
   "nbconvert_exporter": "python",
   "pygments_lexer": "ipython3",
   "version": "3.11.5"
  }
 },
 "nbformat": 4,
 "nbformat_minor": 5
}
