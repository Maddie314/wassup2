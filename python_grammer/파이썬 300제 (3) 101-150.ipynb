{
 "cells": [
  {
   "cell_type": "markdown",
   "id": "af95d7dc",
   "metadata": {},
   "source": [
    "# 101-110 파이썬 분기문"
   ]
  },
  {
   "cell_type": "code",
   "execution_count": null,
   "id": "e787e080",
   "metadata": {},
   "outputs": [],
   "source": [
    "#bool 타입"
   ]
  },
  {
   "cell_type": "code",
   "execution_count": 1,
   "id": "e88b9aff",
   "metadata": {},
   "outputs": [
    {
     "name": "stdout",
     "output_type": "stream",
     "text": [
      "False\n"
     ]
    }
   ],
   "source": [
    "print(3==5)\n",
    "#True"
   ]
  },
  {
   "cell_type": "code",
   "execution_count": 2,
   "id": "1d87c9fc",
   "metadata": {},
   "outputs": [
    {
     "name": "stdout",
     "output_type": "stream",
     "text": [
      "True\n"
     ]
    }
   ],
   "source": [
    "print(3<5)\n",
    "#True"
   ]
  },
  {
   "cell_type": "code",
   "execution_count": 3,
   "id": "0b8d77c5",
   "metadata": {},
   "outputs": [
    {
     "name": "stdout",
     "output_type": "stream",
     "text": [
      "True\n"
     ]
    }
   ],
   "source": [
    "x = 4\n",
    "print(1 < x <5)\n",
    "#True"
   ]
  },
  {
   "cell_type": "code",
   "execution_count": 4,
   "id": "83a30401",
   "metadata": {},
   "outputs": [
    {
     "name": "stdout",
     "output_type": "stream",
     "text": [
      "True\n"
     ]
    }
   ],
   "source": [
    "print((3==3) and (4!=3))\n",
    "#True"
   ]
  },
  {
   "cell_type": "code",
   "execution_count": 5,
   "id": "555fe154",
   "metadata": {},
   "outputs": [
    {
     "ename": "SyntaxError",
     "evalue": "expression cannot contain assignment, perhaps you meant \"==\"? (3491976349.py, line 1)",
     "output_type": "error",
     "traceback": [
      "\u001b[1;36m  Cell \u001b[1;32mIn[5], line 1\u001b[1;36m\u001b[0m\n\u001b[1;33m    print(3 => 4)\u001b[0m\n\u001b[1;37m          ^\u001b[0m\n\u001b[1;31mSyntaxError\u001b[0m\u001b[1;31m:\u001b[0m expression cannot contain assignment, perhaps you meant \"==\"?\n"
     ]
    }
   ],
   "source": [
    "print(3 => 4)\n",
    "#같거나라는 조건이 있어서?\n",
    "#정답: 지원하지 않는 연산자임."
   ]
  },
  {
   "cell_type": "code",
   "execution_count": 6,
   "id": "c119c70d",
   "metadata": {},
   "outputs": [],
   "source": [
    "if 4 < 3:\n",
    "    print(\"Hello World\")\n",
    "#조건을 충족하지 않아 아무 결과도 안나옴"
   ]
  },
  {
   "cell_type": "code",
   "execution_count": 7,
   "id": "7b777819",
   "metadata": {},
   "outputs": [
    {
     "name": "stdout",
     "output_type": "stream",
     "text": [
      "Hi, there\n"
     ]
    }
   ],
   "source": [
    "if 4 < 3:\n",
    "    print(\"Hello World\")\n",
    "else:\n",
    "    print(\"Hi, there\")\n",
    "    \n",
    "# Hi, there이 나온다"
   ]
  },
  {
   "cell_type": "code",
   "execution_count": null,
   "id": "67bde0f2",
   "metadata": {},
   "outputs": [],
   "source": [
    "# 109"
   ]
  },
  {
   "cell_type": "code",
   "execution_count": 12,
   "id": "ad37a1dc",
   "metadata": {},
   "outputs": [
    {
     "name": "stdout",
     "output_type": "stream",
     "text": [
      "1\n",
      "2\n",
      "4\n"
     ]
    }
   ],
   "source": [
    "if True:\n",
    "    print(\"1\")\n",
    "    print(\"2\")\n",
    "else:\n",
    "    print(\"3\")\n",
    "print(\"4\")"
   ]
  },
  {
   "cell_type": "code",
   "execution_count": null,
   "id": "92287786",
   "metadata": {},
   "outputs": [],
   "source": [
    "# 110"
   ]
  },
  {
   "cell_type": "code",
   "execution_count": 13,
   "id": "505e3a06",
   "metadata": {},
   "outputs": [
    {
     "name": "stdout",
     "output_type": "stream",
     "text": [
      "3\n",
      "5\n"
     ]
    }
   ],
   "source": [
    "if True:\n",
    "    if False:\n",
    "        print(\"1\")\n",
    "        print(\"2\")\n",
    "    else:\n",
    "        print(\"3\")\n",
    "else:\n",
    "    print(\"4\")\n",
    "print(\"5\")"
   ]
  },
  {
   "cell_type": "markdown",
   "id": "88ef0438",
   "metadata": {},
   "source": [
    "# 111-120"
   ]
  },
  {
   "cell_type": "code",
   "execution_count": 16,
   "id": "92f5a34e",
   "metadata": {},
   "outputs": [
    {
     "name": "stdout",
     "output_type": "stream",
     "text": [
      "안녕하세요안녕하세요\n"
     ]
    }
   ],
   "source": [
    "a= \"안녕하세요\"\n",
    "print(a*2)"
   ]
  },
  {
   "cell_type": "markdown",
   "id": "b508ae08",
   "metadata": {},
   "source": [
    "input( )"
   ]
  },
  {
   "cell_type": "code",
   "execution_count": 17,
   "id": "41991cb4",
   "metadata": {},
   "outputs": [
    {
     "name": "stdout",
     "output_type": "stream",
     "text": [
      "입력:안녕하세요\n",
      "안녕하세요안녕하세요\n"
     ]
    }
   ],
   "source": [
    "user = input(\"입력:\")\n",
    "print(user * 2)"
   ]
  },
  {
   "cell_type": "code",
   "execution_count": 18,
   "id": "ab8ff114",
   "metadata": {},
   "outputs": [
    {
     "name": "stdout",
     "output_type": "stream",
     "text": [
      "입력:헤헤\n",
      "헤헤헤헤\n"
     ]
    }
   ],
   "source": [
    "user = input('입력:')\n",
    "print(user*2)"
   ]
  },
  {
   "cell_type": "code",
   "execution_count": 20,
   "id": "cb1baf18",
   "metadata": {},
   "outputs": [
    {
     "name": "stdout",
     "output_type": "stream",
     "text": [
      "이름:심현정\n",
      "나이:18세\n",
      "내 이름은 심현정18세\n"
     ]
    }
   ],
   "source": [
    "name = input('이름:')\n",
    "age = input('나이:')\n",
    "print(\"내 이름은\", name+age)"
   ]
  },
  {
   "cell_type": "code",
   "execution_count": null,
   "id": "60058b86",
   "metadata": {},
   "outputs": [],
   "source": [
    "#요소의 형태를 주의하자 str+int X int+int0"
   ]
  },
  {
   "cell_type": "code",
   "execution_count": 30,
   "id": "35717cdd",
   "metadata": {},
   "outputs": [
    {
     "name": "stdout",
     "output_type": "stream",
     "text": [
      "숫자를 입력하세요:30\n",
      "40\n"
     ]
    }
   ],
   "source": [
    "number = input(\"숫자를 입력하세요:\")\n",
    "print(int(number)+10)"
   ]
  },
  {
   "cell_type": "code",
   "execution_count": 36,
   "id": "3bf52cb3",
   "metadata": {},
   "outputs": [
    {
     "name": "stdout",
     "output_type": "stream",
     "text": [
      "숫자를 입력하세요:2\n",
      "짝수\n"
     ]
    }
   ],
   "source": [
    "number = input(\"숫자를 입력하세요:\")\n",
    "if int(number)%2 == 0:\n",
    "    print(\"짝수\")\n",
    "else:\n",
    "    print(\"홀수\")"
   ]
  },
  {
   "cell_type": "code",
   "execution_count": 39,
   "id": "75c54da3",
   "metadata": {},
   "outputs": [
    {
     "name": "stdout",
     "output_type": "stream",
     "text": [
      "값을 입력하세요:300\n",
      "255\n"
     ]
    }
   ],
   "source": [
    "number = input(\"값을 입력하세요:\")\n",
    "if int(number)+20 > 255:\n",
    "    print(\"255\")\n",
    "else:\n",
    "    print(int(number)+20)"
   ]
  },
  {
   "cell_type": "code",
   "execution_count": 40,
   "id": "0a37643e",
   "metadata": {},
   "outputs": [
    {
     "name": "stdout",
     "output_type": "stream",
     "text": [
      "값을 입력하세요:300\n",
      "255\n"
     ]
    }
   ],
   "source": [
    "number = input(\"값을 입력하세요:\")\n",
    "num = int(number) +20\n",
    "if num > 255:\n",
    "    print(255)\n",
    "else:\n",
    "    print(num)"
   ]
  },
  {
   "cell_type": "code",
   "execution_count": 46,
   "id": "52a6fb37",
   "metadata": {},
   "outputs": [
    {
     "name": "stdout",
     "output_type": "stream",
     "text": [
      "값을 입력하세요:30\n",
      "10\n"
     ]
    }
   ],
   "source": [
    "user = input(\"값을 입력하세요:\")\n",
    "num = int(user)-20\n",
    "if num > 255:\n",
    "    print(255)\n",
    "elif num < 0:\n",
    "     print(0)\n",
    "else:\n",
    "    print(num)"
   ]
  },
  {
   "cell_type": "code",
   "execution_count": null,
   "id": "267b9076",
   "metadata": {},
   "outputs": [],
   "source": [
    "#116"
   ]
  },
  {
   "cell_type": "code",
   "execution_count": 54,
   "id": "b59b90b7",
   "metadata": {},
   "outputs": [
    {
     "name": "stdout",
     "output_type": "stream",
     "text": [
      "현재시간:4시30분\n",
      "정각이 아닙니다.\n"
     ]
    }
   ],
   "source": [
    "time = input(\"현재시간:\")\n",
    "if time[-2:] == \"00\":\n",
    "    print(\"정각 입니다.\")\n",
    "elif time[-1] == \"시\": \n",
    "    print(\"정각 입니다\")\n",
    "elif time[-1] == \"분\":\n",
    "    print(\"정각이 아닙니다.\")\n",
    "else:\n",
    "    print(\"정각이 아닙니다.\")"
   ]
  },
  {
   "cell_type": "code",
   "execution_count": 57,
   "id": "62e0a34f",
   "metadata": {},
   "outputs": [
    {
     "name": "stdout",
     "output_type": "stream",
     "text": [
      "좋아하는 과일은?:파인애플\n",
      "오답입니다.\n"
     ]
    }
   ],
   "source": [
    "fruit = [\"사과\", \"포도\", \"홍시\"]\n",
    "user = input(\"좋아하는 과일은?:\")\n",
    "if user in fruit:\n",
    "    print(\"정답입니다.\")\n",
    "else:\n",
    "    print(\"오답입니다.\")"
   ]
  },
  {
   "cell_type": "code",
   "execution_count": 59,
   "id": "e17a217d",
   "metadata": {},
   "outputs": [
    {
     "name": "stdout",
     "output_type": "stream",
     "text": [
      "종목명을 입력해주세요:네이버\n",
      "투자 경고 종목이 아닙니다\n"
     ]
    }
   ],
   "source": [
    "warn_investment_list = [\"Microsoft\", \"Google\", \"Naver\", \"Kakao\", \"SAMSUNG\", \"LG\"]\n",
    "user = input(\"종목명을 입력해주세요:\")\n",
    "\n",
    "if user in warn_investment_list:\n",
    "    print(\"투자 경고 종목입니다\")\n",
    "else:\n",
    "    print(\"투자 경고 종목이 아닙니다\")"
   ]
  },
  {
   "cell_type": "code",
   "execution_count": 62,
   "id": "abe16f33",
   "metadata": {},
   "outputs": [
    {
     "name": "stdout",
     "output_type": "stream",
     "text": [
      "제가 좋아하는 계절은:토마토\n",
      "오답입니다\n"
     ]
    }
   ],
   "source": [
    "fruit = {\"봄\" : \"딸기\", \"여름\" : \"토마토\", \"가을\" : \"사과\"}\n",
    "\n",
    "user = input(\"제가 좋아하는 계절은:\")\n",
    "if user in fruit:\n",
    "    print(\"정답입니다\")\n",
    "else:\n",
    "    print(\"오답입니다\")"
   ]
  },
  {
   "cell_type": "code",
   "execution_count": 64,
   "id": "c74e6bd1",
   "metadata": {},
   "outputs": [
    {
     "name": "stdout",
     "output_type": "stream",
     "text": [
      "좋아하는 과일은?한라봉\n",
      "오답입니다\n"
     ]
    }
   ],
   "source": [
    "fruit = {\"봄\" : \"딸기\", \"여름\" : \"토마토\", \"가을\" : \"사과\"}\n",
    "user = input(\"좋아하는 과일은?\")\n",
    "if user in fruit.values():\n",
    "    print(\"정답입니다\")\n",
    "else:\n",
    "    print(\"오답입니다\")"
   ]
  },
  {
   "cell_type": "markdown",
   "id": "8eee28e0",
   "metadata": {},
   "source": [
    "# 121-130"
   ]
  },
  {
   "cell_type": "code",
   "execution_count": null,
   "id": "0745182c",
   "metadata": {},
   "outputs": [],
   "source": [
    "# islower()함수는 소문자영부를 판별한다"
   ]
  },
  {
   "cell_type": "code",
   "execution_count": 68,
   "id": "f0a880c5",
   "metadata": {},
   "outputs": [
    {
     "name": "stdout",
     "output_type": "stream",
     "text": [
      "문자를 입력하세요:J\n",
      "J\n"
     ]
    }
   ],
   "source": [
    "user = input(\"문자를 입력하세요:\")\n",
    "if user.islower():\n",
    "    print(user.lower())\n",
    "else:\n",
    "    print(user.upper())"
   ]
  },
  {
   "cell_type": "code",
   "execution_count": 2,
   "id": "7d51ae8f",
   "metadata": {},
   "outputs": [
    {
     "name": "stdout",
     "output_type": "stream",
     "text": [
      "점수를 입력하세요23\n",
      "grade is: D\n"
     ]
    }
   ],
   "source": [
    "score = input(\"점수를 입력하세요\")\n",
    "score = int(score)\n",
    "if 81 <= score <= 100: \n",
    "    print(\"grade is: A\")\n",
    "elif 61 <= score <= 80: \n",
    "    print(\"grade is: B\")\n",
    "elif 41 <= score <= 60: \n",
    "    print(\"grade is: C\")\n",
    "elif 21 <= score <= 40: \n",
    "    print(\"grade is: D\")\n",
    "else:\n",
    "     print(\"grade is: E\")"
   ]
  },
  {
   "cell_type": "code",
   "execution_count": null,
   "id": "e25e44f4",
   "metadata": {},
   "outputs": [],
   "source": [
    "#123"
   ]
  },
  {
   "cell_type": "code",
   "execution_count": 9,
   "id": "36b7197e",
   "metadata": {},
   "outputs": [
    {
     "name": "stdout",
     "output_type": "stream",
     "text": [
      "입력:  12 달러\n",
      "14004.0 원\n"
     ]
    }
   ],
   "source": [
    "환율 ={'달러':1167,'엔': 1.096,'유로': 1268,'위안':171}\n",
    "user = input(\"입력:  \")\n",
    "num, currency = user.split()\n",
    "print(float(num)*환율 [currency],\"원\")"
   ]
  },
  {
   "cell_type": "code",
   "execution_count": null,
   "id": "ccf6d6ab",
   "metadata": {},
   "outputs": [],
   "source": [
    "#124"
   ]
  },
  {
   "cell_type": "code",
   "execution_count": 13,
   "id": "a9241b30",
   "metadata": {},
   "outputs": [
    {
     "name": "stdout",
     "output_type": "stream",
     "text": [
      "숫자를 입력하세요:10\n",
      "숫자를 입력하세요:9\n",
      "숫자를 입력하세요:20\n",
      "20\n"
     ]
    }
   ],
   "source": [
    "num1 = input(\"숫자를 입력하세요:\")\n",
    "num2 = input(\"숫자를 입력하세요:\")\n",
    "num3 = input(\"숫자를 입력하세요:\")\n",
    "num1 = int(num1)\n",
    "num2 = int(num2)\n",
    "num3 = int(num3)\n",
    "\n",
    "if num1 >= num2 and num1 >= num3:\n",
    "    print(num1)\n",
    "elif num2 >= num1 and num2 >= num3:\n",
    "    print(num2)\n",
    "else:\n",
    "    print(num3)"
   ]
  },
  {
   "cell_type": "code",
   "execution_count": null,
   "id": "4874a125",
   "metadata": {},
   "outputs": [],
   "source": [
    "#125"
   ]
  },
  {
   "cell_type": "code",
   "execution_count": 28,
   "id": "efcddb16",
   "metadata": {},
   "outputs": [
    {
     "name": "stdout",
     "output_type": "stream",
     "text": [
      "휴대전화 번호 입력:016\n",
      "당신은 KT 사용자입니다.\n"
     ]
    }
   ],
   "source": [
    "phone = input(\"휴대전화 번호 입력:\")\n",
    "phone=phone.split(\"-\")[0]\n",
    "if phone == \"010\":\n",
    "    print(\"당신은 SKT 사용자입니다.\")\n",
    "elif phone == \"016\":\n",
    "    print(\"당신은 KT 사용자입니다.\")\n",
    "elif phone == \"019\":\n",
    "    print(\"당신은 LGU 사용자입니다.\")\n",
    "else:\n",
    "    print(\"알수없음\")"
   ]
  },
  {
   "cell_type": "code",
   "execution_count": 29,
   "id": "37f94afc",
   "metadata": {},
   "outputs": [
    {
     "name": "stdout",
     "output_type": "stream",
     "text": [
      "휴대전화 번호 입력:010-8660\n",
      "당신은 SKT사용자입니다.\n"
     ]
    }
   ],
   "source": [
    "phone = input(\"휴대전화 번호 입력:\")\n",
    "phone=phone.split(\"-\")[0]\n",
    "if phone == \"010\":\n",
    "    com = \"SKT\"\n",
    "elif phone == \"016\":\n",
    "    com = \"KT\"\n",
    "elif phone == \"019\":\n",
    "    com = \"LGU\"\n",
    "else:\n",
    "    com = \"알수없음\"\n",
    "print(f'당신은 {com}사용자입니다.')"
   ]
  },
  {
   "cell_type": "code",
   "execution_count": null,
   "id": "ecfe6be6",
   "metadata": {},
   "outputs": [],
   "source": [
    "#126"
   ]
  },
  {
   "cell_type": "code",
   "execution_count": 46,
   "id": "30bd830a",
   "metadata": {},
   "outputs": [
    {
     "name": "stdout",
     "output_type": "stream",
     "text": [
      "우편번호:01356\n",
      "도봉구\n"
     ]
    }
   ],
   "source": [
    "post = input(\"우편번호:\")\n",
    "post= post[:3]\n",
    "if post in [\"010\",\"011\",\"012\"]:\n",
    "    print(\"강북구\")\n",
    "elif post in [\"013\", \"014\", \"015\"]:\n",
    "    print(\"도봉구\")\n",
    "else:\n",
    "    print(\"노원구\")\n",
    "    \n",
    "#01023"
   ]
  },
  {
   "cell_type": "code",
   "execution_count": null,
   "id": "736d83f8",
   "metadata": {},
   "outputs": [],
   "source": [
    "post = input(\"우편번호:\")\n",
    "post= post[:3]\n",
    "if post in [\"010\",\"011\",\"012\"]:\n",
    "    print(\"강북구\")\n",
    "elif post in [\"013\", \"014\", \"015\"]:\n",
    "    print(\"도봉구\")\n",
    "else:\n",
    "    print(\"노원구\")\n",
    "    \n",
    "#01023"
   ]
  },
  {
   "cell_type": "code",
   "execution_count": 56,
   "id": "886faa31",
   "metadata": {},
   "outputs": [
    {
     "name": "stdout",
     "output_type": "stream",
     "text": [
      "주민등록번호:821010-2635210\n",
      "여자\n"
     ]
    }
   ],
   "source": [
    "num = input(\"주민등록번호:\")\n",
    "num=num[7]\n",
    "if num == \"1\" or num == \"3\":\n",
    "    print(\"남자\")\n",
    "else:\n",
    "    print(\"여자\")"
   ]
  },
  {
   "cell_type": "code",
   "execution_count": null,
   "id": "fc928101",
   "metadata": {},
   "outputs": [],
   "source": [
    "#128"
   ]
  },
  {
   "cell_type": "code",
   "execution_count": 63,
   "id": "7e2617e3",
   "metadata": {},
   "outputs": [
    {
     "name": "stdout",
     "output_type": "stream",
     "text": [
      "주민등록번호:821010-1635210\n",
      "서울이 아닙니다\n"
     ]
    }
   ],
   "source": [
    "num = input(\"주민등록번호:\")\n",
    "num=int(num[8:10])\n",
    "if 0 <= num <=8:\n",
    "    print('서울입니다.')\n",
    "else:\n",
    "    print(\"서울이 아닙니다\")\n"
   ]
  },
  {
   "cell_type": "code",
   "execution_count": null,
   "id": "4bdd4ed2",
   "metadata": {},
   "outputs": [],
   "source": [
    "#129"
   ]
  },
  {
   "cell_type": "code",
   "execution_count": 128,
   "id": "1676c9ab",
   "metadata": {},
   "outputs": [
    {
     "name": "stdout",
     "output_type": "stream",
     "text": [
      "주민등록번호:821010-1635210\n",
      "유효하지 않은 주민등록번호입니다\n"
     ]
    }
   ],
   "source": [
    "num=input(\"주민등록번호:\")\n",
    "계산 =  int(num[0]) * 2 + int(num[1]) * 3 + int(num[2]) * 4 + int(num[3]) * 5 + int(num[4]) * 6 + \\\n",
    "        int(num[5]) * 7 + int(num[7]) * 8 + int(num[8]) * 9 + int(num[9]) * 2 + int(num[10])* 3 + \\\n",
    "        int(num[11])* 4 + int(num[12]) * 5\n",
    "계산2 = 11-계산\n",
    "if num[-1] == str(계산2):\n",
    "    print(\"유효한 주민등록번호입니다\")\n",
    "else:\n",
    "    print(\"유효하지 않은 주민등록번호입니다\")"
   ]
  },
  {
   "cell_type": "code",
   "execution_count": null,
   "id": "40c4a6d5",
   "metadata": {},
   "outputs": [],
   "source": [
    "#130"
   ]
  },
  {
   "cell_type": "code",
   "execution_count": 125,
   "id": "23d8c58a",
   "metadata": {},
   "outputs": [
    {
     "name": "stdout",
     "output_type": "stream",
     "text": [
      "상승장\n"
     ]
    }
   ],
   "source": [
    "import requests\n",
    "btc = requests.get(\"https://api.bithumb.com/public/ticker/\").json()['data']\n",
    "\n",
    "변동폭=int(btc['max_price'])-int(btc['min_price'])\n",
    "최고가=int(btc['max_price'])\n",
    "시가=int(btc['opening_price'])\n",
    "\n",
    "if 시가+변동폭 > 최고가:\n",
    "    print('상승장')\n",
    "else:\n",
    "    print(\"하락장\")"
   ]
  },
  {
   "cell_type": "markdown",
   "id": "cb3ab09f",
   "metadata": {},
   "source": [
    "# 131-140"
   ]
  },
  {
   "cell_type": "code",
   "execution_count": 64,
   "id": "b3a9eb44",
   "metadata": {},
   "outputs": [
    {
     "name": "stdout",
     "output_type": "stream",
     "text": [
      "사과\n",
      "귤\n",
      "수박\n"
     ]
    }
   ],
   "source": [
    "과일 = [\"사과\", \"귤\", \"수박\"]\n",
    "for 변수 in 과일:\n",
    "    print(변수)"
   ]
  },
  {
   "cell_type": "code",
   "execution_count": 65,
   "id": "84de87f1",
   "metadata": {},
   "outputs": [
    {
     "name": "stdout",
     "output_type": "stream",
     "text": [
      "#####\n",
      "#####\n",
      "#####\n"
     ]
    }
   ],
   "source": [
    "과일 = [\"사과\", \"귤\", \"수박\"]\n",
    "for 변수 in 과일:\n",
    "  print(\"#####\")"
   ]
  },
  {
   "cell_type": "code",
   "execution_count": 67,
   "id": "23b1e638",
   "metadata": {
    "scrolled": true
   },
   "outputs": [
    {
     "name": "stdout",
     "output_type": "stream",
     "text": [
      "A\n",
      "B\n",
      "C\n"
     ]
    }
   ],
   "source": [
    "알파벳 = [\"A\", \"B\", \"C\"]\n",
    "for 변수 in 알파벳:\n",
    "  print(변수)"
   ]
  },
  {
   "cell_type": "code",
   "execution_count": 68,
   "id": "52198d53",
   "metadata": {},
   "outputs": [
    {
     "name": "stdout",
     "output_type": "stream",
     "text": [
      "출력: A\n",
      "출력: B\n",
      "출력: C\n"
     ]
    }
   ],
   "source": [
    "for 변수 in [\"A\", \"B\", \"C\"]:\n",
    "  print(\"출력:\", 변수)"
   ]
  },
  {
   "cell_type": "code",
   "execution_count": 70,
   "id": "d33b713a",
   "metadata": {},
   "outputs": [
    {
     "name": "stdout",
     "output_type": "stream",
     "text": [
      "출력 A\n",
      "출력 A\n"
     ]
    }
   ],
   "source": [
    "변수 = 'A'\n",
    "print(\"출력\", 변수)\n",
    "\n",
    "print('출력', \"A\")"
   ]
  },
  {
   "cell_type": "code",
   "execution_count": 73,
   "id": "9790d2a9",
   "metadata": {},
   "outputs": [
    {
     "name": "stdout",
     "output_type": "stream",
     "text": [
      "변환: a\n",
      "변환: b\n",
      "변환: c\n"
     ]
    },
    {
     "data": {
      "text/plain": [
       "'a'"
      ]
     },
     "execution_count": 73,
     "metadata": {},
     "output_type": "execute_result"
    }
   ],
   "source": [
    "for 변수 in [\"A\", \"B\", \"C\"]:\n",
    "  b = 변수.lower()\n",
    "  print(\"변환:\", b)\n",
    "\"A\".lower()"
   ]
  },
  {
   "cell_type": "code",
   "execution_count": 75,
   "id": "e8a2dc79",
   "metadata": {},
   "outputs": [
    {
     "name": "stdout",
     "output_type": "stream",
     "text": [
      "변환: a\n",
      "변환: b\n",
      "변환: c\n"
     ]
    }
   ],
   "source": [
    "print(\"변환:\",\"A\".lower())\n",
    "print(\"변환:\",\"B\".lower())\n",
    "print(\"변환:\",\"C\".lower())"
   ]
  },
  {
   "cell_type": "code",
   "execution_count": 76,
   "id": "380148b9",
   "metadata": {},
   "outputs": [
    {
     "name": "stdout",
     "output_type": "stream",
     "text": [
      "10\n",
      "20\n",
      "30\n"
     ]
    }
   ],
   "source": [
    "변수=[10,20,30]\n",
    "for a in 변수:\n",
    "    print(a)"
   ]
  },
  {
   "cell_type": "code",
   "execution_count": 77,
   "id": "63c09d3d",
   "metadata": {},
   "outputs": [
    {
     "name": "stdout",
     "output_type": "stream",
     "text": [
      "10\n",
      "20\n",
      "30\n"
     ]
    }
   ],
   "source": [
    "for a in [10,20,30]:\n",
    "    print(a)"
   ]
  },
  {
   "cell_type": "code",
   "execution_count": 78,
   "id": "5eddcb13",
   "metadata": {},
   "outputs": [
    {
     "name": "stdout",
     "output_type": "stream",
     "text": [
      "10\n",
      "-------\n",
      "20\n",
      "-------\n",
      "30\n",
      "-------\n"
     ]
    }
   ],
   "source": [
    "for a in [10,20,30]:\n",
    "    print(a)\n",
    "    print(\"-------\")"
   ]
  },
  {
   "cell_type": "code",
   "execution_count": 80,
   "id": "9246efd6",
   "metadata": {},
   "outputs": [
    {
     "name": "stdout",
     "output_type": "stream",
     "text": [
      "++++\n",
      "10\n",
      "20\n",
      "30\n"
     ]
    }
   ],
   "source": [
    "print(\"++++\")\n",
    "for a in [10,20,30]:\n",
    "    print(a)"
   ]
  },
  {
   "cell_type": "code",
   "execution_count": 83,
   "id": "34397504",
   "metadata": {},
   "outputs": [
    {
     "name": "stdout",
     "output_type": "stream",
     "text": [
      "------\n",
      "------\n",
      "------\n",
      "------\n"
     ]
    }
   ],
   "source": [
    "for a in [1,2,3,4]:\n",
    "    print('------')"
   ]
  },
  {
   "cell_type": "markdown",
   "id": "35be0729",
   "metadata": {},
   "source": [
    "# 141-150"
   ]
  },
  {
   "cell_type": "code",
   "execution_count": 84,
   "id": "02d2dbb2",
   "metadata": {},
   "outputs": [
    {
     "name": "stdout",
     "output_type": "stream",
     "text": [
      "110\n",
      "210\n",
      "310\n"
     ]
    }
   ],
   "source": [
    "리스트 = [100, 200, 300]\n",
    "for a in 리스트:\n",
    "    print(a+10)"
   ]
  },
  {
   "cell_type": "code",
   "execution_count": 88,
   "id": "0a8fe762",
   "metadata": {},
   "outputs": [
    {
     "name": "stdout",
     "output_type": "stream",
     "text": [
      "오늘의 메뉴: 김밥\n",
      "오늘의 메뉴: 라면\n",
      "오늘의 메뉴: 튀김\n"
     ]
    }
   ],
   "source": [
    "리스트 = [\"김밥\", \"라면\", \"튀김\"]\n",
    "for a in 리스트:\n",
    "    print(\"오늘의 메뉴:\",a)"
   ]
  },
  {
   "cell_type": "code",
   "execution_count": 89,
   "id": "7a6ce691",
   "metadata": {},
   "outputs": [
    {
     "name": "stdout",
     "output_type": "stream",
     "text": [
      "6\n",
      "4\n",
      "4\n"
     ]
    }
   ],
   "source": [
    "리스트 = [\"SK하이닉스\", \"삼성전자\", \"LG전자\"]\n",
    "for a in 리스트:\n",
    "    print(len(a))"
   ]
  },
  {
   "cell_type": "code",
   "execution_count": 90,
   "id": "be2a6612",
   "metadata": {},
   "outputs": [
    {
     "name": "stdout",
     "output_type": "stream",
     "text": [
      "dog 3\n",
      "cat 3\n",
      "parrot 6\n"
     ]
    }
   ],
   "source": [
    "리스트 = ['dog', 'cat', 'parrot']\n",
    "for a in 리스트:\n",
    "    print(a, len(a))"
   ]
  },
  {
   "cell_type": "code",
   "execution_count": 92,
   "id": "c0e54d3c",
   "metadata": {},
   "outputs": [
    {
     "name": "stdout",
     "output_type": "stream",
     "text": [
      "d\n",
      "c\n",
      "p\n"
     ]
    }
   ],
   "source": [
    "리스트 = ['dog', 'cat', 'parrot']\n",
    "for a in 리스트:\n",
    "    print(a[0])"
   ]
  },
  {
   "cell_type": "code",
   "execution_count": 94,
   "id": "f2c5c721",
   "metadata": {},
   "outputs": [
    {
     "name": "stdout",
     "output_type": "stream",
     "text": [
      "3 x 1\n",
      "3 x 2\n",
      "3 x 3\n"
     ]
    }
   ],
   "source": [
    "리스트 = [1, 2, 3]\n",
    "for a in 리스트:\n",
    "    print(\"3 x\",a)"
   ]
  },
  {
   "cell_type": "code",
   "execution_count": 96,
   "id": "ec62ddc3",
   "metadata": {},
   "outputs": [
    {
     "name": "stdout",
     "output_type": "stream",
     "text": [
      "나\n",
      "다\n",
      "라\n"
     ]
    }
   ],
   "source": [
    "리스트 = [\"가\", \"나\", \"다\", \"라\"]\n",
    "for a in 리스트[1:]:\n",
    "    print(a)"
   ]
  },
  {
   "cell_type": "code",
   "execution_count": null,
   "id": "ef208bed",
   "metadata": {},
   "outputs": [],
   "source": [
    "#리스트 슬라이싱 [시작:끝:증감폭] 퐁당퐁당 꺼내고 싶을 때"
   ]
  },
  {
   "cell_type": "code",
   "execution_count": 103,
   "id": "b16ac409",
   "metadata": {},
   "outputs": [
    {
     "name": "stdout",
     "output_type": "stream",
     "text": [
      "가\n",
      "다\n"
     ]
    }
   ],
   "source": [
    "리스트 = [\"가\", \"나\", \"다\", \"라\"]\n",
    "for a in 리스트[::2]:\n",
    "    print(a)"
   ]
  },
  {
   "cell_type": "code",
   "execution_count": null,
   "id": "9bf5a182",
   "metadata": {},
   "outputs": [],
   "source": [
    "#150 -리스트 형태를 역순으로 -> [시작:끝:증감폭] 활용"
   ]
  },
  {
   "cell_type": "code",
   "execution_count": 114,
   "id": "4ffd9afa",
   "metadata": {},
   "outputs": [
    {
     "name": "stdout",
     "output_type": "stream",
     "text": [
      "라\n",
      "나\n"
     ]
    }
   ],
   "source": [
    "리스트 = [\"가\", \"나\", \"다\", \"라\"]\n",
    "for a in 리스트[::-1]:\n",
    "    print(a)"
   ]
  }
 ],
 "metadata": {
  "kernelspec": {
   "display_name": "Python 3 (ipykernel)",
   "language": "python",
   "name": "python3"
  },
  "language_info": {
   "codemirror_mode": {
    "name": "ipython",
    "version": 3
   },
   "file_extension": ".py",
   "mimetype": "text/x-python",
   "name": "python",
   "nbconvert_exporter": "python",
   "pygments_lexer": "ipython3",
   "version": "3.11.5"
  }
 },
 "nbformat": 4,
 "nbformat_minor": 5
}
