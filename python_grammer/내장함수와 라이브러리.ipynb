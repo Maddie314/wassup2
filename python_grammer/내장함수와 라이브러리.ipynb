{
 "cells": [
  {
   "cell_type": "markdown",
   "id": "68bb7778",
   "metadata": {},
   "source": [
    "# 내장함수"
   ]
  },
  {
   "cell_type": "markdown",
   "id": "4ec2ed39",
   "metadata": {},
   "source": [
    "abs(x)는 어떤 숫자를 입력받았을 때 그 숫자의 절댓값을 리턴하는 함수이다."
   ]
  },
  {
   "cell_type": "code",
   "execution_count": 1,
   "id": "51bd1b9b",
   "metadata": {},
   "outputs": [
    {
     "data": {
      "text/plain": [
       "3"
      ]
     },
     "execution_count": 1,
     "metadata": {},
     "output_type": "execute_result"
    }
   ],
   "source": [
    "abs(3)"
   ]
  },
  {
   "cell_type": "code",
   "execution_count": 2,
   "id": "fd9bb058",
   "metadata": {},
   "outputs": [
    {
     "data": {
      "text/plain": [
       "3"
      ]
     },
     "execution_count": 2,
     "metadata": {},
     "output_type": "execute_result"
    }
   ],
   "source": [
    "abs(-3)"
   ]
  },
  {
   "cell_type": "markdown",
   "id": "5954e9bf",
   "metadata": {},
   "source": [
    "```\n",
    "all(x)는 반복 가능한 데이터 x를 입력값으로 받으며\n",
    "x의 요소가 모두 참이면 True, \n",
    "거짓이 하나라도 있으면 False를 리턴한다.\n",
    "\n",
    "* 반복 가능 데이터(for구문에서): 리스트, 튜플, 문자열, 딕셔너리, 집합 등\n",
    "```"
   ]
  },
  {
   "cell_type": "code",
   "execution_count": 3,
   "id": "9d7fc0b7",
   "metadata": {},
   "outputs": [
    {
     "data": {
      "text/plain": [
       "True"
      ]
     },
     "execution_count": 3,
     "metadata": {},
     "output_type": "execute_result"
    }
   ],
   "source": [
    "all([1, 2, 3])"
   ]
  },
  {
   "cell_type": "code",
   "execution_count": 5,
   "id": "695563e3",
   "metadata": {},
   "outputs": [
    {
     "data": {
      "text/plain": [
       "False"
      ]
     },
     "execution_count": 5,
     "metadata": {},
     "output_type": "execute_result"
    }
   ],
   "source": [
    "all([1, 2, 3, 0]) #0이 거짓"
   ]
  },
  {
   "cell_type": "code",
   "execution_count": 3,
   "id": "5aef245e",
   "metadata": {},
   "outputs": [
    {
     "data": {
      "text/plain": [
       "True"
      ]
     },
     "execution_count": 3,
     "metadata": {},
     "output_type": "execute_result"
    }
   ],
   "source": [
    "all([]) # 인수가 빈 값은 True"
   ]
  },
  {
   "cell_type": "markdown",
   "id": "1dcaad0a",
   "metadata": {},
   "source": [
    "# any\n",
    "\n",
    "```\n",
    "x의 요소 중 하나라도 참 -> True\n",
    "x가 모두 거짓일 때 -> False\n",
    "```"
   ]
  },
  {
   "cell_type": "code",
   "execution_count": 4,
   "id": "b6a46532",
   "metadata": {},
   "outputs": [
    {
     "data": {
      "text/plain": [
       "True"
      ]
     },
     "execution_count": 4,
     "metadata": {},
     "output_type": "execute_result"
    }
   ],
   "source": [
    "any([1, 2, 3, 0])"
   ]
  },
  {
   "cell_type": "code",
   "execution_count": 5,
   "id": "88cdc949",
   "metadata": {},
   "outputs": [
    {
     "data": {
      "text/plain": [
       "False"
      ]
     },
     "execution_count": 5,
     "metadata": {},
     "output_type": "execute_result"
    }
   ],
   "source": [
    "any([0, \"\"]) #모두 거짓"
   ]
  },
  {
   "cell_type": "code",
   "execution_count": null,
   "id": "e8ac5209",
   "metadata": {},
   "outputs": [],
   "source": [
    "any([])"
   ]
  },
  {
   "cell_type": "markdown",
   "id": "59f43795",
   "metadata": {},
   "source": [
    "# chr\n",
    "\n",
    "유니코드 숫자를 입력받아 해당하는 문자 리턴"
   ]
  },
  {
   "cell_type": "code",
   "execution_count": 7,
   "id": "78ba2b50",
   "metadata": {},
   "outputs": [
    {
     "data": {
      "text/plain": [
       "'a'"
      ]
     },
     "execution_count": 7,
     "metadata": {},
     "output_type": "execute_result"
    }
   ],
   "source": [
    "chr(97)"
   ]
  },
  {
   "cell_type": "code",
   "execution_count": 8,
   "id": "8ef14e82",
   "metadata": {},
   "outputs": [
    {
     "data": {
      "text/plain": [
       "'가'"
      ]
     },
     "execution_count": 8,
     "metadata": {},
     "output_type": "execute_result"
    }
   ],
   "source": [
    "chr(44032)"
   ]
  },
  {
   "cell_type": "markdown",
   "id": "9694b39f",
   "metadata": {},
   "source": [
    "# dir\n",
    "\n",
    "객체가 지닌 변수나 함수를 보여 줌"
   ]
  },
  {
   "cell_type": "code",
   "execution_count": 9,
   "id": "053cbe58",
   "metadata": {},
   "outputs": [
    {
     "data": {
      "text/plain": [
       "['__add__',\n",
       " '__class__',\n",
       " '__class_getitem__',\n",
       " '__contains__',\n",
       " '__delattr__',\n",
       " '__delitem__',\n",
       " '__dir__',\n",
       " '__doc__',\n",
       " '__eq__',\n",
       " '__format__',\n",
       " '__ge__',\n",
       " '__getattribute__',\n",
       " '__getitem__',\n",
       " '__getstate__',\n",
       " '__gt__',\n",
       " '__hash__',\n",
       " '__iadd__',\n",
       " '__imul__',\n",
       " '__init__',\n",
       " '__init_subclass__',\n",
       " '__iter__',\n",
       " '__le__',\n",
       " '__len__',\n",
       " '__lt__',\n",
       " '__mul__',\n",
       " '__ne__',\n",
       " '__new__',\n",
       " '__reduce__',\n",
       " '__reduce_ex__',\n",
       " '__repr__',\n",
       " '__reversed__',\n",
       " '__rmul__',\n",
       " '__setattr__',\n",
       " '__setitem__',\n",
       " '__sizeof__',\n",
       " '__str__',\n",
       " '__subclasshook__',\n",
       " 'append',\n",
       " 'clear',\n",
       " 'copy',\n",
       " 'count',\n",
       " 'extend',\n",
       " 'index',\n",
       " 'insert',\n",
       " 'pop',\n",
       " 'remove',\n",
       " 'reverse',\n",
       " 'sort']"
      ]
     },
     "execution_count": 9,
     "metadata": {},
     "output_type": "execute_result"
    }
   ],
   "source": [
    "dir([1, 2, 3]) # 리스트가 지닌 함수 보여줌"
   ]
  },
  {
   "cell_type": "code",
   "execution_count": 10,
   "id": "944fe724",
   "metadata": {},
   "outputs": [
    {
     "data": {
      "text/plain": [
       "['__class__',\n",
       " '__class_getitem__',\n",
       " '__contains__',\n",
       " '__delattr__',\n",
       " '__delitem__',\n",
       " '__dir__',\n",
       " '__doc__',\n",
       " '__eq__',\n",
       " '__format__',\n",
       " '__ge__',\n",
       " '__getattribute__',\n",
       " '__getitem__',\n",
       " '__getstate__',\n",
       " '__gt__',\n",
       " '__hash__',\n",
       " '__init__',\n",
       " '__init_subclass__',\n",
       " '__ior__',\n",
       " '__iter__',\n",
       " '__le__',\n",
       " '__len__',\n",
       " '__lt__',\n",
       " '__ne__',\n",
       " '__new__',\n",
       " '__or__',\n",
       " '__reduce__',\n",
       " '__reduce_ex__',\n",
       " '__repr__',\n",
       " '__reversed__',\n",
       " '__ror__',\n",
       " '__setattr__',\n",
       " '__setitem__',\n",
       " '__sizeof__',\n",
       " '__str__',\n",
       " '__subclasshook__',\n",
       " 'clear',\n",
       " 'copy',\n",
       " 'fromkeys',\n",
       " 'get',\n",
       " 'items',\n",
       " 'keys',\n",
       " 'pop',\n",
       " 'popitem',\n",
       " 'setdefault',\n",
       " 'update',\n",
       " 'values']"
      ]
     },
     "execution_count": 10,
     "metadata": {},
     "output_type": "execute_result"
    }
   ],
   "source": [
    "dir({'1':'a'}) # 딕셔너리가 지닌 함수 보여줌"
   ]
  },
  {
   "cell_type": "markdown",
   "id": "a6575982",
   "metadata": {},
   "source": [
    "# divmod\n",
    "divmod(a,b)\n",
    "a를 b로 나눈 몫과 나머지를 튜플로 리턴함"
   ]
  },
  {
   "cell_type": "code",
   "execution_count": 11,
   "id": "37ea007b",
   "metadata": {},
   "outputs": [
    {
     "data": {
      "text/plain": [
       "(2, 1)"
      ]
     },
     "execution_count": 11,
     "metadata": {},
     "output_type": "execute_result"
    }
   ],
   "source": [
    "divmod(7, 3)"
   ]
  },
  {
   "cell_type": "markdown",
   "id": "7f2cab6a",
   "metadata": {},
   "source": [
    "# enumerate 외우기\n",
    "```\n",
    "순서가 있는 데이터(리스트, 튜플, 문자열)를 입력으로 받아 \n",
    "-> 인덱스 값을 포함하는 enumerate 객체를 리턴한다.\n",
    "\n",
    "보통 enumerate 함수는 for 문과 함께 사용한다.\n",
    "```"
   ]
  },
  {
   "cell_type": "code",
   "execution_count": 12,
   "id": "72528a31",
   "metadata": {},
   "outputs": [
    {
     "name": "stdout",
     "output_type": "stream",
     "text": [
      "0 body\n",
      "1 foo\n",
      "2 bar\n"
     ]
    }
   ],
   "source": [
    "for i, name in enumerate(['body', 'foo', 'bar']):\n",
    "    print(i, name)"
   ]
  },
  {
   "cell_type": "markdown",
   "id": "e1f41960",
   "metadata": {},
   "source": [
    "# filter 외우기\n",
    "\n",
    "filter(함수, 반복_가능한_데이터)"
   ]
  },
  {
   "cell_type": "code",
   "execution_count": 8,
   "id": "4294a13f",
   "metadata": {},
   "outputs": [
    {
     "name": "stdout",
     "output_type": "stream",
     "text": [
      "[1, 2, 6]\n"
     ]
    }
   ],
   "source": [
    "# positive.py \n",
    "def positive(l): \n",
    "    result = [] \n",
    "    for i in l: \n",
    "        if i > 0: \n",
    "            result.append(i) \n",
    "    return result\n",
    "\n",
    "print(positive([1,-3,2,0,-5,6]))"
   ]
  },
  {
   "cell_type": "code",
   "execution_count": 13,
   "id": "b7bc9237",
   "metadata": {},
   "outputs": [
    {
     "name": "stdout",
     "output_type": "stream",
     "text": [
      "[1, 2, 6]\n"
     ]
    }
   ],
   "source": [
    "# filter1.py\n",
    "def positive(x):\n",
    "    return x > 0\n",
    "\n",
    "print(list(filter(positive, [1, -3, 2, 0, -5, 6])))\n"
   ]
  },
  {
   "cell_type": "code",
   "execution_count": 14,
   "id": "a6254436",
   "metadata": {},
   "outputs": [
    {
     "data": {
      "text/plain": [
       "[1, 2, 6]"
      ]
     },
     "execution_count": 14,
     "metadata": {},
     "output_type": "execute_result"
    }
   ],
   "source": [
    "list(filter(lambda x: x > 0, [1, -3, 2, 0, -5, 6]))"
   ]
  },
  {
   "cell_type": "markdown",
   "id": "56623129",
   "metadata": {},
   "source": [
    "# isinstance\n",
    "\n",
    "입력으로 받은 객체가 그 클래스의 인스턴스인지를 판단하여 참이면 True, 거짓이면 False를 리턴한다."
   ]
  },
  {
   "cell_type": "code",
   "execution_count": 15,
   "id": "9f66ea1b",
   "metadata": {},
   "outputs": [
    {
     "data": {
      "text/plain": [
       "True"
      ]
     },
     "execution_count": 15,
     "metadata": {},
     "output_type": "execute_result"
    }
   ],
   "source": [
    "class Person: pass\n",
    "\n",
    "a = Person()\n",
    "isinstance(a, Person)\n"
   ]
  },
  {
   "cell_type": "code",
   "execution_count": 16,
   "id": "a8b29a54",
   "metadata": {},
   "outputs": [
    {
     "data": {
      "text/plain": [
       "False"
      ]
     },
     "execution_count": 16,
     "metadata": {},
     "output_type": "execute_result"
    }
   ],
   "source": [
    "b = 3\n",
    "isinstance(b, Person)"
   ]
  },
  {
   "cell_type": "markdown",
   "id": "5ec1d6fd",
   "metadata": {},
   "source": [
    "# map 중요\n",
    "```\n",
    "map(f, iterable)은 함수(f)와 반복 가능한 데이터를 입력으로 받는다. \n",
    "map은 입력받은 데이터의 각 요소에 함수 f를 적용한 결과를 리턴하는 함수이다.\n",
    "```"
   ]
  },
  {
   "cell_type": "code",
   "execution_count": 17,
   "id": "7baf48d3",
   "metadata": {},
   "outputs": [
    {
     "name": "stdout",
     "output_type": "stream",
     "text": [
      "[2, 4, 6, 8]\n"
     ]
    }
   ],
   "source": [
    "# two_times.py\n",
    "def two_times(numberList):\n",
    "    result = []\n",
    "    for number in numberList:\n",
    "        result.append(number*2)\n",
    "    return result\n",
    "\n",
    "result = two_times([1, 2, 3, 4])\n",
    "print(result)\n"
   ]
  },
  {
   "cell_type": "code",
   "execution_count": 18,
   "id": "4446a42d",
   "metadata": {},
   "outputs": [
    {
     "data": {
      "text/plain": [
       "[2, 4, 6, 8]"
      ]
     },
     "execution_count": 18,
     "metadata": {},
     "output_type": "execute_result"
    }
   ],
   "source": [
    "def two_times(x):\n",
    "    return x*2\n",
    "\n",
    "list(map(two_times, [1, 2, 3, 4]))"
   ]
  },
  {
   "cell_type": "code",
   "execution_count": 21,
   "id": "510d218a",
   "metadata": {},
   "outputs": [
    {
     "data": {
      "text/plain": [
       "[2, 4, 6, 8]"
      ]
     },
     "execution_count": 21,
     "metadata": {},
     "output_type": "execute_result"
    }
   ],
   "source": [
    "list(map(lambda a: a*2, [1, 2, 3, 4]))"
   ]
  },
  {
   "cell_type": "markdown",
   "id": "887ce2fb",
   "metadata": {},
   "source": [
    "# max"
   ]
  },
  {
   "cell_type": "code",
   "execution_count": 19,
   "id": "3fa91727",
   "metadata": {},
   "outputs": [
    {
     "data": {
      "text/plain": [
       "3"
      ]
     },
     "execution_count": 19,
     "metadata": {},
     "output_type": "execute_result"
    }
   ],
   "source": [
    "max([1, 2, 3])"
   ]
  },
  {
   "cell_type": "code",
   "execution_count": 20,
   "id": "c3dfb63f",
   "metadata": {},
   "outputs": [
    {
     "data": {
      "text/plain": [
       "'y'"
      ]
     },
     "execution_count": 20,
     "metadata": {},
     "output_type": "execute_result"
    }
   ],
   "source": [
    "max(\"python\")"
   ]
  },
  {
   "cell_type": "markdown",
   "id": "4877eac7",
   "metadata": {},
   "source": [
    "# pow\n",
    "pow(x,y)는 x를 y제곱한 결괏값을 리턴하는 함수"
   ]
  },
  {
   "cell_type": "code",
   "execution_count": 22,
   "id": "36cc4d0b",
   "metadata": {},
   "outputs": [
    {
     "data": {
      "text/plain": [
       "16"
      ]
     },
     "execution_count": 22,
     "metadata": {},
     "output_type": "execute_result"
    }
   ],
   "source": [
    "pow(2, 4)"
   ]
  },
  {
   "cell_type": "code",
   "execution_count": 23,
   "id": "60022f2c",
   "metadata": {},
   "outputs": [
    {
     "data": {
      "text/plain": [
       "27"
      ]
     },
     "execution_count": 23,
     "metadata": {},
     "output_type": "execute_result"
    }
   ],
   "source": [
    "pow(3, 3)"
   ]
  },
  {
   "cell_type": "markdown",
   "id": "aafe96f5",
   "metadata": {},
   "source": [
    "# round\n",
    "round(number [,ndigits])는 숫자를 입력받아 반올림해 리턴하는 함수이다."
   ]
  },
  {
   "cell_type": "code",
   "execution_count": 24,
   "id": "5a3e9b6a",
   "metadata": {},
   "outputs": [
    {
     "data": {
      "text/plain": [
       "5"
      ]
     },
     "execution_count": 24,
     "metadata": {},
     "output_type": "execute_result"
    }
   ],
   "source": [
    "round(4.6)"
   ]
  },
  {
   "cell_type": "code",
   "execution_count": 25,
   "id": "32b735cf",
   "metadata": {},
   "outputs": [
    {
     "data": {
      "text/plain": [
       "5.68"
      ]
     },
     "execution_count": 25,
     "metadata": {},
     "output_type": "execute_result"
    }
   ],
   "source": [
    "round(5.678, 2) # 반올림하고 싶은 소수점 자리수 표시"
   ]
  },
  {
   "cell_type": "markdown",
   "id": "bedace36",
   "metadata": {},
   "source": [
    "# sorted\n",
    "sorted(iterable)는 입력 데이터를 정렬한 후 그 결과를 리스트로 리턴하는 함수"
   ]
  },
  {
   "cell_type": "code",
   "execution_count": 26,
   "id": "fc8942f6",
   "metadata": {},
   "outputs": [
    {
     "data": {
      "text/plain": [
       "[1, 2, 3]"
      ]
     },
     "execution_count": 26,
     "metadata": {},
     "output_type": "execute_result"
    }
   ],
   "source": [
    "sorted([3, 1, 2])"
   ]
  },
  {
   "cell_type": "code",
   "execution_count": 27,
   "id": "a5267053",
   "metadata": {},
   "outputs": [
    {
     "data": {
      "text/plain": [
       "['a', 'b', 'c']"
      ]
     },
     "execution_count": 27,
     "metadata": {},
     "output_type": "execute_result"
    }
   ],
   "source": [
    "sorted(['a', 'c', 'b'])"
   ]
  },
  {
   "cell_type": "code",
   "execution_count": 28,
   "id": "94615f24",
   "metadata": {},
   "outputs": [
    {
     "data": {
      "text/plain": [
       "['e', 'o', 'r', 'z']"
      ]
     },
     "execution_count": 28,
     "metadata": {},
     "output_type": "execute_result"
    }
   ],
   "source": [
    "sorted(\"zero\")"
   ]
  },
  {
   "cell_type": "code",
   "execution_count": 29,
   "id": "a00097ad",
   "metadata": {},
   "outputs": [
    {
     "data": {
      "text/plain": [
       "[1, 2, 3]"
      ]
     },
     "execution_count": 29,
     "metadata": {},
     "output_type": "execute_result"
    }
   ],
   "source": [
    "sorted((3, 2, 1))"
   ]
  },
  {
   "cell_type": "markdown",
   "id": "86bcc884",
   "metadata": {},
   "source": [
    "# zip 중요\n",
    "\n",
    "zip(*iterable)은 동일한 개수로 이루어진 데이터들을 묶어서 리턴하는 함수이다.\n",
    "\n",
    "여기서 사용한 *iterable은 반복 가능한 데이터를 여러 개 입력할 수 있다는 의미이다."
   ]
  },
  {
   "cell_type": "code",
   "execution_count": 32,
   "id": "ee5c4263",
   "metadata": {},
   "outputs": [
    {
     "data": {
      "text/plain": [
       "[(1, 4), (2, 5), (3, 6)]"
      ]
     },
     "execution_count": 32,
     "metadata": {},
     "output_type": "execute_result"
    }
   ],
   "source": [
    "list(zip([1, 2, 3], [4, 5, 6]))"
   ]
  },
  {
   "cell_type": "code",
   "execution_count": 33,
   "id": "48acbe84",
   "metadata": {},
   "outputs": [
    {
     "data": {
      "text/plain": [
       "[(1, 4, 7), (2, 5, 8), (3, 6, 9)]"
      ]
     },
     "execution_count": 33,
     "metadata": {},
     "output_type": "execute_result"
    }
   ],
   "source": [
    "list(zip([1, 2, 3], [4, 5, 6], [7, 8, 9]))"
   ]
  },
  {
   "cell_type": "code",
   "execution_count": 34,
   "id": "7dde6e52",
   "metadata": {},
   "outputs": [
    {
     "data": {
      "text/plain": [
       "[('a', 'd'), ('b', 'e'), ('c', 'f')]"
      ]
     },
     "execution_count": 34,
     "metadata": {},
     "output_type": "execute_result"
    }
   ],
   "source": [
    "list(zip(\"abc\", \"def\"))"
   ]
  },
  {
   "cell_type": "markdown",
   "id": "2639a873",
   "metadata": {},
   "source": [
    "# 라이브러리"
   ]
  },
  {
   "cell_type": "markdown",
   "id": "17aeaed6",
   "metadata": {},
   "source": [
    "# datetime.date(년,월,일)\n",
    "연, 월, 일로 날짜를 표현할 때 사용하는 함수"
   ]
  },
  {
   "cell_type": "code",
   "execution_count": 36,
   "id": "471042c1",
   "metadata": {},
   "outputs": [],
   "source": [
    "import datetime"
   ]
  },
  {
   "cell_type": "code",
   "execution_count": 37,
   "id": "d54816fe",
   "metadata": {},
   "outputs": [],
   "source": [
    "day1 = datetime.date(2024,3,12)"
   ]
  },
  {
   "cell_type": "code",
   "execution_count": 40,
   "id": "1fd1260e",
   "metadata": {},
   "outputs": [],
   "source": [
    "day2 = datetime.date(2023,4,5)"
   ]
  },
  {
   "cell_type": "code",
   "execution_count": 41,
   "id": "678245f9",
   "metadata": {},
   "outputs": [
    {
     "data": {
      "text/plain": [
       "datetime.timedelta(days=-342)"
      ]
     },
     "execution_count": 41,
     "metadata": {},
     "output_type": "execute_result"
    }
   ],
   "source": [
    "diff = day2 - day1"
   ]
  },
  {
   "cell_type": "code",
   "execution_count": 42,
   "id": "b0eef693",
   "metadata": {},
   "outputs": [
    {
     "data": {
      "text/plain": [
       "-342"
      ]
     },
     "execution_count": 42,
     "metadata": {},
     "output_type": "execute_result"
    }
   ],
   "source": [
    "diff.days"
   ]
  },
  {
   "cell_type": "markdown",
   "id": "87afbe0a",
   "metadata": {},
   "source": [
    "# 요일은 datetiem.date에 weekday함수 추가"
   ]
  },
  {
   "cell_type": "code",
   "execution_count": 45,
   "id": "9d831262",
   "metadata": {},
   "outputs": [
    {
     "data": {
      "text/plain": [
       "1"
      ]
     },
     "execution_count": 45,
     "metadata": {},
     "output_type": "execute_result"
    }
   ],
   "source": [
    "day = datetime.date(2021, 12, 14)\n",
    "day.weekday() #화요일"
   ]
  },
  {
   "cell_type": "code",
   "execution_count": 46,
   "id": "fb362a1b",
   "metadata": {},
   "outputs": [
    {
     "data": {
      "text/plain": [
       "2"
      ]
     },
     "execution_count": 46,
     "metadata": {},
     "output_type": "execute_result"
    }
   ],
   "source": [
    "day.isoweekday()"
   ]
  },
  {
   "cell_type": "markdown",
   "id": "f1858498",
   "metadata": {},
   "source": [
    "# time\n",
    "\n",
    "UTC(universal time coordinated, 협정 세계 표준시)를 사용하여 현재 시간을 실수 형태로 리턴하는 함수"
   ]
  },
  {
   "cell_type": "code",
   "execution_count": 47,
   "id": "8538978e",
   "metadata": {},
   "outputs": [
    {
     "data": {
      "text/plain": [
       "1710254390.194108"
      ]
     },
     "execution_count": 47,
     "metadata": {},
     "output_type": "execute_result"
    }
   ],
   "source": [
    "import time\n",
    "time.time()"
   ]
  },
  {
   "cell_type": "markdown",
   "id": "cdcb264f",
   "metadata": {},
   "source": [
    "# time.localtime\n",
    "time.localtime은 time.time()이 리턴한 실숫값을 사용해서 연, 월, 일, 시, 분, 초, ... 의 형태로 바꾸어 주는 함수이다."
   ]
  },
  {
   "cell_type": "code",
   "execution_count": 48,
   "id": "f43b6543",
   "metadata": {},
   "outputs": [
    {
     "data": {
      "text/plain": [
       "time.struct_time(tm_year=2024, tm_mon=3, tm_mday=12, tm_hour=23, tm_min=40, tm_sec=12, tm_wday=1, tm_yday=72, tm_isdst=0)"
      ]
     },
     "execution_count": 48,
     "metadata": {},
     "output_type": "execute_result"
    }
   ],
   "source": [
    "time.localtime(time.time())"
   ]
  },
  {
   "cell_type": "markdown",
   "id": "4511759d",
   "metadata": {},
   "source": [
    "# time.asctime\n",
    "time.asctime은 time.localtime가 리턴된 튜플 형태의 값을 인수로 받아서 날짜와 시간을 알아보기 쉬운 형태로 리턴하는 함수이다."
   ]
  },
  {
   "cell_type": "code",
   "execution_count": 49,
   "id": "292e7ee9",
   "metadata": {},
   "outputs": [
    {
     "data": {
      "text/plain": [
       "'Tue Mar 12 23:40:58 2024'"
      ]
     },
     "execution_count": 49,
     "metadata": {},
     "output_type": "execute_result"
    }
   ],
   "source": [
    "time.asctime(time.localtime(time.time()))"
   ]
  },
  {
   "cell_type": "markdown",
   "id": "1ebcd4fc",
   "metadata": {},
   "source": [
    "# time.ctime\n",
    "time.asctime(time.localtime(time.time()))은 간단하게 time.ctime()으로 표시할 수 있다. ctime이 asctime과 다른 점은 항상 현재 시간만을 리턴한다는 점이다."
   ]
  },
  {
   "cell_type": "code",
   "execution_count": 51,
   "id": "8e1f34d7",
   "metadata": {},
   "outputs": [
    {
     "data": {
      "text/plain": [
       "'Tue Mar 12 23:41:10 2024'"
      ]
     },
     "execution_count": 51,
     "metadata": {},
     "output_type": "execute_result"
    }
   ],
   "source": [
    "time.ctime()"
   ]
  },
  {
   "cell_type": "markdown",
   "id": "a4df2976",
   "metadata": {},
   "source": [
    "# time.strftime\n",
    "strftime 함수는 시간에 관계된 것을 세밀하게 표현하는 여러 가지 포맷 코드를 제공한다."
   ]
  },
  {
   "cell_type": "code",
   "execution_count": 52,
   "id": "12d8eeae",
   "metadata": {},
   "outputs": [
    {
     "data": {
      "text/plain": [
       "'03/12/24'"
      ]
     },
     "execution_count": 52,
     "metadata": {},
     "output_type": "execute_result"
    }
   ],
   "source": [
    "import time\n",
    "time.strftime('%x', time.localtime(time.time()))\n",
    "\n",
    "# %x 현재 설정된 지역에 기반한 날짜 출력"
   ]
  },
  {
   "cell_type": "code",
   "execution_count": 53,
   "id": "46b6ac65",
   "metadata": {},
   "outputs": [
    {
     "data": {
      "text/plain": [
       "'Tue Mar 12 23:43:44 2024'"
      ]
     },
     "execution_count": 53,
     "metadata": {},
     "output_type": "execute_result"
    }
   ],
   "source": [
    "time.strftime('%c', time.localtime(time.time()))\n",
    "\n",
    "# %c 날짜와 시간을 출력함."
   ]
  },
  {
   "cell_type": "markdown",
   "id": "bf8d6c5a",
   "metadata": {},
   "source": [
    "# time.sleep\n",
    "time.sleep 함수는 주로 루프 안에서 많이 사용한다.\n",
    "이 함수를 사용하면 일정한 시간 간격을 두고 루프를 실행할 수 있다. ."
   ]
  },
  {
   "cell_type": "code",
   "execution_count": 56,
   "id": "0532c29d",
   "metadata": {},
   "outputs": [
    {
     "name": "stdout",
     "output_type": "stream",
     "text": [
      "0\n",
      "1\n",
      "2\n",
      "3\n",
      "4\n",
      "5\n",
      "6\n",
      "7\n",
      "8\n",
      "9\n"
     ]
    }
   ],
   "source": [
    "# sleep1.py\n",
    "import time\n",
    "for i in range(10):\n",
    "    print(i)\n",
    "    time.sleep(1) # 1초 간격으로 출력한다"
   ]
  },
  {
   "cell_type": "markdown",
   "id": "aa2d52d2",
   "metadata": {},
   "source": [
    "## 인수 없이 time 함수 사용하기"
   ]
  },
  {
   "cell_type": "code",
   "execution_count": 55,
   "id": "e1bf5780",
   "metadata": {
    "scrolled": true
   },
   "outputs": [
    {
     "data": {
      "text/plain": [
       "time.struct_time(tm_year=2024, tm_mon=3, tm_mday=12, tm_hour=23, tm_min=49, tm_sec=47, tm_wday=1, tm_yday=72, tm_isdst=0)"
      ]
     },
     "execution_count": 55,
     "metadata": {},
     "output_type": "execute_result"
    }
   ],
   "source": [
    "time.localtime()"
   ]
  },
  {
   "cell_type": "code",
   "execution_count": 58,
   "id": "21d8506b",
   "metadata": {},
   "outputs": [
    {
     "data": {
      "text/plain": [
       "'Tue Mar 12 23:54:03 2024'"
      ]
     },
     "execution_count": 58,
     "metadata": {},
     "output_type": "execute_result"
    }
   ],
   "source": [
    "time.asctime()"
   ]
  },
  {
   "cell_type": "code",
   "execution_count": 59,
   "id": "135b9249",
   "metadata": {},
   "outputs": [
    {
     "data": {
      "text/plain": [
       "'Tue Mar 12 23:54:05 2024'"
      ]
     },
     "execution_count": 59,
     "metadata": {},
     "output_type": "execute_result"
    }
   ],
   "source": [
    "time.strftime('%c')"
   ]
  },
  {
   "cell_type": "markdown",
   "id": "dc525a18",
   "metadata": {},
   "source": [
    "# random\n",
    "\n",
    "```\n",
    "random은 난수(규칙이 없는 임의의 수)를 발생시키는 모듈이다. \n",
    "```"
   ]
  },
  {
   "cell_type": "code",
   "execution_count": 60,
   "id": "3dcd4514",
   "metadata": {},
   "outputs": [
    {
     "data": {
      "text/plain": [
       "0.4269139793115584"
      ]
     },
     "execution_count": 60,
     "metadata": {},
     "output_type": "execute_result"
    }
   ],
   "source": [
    "import random\n",
    "random.random() #0.0에서 1.0 사이의 실수 중에서 난수 값을 리턴"
   ]
  },
  {
   "cell_type": "code",
   "execution_count": 61,
   "id": "68d96f16",
   "metadata": {},
   "outputs": [
    {
     "data": {
      "text/plain": [
       "1"
      ]
     },
     "execution_count": 61,
     "metadata": {},
     "output_type": "execute_result"
    }
   ],
   "source": [
    "random.randint(1, 10)"
   ]
  },
  {
   "cell_type": "markdown",
   "id": "02609e75",
   "metadata": {},
   "source": [
    "## 리스트의 항목을 무작위로 섞고 싶을 때는 random.sample 함수"
   ]
  },
  {
   "cell_type": "code",
   "execution_count": 62,
   "id": "048d0c16",
   "metadata": {},
   "outputs": [
    {
     "data": {
      "text/plain": [
       "[5, 1, 4, 2, 3]"
      ]
     },
     "execution_count": 62,
     "metadata": {},
     "output_type": "execute_result"
    }
   ],
   "source": [
    "import random\n",
    "data = [1, 2, 3, 4, 5]\n",
    "random.sample(data, len(data))"
   ]
  },
  {
   "cell_type": "markdown",
   "id": "62b2e626",
   "metadata": {},
   "source": [
    "# glob\n",
    "가끔 파일을 읽고 쓰는 기능이 있는 프로그램을 만들다 보면 특정 디렉터리에 있는 파일 이름 모두를 알아야 할 때가 있다. 이럴 때 사용하는 모듈이 바로 glob이다.\n"
   ]
  },
  {
   "cell_type": "code",
   "execution_count": 63,
   "id": "03f8b61a",
   "metadata": {},
   "outputs": [
    {
     "data": {
      "text/plain": [
       "'C:\\\\workspace\\\\wassup2\\\\python'"
      ]
     },
     "execution_count": 63,
     "metadata": {},
     "output_type": "execute_result"
    }
   ],
   "source": [
    "pwd"
   ]
  },
  {
   "cell_type": "code",
   "execution_count": 64,
   "id": "c6a88e56",
   "metadata": {},
   "outputs": [],
   "source": [
    "import glob"
   ]
  },
  {
   "cell_type": "code",
   "execution_count": 65,
   "id": "df6ba010",
   "metadata": {},
   "outputs": [
    {
     "ename": "SyntaxError",
     "evalue": "unterminated string literal (detected at line 4) (2715483051.py, line 4)",
     "output_type": "error",
     "traceback": [
      "\u001b[1;36m  Cell \u001b[1;32mIn[65], line 4\u001b[1;36m\u001b[0m\n\u001b[1;33m    print(i.split('\\')[-1])\u001b[0m\n\u001b[1;37m                  ^\u001b[0m\n\u001b[1;31mSyntaxError\u001b[0m\u001b[1;31m:\u001b[0m unterminated string literal (detected at line 4)\n"
     ]
    }
   ],
   "source": [
    "import glob\n",
    "file = glob.glob(\"C:\\workspace\\WASSUP2\\WASSUP2\\python*\")\n",
    "for i in file:\n",
    "    print(i.split('\\')[-1])"
   ]
  }
 ],
 "metadata": {
  "kernelspec": {
   "display_name": "Python 3 (ipykernel)",
   "language": "python",
   "name": "python3"
  },
  "language_info": {
   "codemirror_mode": {
    "name": "ipython",
    "version": 3
   },
   "file_extension": ".py",
   "mimetype": "text/x-python",
   "name": "python",
   "nbconvert_exporter": "python",
   "pygments_lexer": "ipython3",
   "version": "3.11.5"
  }
 },
 "nbformat": 4,
 "nbformat_minor": 5
}
