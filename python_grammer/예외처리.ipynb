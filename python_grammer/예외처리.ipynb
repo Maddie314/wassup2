{
 "cells": [
  {
   "cell_type": "markdown",
   "id": "a5cf841b",
   "metadata": {},
   "source": [
    "# 오류 예외 처리 기법"
   ]
  },
  {
   "cell_type": "markdown",
   "id": "3034879c",
   "metadata": {},
   "source": [
    "## try-except문\n",
    "* 기본 구조임"
   ]
  },
  {
   "cell_type": "markdown",
   "id": "7577ffbe",
   "metadata": {},
   "source": [
    "```\n",
    "try:\n",
    "    ...\n",
    "except [발생오류 [as 오류변수]]: # [--]은 생략가능\n",
    "    ...\n",
    "```\n"
   ]
  },
  {
   "cell_type": "markdown",
   "id": "9ec979c0",
   "metadata": {},
   "source": [
    "## 1. try-except만 쓰는 방법"
   ]
  },
  {
   "cell_type": "markdown",
   "id": "8eca76b3",
   "metadata": {},
   "source": [
    "```\n",
    "try:\n",
    "    ...\n",
    "except:\n",
    "    ...\n",
    "```"
   ]
  },
  {
   "cell_type": "markdown",
   "id": "4e1800a0",
   "metadata": {},
   "source": [
    "## 2. 발생 오류만 포함한 except 문\n",
    "\n",
    "```\n",
    "try:\n",
    "    ...\n",
    "except 발생오류:\n",
    "    ...\n",
    "```"
   ]
  },
  {
   "cell_type": "markdown",
   "id": "4b5c80d7",
   "metadata": {},
   "source": [
    "## 3. 발생 오류와 오류 변수까지 포함한 except 문\n",
    "\n",
    "```\n",
    "try:\n",
    "    ...\n",
    "except 발생오류 as 오류변수:\n",
    "    ...\n",
    "\n",
    "```"
   ]
  },
  {
   "cell_type": "code",
   "execution_count": 2,
   "id": "c7e9e884",
   "metadata": {},
   "outputs": [
    {
     "name": "stdout",
     "output_type": "stream",
     "text": [
      "error\n"
     ]
    }
   ],
   "source": [
    "# try_except.py\n",
    "try:\n",
    "    4 / 0\n",
    "except:\n",
    "    print('error')\n"
   ]
  },
  {
   "cell_type": "code",
   "execution_count": 3,
   "id": "4a7f71a0",
   "metadata": {},
   "outputs": [
    {
     "name": "stdout",
     "output_type": "stream",
     "text": [
      "division by zero\n"
     ]
    }
   ],
   "source": [
    "# try_except.py\n",
    "try:\n",
    "    4 / 0\n",
    "except ZeroDivisionError as e:\n",
    "    print(e)\n"
   ]
  },
  {
   "cell_type": "markdown",
   "id": "5b6e6937",
   "metadata": {},
   "source": [
    "# 여러 개의 오류 처리하기"
   ]
  },
  {
   "cell_type": "markdown",
   "id": "6e163586",
   "metadata": {},
   "source": [
    "```\n",
    "try:\n",
    "    ...\n",
    "except 발생오류1:\n",
    "   ... \n",
    "except 발생오류2:\n",
    "   ...\n",
    "```"
   ]
  },
  {
   "cell_type": "code",
   "execution_count": 2,
   "id": "c39fc028",
   "metadata": {},
   "outputs": [
    {
     "name": "stdout",
     "output_type": "stream",
     "text": [
      "인덱싱 할 수 없습니다.\n"
     ]
    }
   ],
   "source": [
    "# many_error.py\n",
    "try:\n",
    "    a = [1,2]\n",
    "    print(a[3])\n",
    "    4/0\n",
    "except ZeroDivisionError:\n",
    "    print(\"0으로 나눌 수 없습니다.\")\n",
    "except IndexError:\n",
    "    print(\"인덱싱 할 수 없습니다.\")\n",
    "\n",
    "\n",
    "    # 인덱싱 내용이 먼저 나왔기 때문에\n",
    "    # IndexError가 뜬다"
   ]
  },
  {
   "cell_type": "code",
   "execution_count": 5,
   "id": "fe505e6a",
   "metadata": {},
   "outputs": [
    {
     "name": "stdout",
     "output_type": "stream",
     "text": [
      "list index out of range\n"
     ]
    }
   ],
   "source": [
    "try:\n",
    "    a = [1,2]\n",
    "    print(a[3])\n",
    "    4/0\n",
    "except ZeroDivisionError as e:\n",
    "    print(e)\n",
    "except IndexError as e:\n",
    "    print(e)\n"
   ]
  },
  {
   "cell_type": "code",
   "execution_count": 6,
   "id": "8eff24b1",
   "metadata": {},
   "outputs": [
    {
     "name": "stdout",
     "output_type": "stream",
     "text": [
      "list index out of range\n"
     ]
    }
   ],
   "source": [
    "try:\n",
    "    a = [1,2]\n",
    "    print(a[3])\n",
    "    4/0\n",
    "except (ZeroDivisionError, IndexError) as e:\n",
    "    print(e)\n",
    "\n",
    "    # 2개 이상의 오류를 동일하게 처리하기 위해서, 함께 묶어 처리한다."
   ]
  },
  {
   "cell_type": "markdown",
   "id": "863d2de8",
   "metadata": {},
   "source": [
    "# try-else문"
   ]
  },
  {
   "cell_type": "markdown",
   "id": "cb38958c",
   "metadata": {},
   "source": [
    "```\n",
    "try:\n",
    "    ...\n",
    "except [발생오류 [as 오류변수]]:\n",
    "    ...\n",
    "else:  # 오류가 없을 경우에만 수행\n",
    "    ...\n",
    "```"
   ]
  },
  {
   "cell_type": "code",
   "execution_count": 4,
   "id": "f2471e68",
   "metadata": {},
   "outputs": [
    {
     "name": "stdout",
     "output_type": "stream",
     "text": [
      "나이를 입력하세요: ㅅ;ㅁ\n",
      "입력이 정확하지 않습니다.\n"
     ]
    }
   ],
   "source": [
    "# try_else.py\n",
    "try:\n",
    "    age=int(input('나이를 입력하세요: '))\n",
    "except:\n",
    "    print('입력이 정확하지 않습니다.')\n",
    "else:\n",
    "    if age <= 18:\n",
    "        print('미성년자는 출입금지입니다.')\n",
    "    else:\n",
    "        print('환영합니다.')"
   ]
  },
  {
   "cell_type": "markdown",
   "id": "1c3bcc5b",
   "metadata": {},
   "source": [
    "# 오류 회피하기\n",
    "\n",
    "* 특정 오류가 발생할 경우 그냥 통과시키기"
   ]
  },
  {
   "cell_type": "code",
   "execution_count": 9,
   "id": "6e60af60",
   "metadata": {},
   "outputs": [],
   "source": [
    "# error_pass.py\n",
    "try:\n",
    "    f = open(\"나없는파일\", 'r')\n",
    "except FileNotFoundError:\n",
    "    pass\n",
    "\n",
    "# try문 안에서 FileNotFoundError가 발생할 경우\n",
    "# 그냥 pass사용해서 오류를 그냥 회피시키기"
   ]
  },
  {
   "cell_type": "markdown",
   "id": "62a931f8",
   "metadata": {},
   "source": [
    "# 오류 일부러 발생시키기"
   ]
  },
  {
   "cell_type": "code",
   "execution_count": 5,
   "id": "c1d9cc77",
   "metadata": {},
   "outputs": [],
   "source": [
    "# error_raise.py\n",
    "class Bird:\n",
    "    def fly(self):\n",
    "        raise NotImplementedError"
   ]
  },
  {
   "cell_type": "markdown",
   "id": "a1f35cc8",
   "metadata": {},
   "source": [
    "NotImplementedError는 파이썬에 이미 정의되어 있는 오류로, 꼭 작성해야 하는 부분이 구현되지 않았을 경우 일부러 오류를 발생시키기 위해 사용한다."
   ]
  }
 ],
 "metadata": {
  "kernelspec": {
   "display_name": "Python 3 (ipykernel)",
   "language": "python",
   "name": "python3"
  },
  "language_info": {
   "codemirror_mode": {
    "name": "ipython",
    "version": 3
   },
   "file_extension": ".py",
   "mimetype": "text/x-python",
   "name": "python",
   "nbconvert_exporter": "python",
   "pygments_lexer": "ipython3",
   "version": "3.11.5"
  }
 },
 "nbformat": 4,
 "nbformat_minor": 5
}
