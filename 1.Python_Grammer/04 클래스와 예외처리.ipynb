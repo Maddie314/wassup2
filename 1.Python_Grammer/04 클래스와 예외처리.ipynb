{
 "cells": [
  {
   "cell_type": "markdown",
   "id": "9a9e5133",
   "metadata": {},
   "source": [
    "계산기는 이전에 계산한 결괏값을 기억하고 있어야 한다."
   ]
  },
  {
   "cell_type": "code",
   "execution_count": 1,
   "id": "7dee493b",
   "metadata": {},
   "outputs": [
    {
     "name": "stdout",
     "output_type": "stream",
     "text": [
      "3\n",
      "7\n"
     ]
    }
   ],
   "source": [
    "#계산기 프로그램을 만들며 클래스 알아보기\n",
    "\n",
    "result = 0\n",
    "\n",
    "def add(num):\n",
    "    global result\n",
    "    result += num  # 결괏값(result)에 입력값(num) 더하기\n",
    "    return result  # 결괏값 리턴\n",
    "\n",
    "print(add(3))\n",
    "print(add(4))\n"
   ]
  },
  {
   "cell_type": "code",
   "execution_count": null,
   "id": "f40d8d86",
   "metadata": {},
   "outputs": [],
   "source": [
    "# 한그로그램에 2대의 계산기가 필요한 상황\n",
    "# 함수를 따로 만든다\n",
    "\n",
    "result1 = 0\n",
    "result2 = 0\n",
    "\n",
    "def add1(num):  # 계산기1\n",
    "    global result1\n",
    "    result1 += num\n",
    "    return result1\n",
    "\n",
    "def add2(num):  # 계산기2\n",
    "    global result2\n",
    "    result2 += num\n",
    "    return result2\n",
    "\n",
    "print(add1(3))\n",
    "print(add1(4))\n",
    "print(add2(3))\n",
    "print(add2(7))\n"
   ]
  },
  {
   "cell_type": "code",
   "execution_count": 1,
   "id": "58f49198",
   "metadata": {},
   "outputs": [
    {
     "name": "stdout",
     "output_type": "stream",
     "text": [
      "3\n",
      "7\n",
      "3\n",
      "10\n"
     ]
    }
   ],
   "source": [
    "\n",
    "class Calculator:\n",
    "    def __init__(self):\n",
    "        self.result = 0\n",
    "\n",
    "    def add(self, num):\n",
    "        self.result += num\n",
    "        return self.result\n",
    "\n",
    "cal1 = Calculator()\n",
    "cal2 = Calculator()\n",
    "\n",
    "print(cal1.add(3))\n",
    "print(cal1.add(4))\n",
    "print(cal2.add(3))\n",
    "print(cal2.add(7))\n"
   ]
  },
  {
   "cell_type": "code",
   "execution_count": 2,
   "id": "0d238f5b",
   "metadata": {},
   "outputs": [],
   "source": [
    "class Calculator:\n",
    "    def __init__(self):\n",
    "        self.result = 0\n",
    "\n",
    "    def add(self, num):\n",
    "        self.result += num\n",
    "        return self.result\n",
    "\n",
    "    def sub(self, num):\n",
    "        self.result -= num\n",
    "        return self.result\n"
   ]
  },
  {
   "cell_type": "markdown",
   "id": "3d699a0e",
   "metadata": {},
   "source": [
    "# 클래스와 객체"
   ]
  },
  {
   "cell_type": "code",
   "execution_count": 2,
   "id": "127f4c96",
   "metadata": {},
   "outputs": [],
   "source": [
    "class Cookie:\n",
    "    pass"
   ]
  },
  {
   "cell_type": "code",
   "execution_count": 3,
   "id": "031dc413",
   "metadata": {},
   "outputs": [],
   "source": [
    "a = Cookie()\n",
    "b = Cookie()"
   ]
  },
  {
   "cell_type": "code",
   "execution_count": 4,
   "id": "115ea1d1",
   "metadata": {},
   "outputs": [
    {
     "data": {
      "text/plain": [
       "<__main__.Cookie at 0x19dceda2350>"
      ]
     },
     "execution_count": 4,
     "metadata": {},
     "output_type": "execute_result"
    }
   ],
   "source": [
    "a"
   ]
  },
  {
   "cell_type": "markdown",
   "id": "5a584956",
   "metadata": {},
   "source": [
    "# 객체와 인스턴스의 차이\n",
    "```\n",
    "a = Cookie()\n",
    "a는 객체임\n",
    "a는 Cookie의 인스턴스\n",
    "```"
   ]
  },
  {
   "cell_type": "markdown",
   "id": "aa6b910f",
   "metadata": {},
   "source": [
    "# 사칙 연산 클래스 만들기"
   ]
  },
  {
   "cell_type": "code",
   "execution_count": null,
   "id": "b1db90e8",
   "metadata": {},
   "outputs": [],
   "source": [
    "#input, output 설계"
   ]
  },
  {
   "cell_type": "markdown",
   "id": "b2770ecd",
   "metadata": {},
   "source": [
    "# 클래스 구조 만들기"
   ]
  },
  {
   "cell_type": "code",
   "execution_count": 15,
   "id": "caae35b9",
   "metadata": {},
   "outputs": [],
   "source": [
    "class FourCal:\n",
    "    pass\n",
    "#반드시 대문자"
   ]
  },
  {
   "cell_type": "code",
   "execution_count": 16,
   "id": "97094229",
   "metadata": {},
   "outputs": [],
   "source": [
    "a = FourCal()"
   ]
  },
  {
   "cell_type": "code",
   "execution_count": 14,
   "id": "22b13987",
   "metadata": {},
   "outputs": [
    {
     "data": {
      "text/plain": [
       "__main__.FourCal"
      ]
     },
     "execution_count": 14,
     "metadata": {},
     "output_type": "execute_result"
    }
   ],
   "source": [
    "type(a)"
   ]
  },
  {
   "cell_type": "markdown",
   "id": "5fdb5ea2",
   "metadata": {},
   "source": [
    "# 객체에 연살할 숫자 지정하기\n",
    "메서드: 클래스 안에 구현된 함수"
   ]
  },
  {
   "cell_type": "markdown",
   "id": "df3cc152",
   "metadata": {},
   "source": [
    "```\n",
    "def setdata(self, first, second):   # 메서드의 매개변수\n",
    "    self.first = first              # 메서드의 수행문\n",
    "    self.second = second            # 메서드의 수행문\n",
    "```"
   ]
  },
  {
   "cell_type": "markdown",
   "id": "b85ed7b9",
   "metadata": {},
   "source": [
    "```\n",
    "class FourCal:\n",
    "    def setdata(self, first, second):\n",
    "        self.first = first\n",
    "        self.second = second\n",
    "```"
   ]
  },
  {
   "cell_type": "code",
   "execution_count": null,
   "id": "c6ea2a8f",
   "metadata": {},
   "outputs": [],
   "source": [
    "#클래스:양한 데이터가 들어왔을 때 각각의 저장소르ㄹ"
   ]
  },
  {
   "cell_type": "code",
   "execution_count": 20,
   "id": "c9e5f285",
   "metadata": {},
   "outputs": [],
   "source": [
    "a = FourCal()\n",
    "a.setdata(4, 2)"
   ]
  },
  {
   "cell_type": "code",
   "execution_count": 21,
   "id": "f9da9350",
   "metadata": {},
   "outputs": [],
   "source": [
    "FourCal().setdata(4, 2)"
   ]
  },
  {
   "cell_type": "code",
   "execution_count": 22,
   "id": "f8597770",
   "metadata": {},
   "outputs": [],
   "source": [
    "a = FourCal()\n",
    "FourCal.setdata(a, 4, 2)"
   ]
  },
  {
   "cell_type": "code",
   "execution_count": 23,
   "id": "303aa4e5",
   "metadata": {},
   "outputs": [],
   "source": [
    "a = FourCal()\n",
    "a.setdata(4, 2)"
   ]
  },
  {
   "cell_type": "code",
   "execution_count": 20,
   "id": "5d2ca643",
   "metadata": {},
   "outputs": [],
   "source": [
    ">>> a = FourCal()\n",
    ">>> b = FourCal()\n"
   ]
  },
  {
   "cell_type": "code",
   "execution_count": 15,
   "id": "f569a542",
   "metadata": {},
   "outputs": [
    {
     "data": {
      "text/plain": [
       "4"
      ]
     },
     "execution_count": 15,
     "metadata": {},
     "output_type": "execute_result"
    }
   ],
   "source": [
    "a.first"
   ]
  },
  {
   "cell_type": "code",
   "execution_count": 17,
   "id": "5d91e7ce",
   "metadata": {},
   "outputs": [
    {
     "data": {
      "text/plain": [
       "2"
      ]
     },
     "execution_count": 17,
     "metadata": {},
     "output_type": "execute_result"
    }
   ],
   "source": [
    "a.second # 괄호없는 건 객제 변수"
   ]
  },
  {
   "cell_type": "code",
   "execution_count": null,
   "id": "16969859",
   "metadata": {},
   "outputs": [],
   "source": [
    "a.setdata(a)"
   ]
  },
  {
   "cell_type": "markdown",
   "id": "a7bae792",
   "metadata": {},
   "source": [
    "a.mean()은 인스턴스를 활용하는 것이고\n",
    "mean(a)은 그냥 함수를 사용하는 거군요"
   ]
  },
  {
   "cell_type": "code",
   "execution_count": 18,
   "id": "421056ff",
   "metadata": {},
   "outputs": [
    {
     "data": {
      "text/plain": [
       "4"
      ]
     },
     "execution_count": 18,
     "metadata": {},
     "output_type": "execute_result"
    }
   ],
   "source": [
    ">>> a.setdata(4, 2)\n",
    ">>> a.first"
   ]
  },
  {
   "cell_type": "code",
   "execution_count": 21,
   "id": "40367758",
   "metadata": {},
   "outputs": [
    {
     "data": {
      "text/plain": [
       "3"
      ]
     },
     "execution_count": 21,
     "metadata": {},
     "output_type": "execute_result"
    }
   ],
   "source": [
    ">>> b.setdata(3, 7)\n",
    ">>> b.first"
   ]
  },
  {
   "cell_type": "markdown",
   "id": "8a23d7e0",
   "metadata": {},
   "source": [
    "# 더하기 기능 만들기"
   ]
  },
  {
   "cell_type": "code",
   "execution_count": 22,
   "id": "9dfba6c2",
   "metadata": {},
   "outputs": [],
   "source": [
    ">>> class FourCal:\n",
    "...     def setdata(self, first, second):\n",
    "...         self.first = first\n",
    "...         self.second = second\n",
    "...     def add(self):\n",
    "...         result = self.first + self.second\n",
    "...         return result\n"
   ]
  },
  {
   "cell_type": "code",
   "execution_count": 24,
   "id": "16f512b5",
   "metadata": {},
   "outputs": [
    {
     "data": {
      "text/plain": [
       "4"
      ]
     },
     "execution_count": 24,
     "metadata": {},
     "output_type": "execute_result"
    }
   ],
   "source": [
    "a = FourCal() \n",
    "a.setdata(4, 2)\n",
    "a.first"
   ]
  },
  {
   "cell_type": "code",
   "execution_count": 25,
   "id": "4c1ba9db",
   "metadata": {},
   "outputs": [
    {
     "data": {
      "text/plain": [
       "2"
      ]
     },
     "execution_count": 25,
     "metadata": {},
     "output_type": "execute_result"
    }
   ],
   "source": [
    "a.second"
   ]
  },
  {
   "cell_type": "code",
   "execution_count": 26,
   "id": "fe4a88a9",
   "metadata": {},
   "outputs": [],
   "source": [
    "a = FourCal()\n",
    "b = FourCal()"
   ]
  },
  {
   "cell_type": "code",
   "execution_count": 24,
   "id": "59651a23",
   "metadata": {},
   "outputs": [
    {
     "data": {
      "text/plain": [
       "6"
      ]
     },
     "execution_count": 24,
     "metadata": {},
     "output_type": "execute_result"
    }
   ],
   "source": [
    ">>> a.add()"
   ]
  },
  {
   "cell_type": "code",
   "execution_count": 27,
   "id": "7f0064fb",
   "metadata": {},
   "outputs": [],
   "source": [
    ">>> class FourCal:\n",
    "...     def setdata(self, first, second):\n",
    "...         self.first = first\n",
    "...         self.second = second\n",
    "...     def add(self):\n",
    "...         result = self.first + self.second\n",
    "...         return result\n",
    "...     def mul(self):\n",
    "...         result = self.first * self.second\n",
    "...         return result\n",
    "...     def sub(self):\n",
    "...         result = self.first - self.second\n",
    "...         return result\n",
    "...     def div(self):\n",
    "...         result = self.first / self.second\n",
    "...         return result\n"
   ]
  },
  {
   "cell_type": "code",
   "execution_count": 29,
   "id": "56b2d31b",
   "metadata": {},
   "outputs": [
    {
     "name": "stdout",
     "output_type": "stream",
     "text": [
      "6 8 2 2.0 11 24 -5 0.375\n"
     ]
    }
   ],
   "source": [
    ">>> a = FourCal()\n",
    ">>> b = FourCal()\n",
    ">>> a.setdata(4, 2)\n",
    ">>> b.setdata(3, 8)\n",
    "\n",
    "print(a.add(),a.mul(),a.sub(),a.div(),b.add(),b.mul(),b.sub(),b.div())"
   ]
  },
  {
   "cell_type": "markdown",
   "id": "06cb351c",
   "metadata": {},
   "source": [
    "# 생성자"
   ]
  },
  {
   "cell_type": "code",
   "execution_count": 32,
   "id": "b8d2e43b",
   "metadata": {},
   "outputs": [],
   "source": [
    ">>> class FourCal:\n",
    "...     def __init__(self, first, second):\n",
    "...         self.first = first\n",
    "...         self.second = second\n",
    "...     def setdata(self, first, second):\n",
    "...         self.first = first\n",
    "...         self.second = second\n",
    "...     def add(self):\n",
    "...         result = self.first + self.second\n",
    "...         return result\n",
    "...     def mul(self):\n",
    "...         result = self.first * self.second\n",
    "...         return result\n",
    "...     def sub(self):\n",
    "...         result = self.first - self.second\n",
    "...         return result\n",
    "...     def div(self):\n",
    "...         result = self.first / self.second\n",
    "...         return result"
   ]
  },
  {
   "cell_type": "code",
   "execution_count": 34,
   "id": "6504a04e",
   "metadata": {},
   "outputs": [
    {
     "ename": "TypeError",
     "evalue": "FourCal.__init__() missing 2 required positional arguments: 'first' and 'second'",
     "output_type": "error",
     "traceback": [
      "\u001b[1;31m---------------------------------------------------------------------------\u001b[0m",
      "\u001b[1;31mTypeError\u001b[0m                                 Traceback (most recent call last)",
      "Cell \u001b[1;32mIn[34], line 1\u001b[0m\n\u001b[1;32m----> 1\u001b[0m a \u001b[38;5;241m=\u001b[39m FourCal()\n",
      "\u001b[1;31mTypeError\u001b[0m: FourCal.__init__() missing 2 required positional arguments: 'first' and 'second'"
     ]
    }
   ],
   "source": [
    "a = FourCal()"
   ]
  },
  {
   "cell_type": "code",
   "execution_count": 35,
   "id": "2daa3e1e",
   "metadata": {},
   "outputs": [],
   "source": [
    "a=FourCal(4,2)"
   ]
  },
  {
   "cell_type": "code",
   "execution_count": 30,
   "id": "f29c9736",
   "metadata": {},
   "outputs": [],
   "source": [
    "a=FourCal(4,2)\n",
    "# a.setdata(4,2) #안해도 돔"
   ]
  },
  {
   "cell_type": "code",
   "execution_count": 36,
   "id": "42245a14",
   "metadata": {},
   "outputs": [
    {
     "data": {
      "text/plain": [
       "4"
      ]
     },
     "execution_count": 36,
     "metadata": {},
     "output_type": "execute_result"
    }
   ],
   "source": [
    "a.first"
   ]
  },
  {
   "cell_type": "code",
   "execution_count": 37,
   "id": "662b53f7",
   "metadata": {},
   "outputs": [
    {
     "data": {
      "text/plain": [
       "2"
      ]
     },
     "execution_count": 37,
     "metadata": {},
     "output_type": "execute_result"
    }
   ],
   "source": [
    "a.second"
   ]
  },
  {
   "cell_type": "markdown",
   "id": "a1d6e506",
   "metadata": {},
   "source": [
    "# 클래스의 상속\n",
    "```\n",
    "class 클래스_이름(상속할_클래스_이름)\n",
    "\n",
    "상속은 MoreFourCal 클래스처럼 기존 클래스(FourCal)는 그대로 놔둔 채 클래스의 기능을 확장할 때 주로 사용한다.\n",
    "```"
   ]
  },
  {
   "cell_type": "code",
   "execution_count": 38,
   "id": "8881be59",
   "metadata": {},
   "outputs": [],
   "source": [
    ">>> class MoreFourCal(FourCal):\n",
    "...     pass"
   ]
  },
  {
   "cell_type": "code",
   "execution_count": 39,
   "id": "fa780c61",
   "metadata": {},
   "outputs": [
    {
     "name": "stdout",
     "output_type": "stream",
     "text": [
      "6 8 2 2.0\n"
     ]
    }
   ],
   "source": [
    "a = MoreFourCal(4, 2)\n",
    "print(a.add(),a.mul(),a.sub(), a.div())"
   ]
  },
  {
   "cell_type": "code",
   "execution_count": 35,
   "id": "bc491817",
   "metadata": {},
   "outputs": [],
   "source": [
    ">>> class MoreFourCal(FourCal):\n",
    "...     def pow(self):\n",
    "...         result = self.first ** self.second\n",
    "...         return result"
   ]
  },
  {
   "cell_type": "code",
   "execution_count": 36,
   "id": "16e6ffe7",
   "metadata": {},
   "outputs": [
    {
     "data": {
      "text/plain": [
       "6"
      ]
     },
     "execution_count": 36,
     "metadata": {},
     "output_type": "execute_result"
    }
   ],
   "source": [
    ">>> a = MoreFourCal(4, 2)\n",
    ">>> a.pow()\n",
    "16\n",
    ">>> a.add()\n",
    "6\n"
   ]
  },
  {
   "cell_type": "markdown",
   "id": "c9689a1e",
   "metadata": {},
   "source": [
    "# 메서드 오버라이딩\n",
    "\n",
    "부모 클래스(상속한 클래스)에 있는 메서드를 동일한 이름으로 다시 만드는 것"
   ]
  },
  {
   "cell_type": "code",
   "execution_count": 37,
   "id": "57fcc1b4",
   "metadata": {},
   "outputs": [
    {
     "ename": "ZeroDivisionError",
     "evalue": "division by zero",
     "output_type": "error",
     "traceback": [
      "\u001b[1;31m---------------------------------------------------------------------------\u001b[0m",
      "\u001b[1;31mZeroDivisionError\u001b[0m                         Traceback (most recent call last)",
      "Cell \u001b[1;32mIn[37], line 2\u001b[0m\n\u001b[0;32m      1\u001b[0m a \u001b[38;5;241m=\u001b[39m FourCal(\u001b[38;5;241m4\u001b[39m, \u001b[38;5;241m0\u001b[39m)\n\u001b[1;32m----> 2\u001b[0m a\u001b[38;5;241m.\u001b[39mdiv()\n",
      "Cell \u001b[1;32mIn[26], line 18\u001b[0m, in \u001b[0;36mFourCal.div\u001b[1;34m(self)\u001b[0m\n\u001b[0;32m     17\u001b[0m \u001b[38;5;28;01mdef\u001b[39;00m \u001b[38;5;21mdiv\u001b[39m(\u001b[38;5;28mself\u001b[39m):\n\u001b[1;32m---> 18\u001b[0m     result \u001b[38;5;241m=\u001b[39m \u001b[38;5;28mself\u001b[39m\u001b[38;5;241m.\u001b[39mfirst \u001b[38;5;241m/\u001b[39m \u001b[38;5;28mself\u001b[39m\u001b[38;5;241m.\u001b[39msecond\n\u001b[0;32m     19\u001b[0m     \u001b[38;5;28;01mreturn\u001b[39;00m result\n",
      "\u001b[1;31mZeroDivisionError\u001b[0m: division by zero"
     ]
    }
   ],
   "source": [
    "a = FourCal(4, 0)\n",
    "a.div()"
   ]
  },
  {
   "cell_type": "code",
   "execution_count": 40,
   "id": "ca979898",
   "metadata": {},
   "outputs": [],
   "source": [
    ">>> class SafeFourCal(FourCal):\n",
    "...     def div(self):\n",
    "...         if self.second == 0:  # 나누는 값이 0인 경우 0을 리턴하도록 수정\n",
    "...             return 0\n",
    "...         else:\n",
    "...             return self.first / self.second\n"
   ]
  },
  {
   "cell_type": "code",
   "execution_count": 41,
   "id": "d9939660",
   "metadata": {},
   "outputs": [
    {
     "data": {
      "text/plain": [
       "0"
      ]
     },
     "execution_count": 41,
     "metadata": {},
     "output_type": "execute_result"
    }
   ],
   "source": [
    "a = SafeFourCal(4, 0)\n",
    "a.div()"
   ]
  },
  {
   "cell_type": "markdown",
   "id": "0e84a0aa",
   "metadata": {},
   "source": [
    "# 클래스 변수"
   ]
  },
  {
   "cell_type": "code",
   "execution_count": 42,
   "id": "b4d3c2a9",
   "metadata": {},
   "outputs": [],
   "source": [
    ">>> class Family:\n",
    "...     lastname = \"김\""
   ]
  },
  {
   "cell_type": "code",
   "execution_count": 43,
   "id": "5fff0ccb",
   "metadata": {},
   "outputs": [
    {
     "data": {
      "text/plain": [
       "'김'"
      ]
     },
     "execution_count": 43,
     "metadata": {},
     "output_type": "execute_result"
    }
   ],
   "source": [
    ">>> Family.lastname #클래스_이름.클래스변수"
   ]
  },
  {
   "cell_type": "code",
   "execution_count": 44,
   "id": "d7022a59",
   "metadata": {},
   "outputs": [
    {
     "data": {
      "text/plain": [
       "'김'"
      ]
     },
     "execution_count": 44,
     "metadata": {},
     "output_type": "execute_result"
    }
   ],
   "source": [
    ">>> a = Family()\n",
    ">>> b = Family()\n",
    ">>> a.lastname\n",
    ">>> b.lastname"
   ]
  },
  {
   "cell_type": "code",
   "execution_count": 45,
   "id": "896d190b",
   "metadata": {},
   "outputs": [
    {
     "data": {
      "text/plain": [
       "'박'"
      ]
     },
     "execution_count": 45,
     "metadata": {},
     "output_type": "execute_result"
    }
   ],
   "source": [
    ">>> Family.lastname = \"박\"\n",
    ">>> a.lastname\n",
    ">>> b.lastname"
   ]
  },
  {
   "cell_type": "markdown",
   "id": "a5cf841b",
   "metadata": {},
   "source": [
    "# 오류 예외 처리 기법"
   ]
  },
  {
   "cell_type": "markdown",
   "id": "3034879c",
   "metadata": {},
   "source": [
    "## try-except문\n",
    "* 기본 구조임"
   ]
  },
  {
   "cell_type": "markdown",
   "id": "7577ffbe",
   "metadata": {},
   "source": [
    "```\n",
    "try:\n",
    "    ...\n",
    "except [발생오류 [as 오류변수]]: # [--]은 생략가능\n",
    "    ...\n",
    "```\n"
   ]
  },
  {
   "cell_type": "markdown",
   "id": "9ec979c0",
   "metadata": {},
   "source": [
    "## 1. try-except만 쓰는 방법"
   ]
  },
  {
   "cell_type": "markdown",
   "id": "8eca76b3",
   "metadata": {},
   "source": [
    "```\n",
    "try:\n",
    "    ...\n",
    "except:\n",
    "    ...\n",
    "```"
   ]
  },
  {
   "cell_type": "markdown",
   "id": "4e1800a0",
   "metadata": {},
   "source": [
    "## 2. 발생 오류만 포함한 except 문\n",
    "\n",
    "```\n",
    "try:\n",
    "    ...\n",
    "except 발생오류:\n",
    "    ...\n",
    "```"
   ]
  },
  {
   "cell_type": "markdown",
   "id": "4b5c80d7",
   "metadata": {},
   "source": [
    "## 3. 발생 오류와 오류 변수까지 포함한 except 문\n",
    "\n",
    "```\n",
    "try:\n",
    "    ...\n",
    "except 발생오류 as 오류변수:\n",
    "    ...\n",
    "\n",
    "```"
   ]
  },
  {
   "cell_type": "code",
   "execution_count": 2,
   "id": "c7e9e884",
   "metadata": {},
   "outputs": [
    {
     "name": "stdout",
     "output_type": "stream",
     "text": [
      "error\n"
     ]
    }
   ],
   "source": [
    "# try_except.py\n",
    "try:\n",
    "    4 / 0\n",
    "except:\n",
    "    print('error')\n"
   ]
  },
  {
   "cell_type": "code",
   "execution_count": 3,
   "id": "4a7f71a0",
   "metadata": {},
   "outputs": [
    {
     "name": "stdout",
     "output_type": "stream",
     "text": [
      "division by zero\n"
     ]
    }
   ],
   "source": [
    "# try_except.py\n",
    "try:\n",
    "    4 / 0\n",
    "except ZeroDivisionError as e:\n",
    "    print(e)\n"
   ]
  },
  {
   "cell_type": "markdown",
   "id": "5b6e6937",
   "metadata": {},
   "source": [
    "# 여러 개의 오류 처리하기"
   ]
  },
  {
   "cell_type": "markdown",
   "id": "6e163586",
   "metadata": {},
   "source": [
    "```\n",
    "try:\n",
    "    ...\n",
    "except 발생오류1:\n",
    "   ... \n",
    "except 발생오류2:\n",
    "   ...\n",
    "```"
   ]
  },
  {
   "cell_type": "code",
   "execution_count": 2,
   "id": "c39fc028",
   "metadata": {},
   "outputs": [
    {
     "name": "stdout",
     "output_type": "stream",
     "text": [
      "인덱싱 할 수 없습니다.\n"
     ]
    }
   ],
   "source": [
    "# many_error.py\n",
    "try:\n",
    "    a = [1,2]\n",
    "    print(a[3])\n",
    "    4/0\n",
    "except ZeroDivisionError:\n",
    "    print(\"0으로 나눌 수 없습니다.\")\n",
    "except IndexError:\n",
    "    print(\"인덱싱 할 수 없습니다.\")\n",
    "\n",
    "\n",
    "    # 인덱싱 내용이 먼저 나왔기 때문에\n",
    "    # IndexError가 뜬다"
   ]
  },
  {
   "cell_type": "code",
   "execution_count": 5,
   "id": "fe505e6a",
   "metadata": {},
   "outputs": [
    {
     "name": "stdout",
     "output_type": "stream",
     "text": [
      "list index out of range\n"
     ]
    }
   ],
   "source": [
    "try:\n",
    "    a = [1,2]\n",
    "    print(a[3])\n",
    "    4/0\n",
    "except ZeroDivisionError as e:\n",
    "    print(e)\n",
    "except IndexError as e:\n",
    "    print(e)\n"
   ]
  },
  {
   "cell_type": "code",
   "execution_count": 6,
   "id": "8eff24b1",
   "metadata": {},
   "outputs": [
    {
     "name": "stdout",
     "output_type": "stream",
     "text": [
      "list index out of range\n"
     ]
    }
   ],
   "source": [
    "try:\n",
    "    a = [1,2]\n",
    "    print(a[3])\n",
    "    4/0\n",
    "except (ZeroDivisionError, IndexError) as e:\n",
    "    print(e)\n",
    "\n",
    "    # 2개 이상의 오류를 동일하게 처리하기 위해서, 함께 묶어 처리한다."
   ]
  },
  {
   "cell_type": "markdown",
   "id": "863d2de8",
   "metadata": {},
   "source": [
    "# try-else문"
   ]
  },
  {
   "cell_type": "markdown",
   "id": "cb38958c",
   "metadata": {},
   "source": [
    "```\n",
    "try:\n",
    "    ...\n",
    "except [발생오류 [as 오류변수]]:\n",
    "    ...\n",
    "else:  # 오류가 없을 경우에만 수행\n",
    "    ...\n",
    "```"
   ]
  },
  {
   "cell_type": "code",
   "execution_count": 4,
   "id": "f2471e68",
   "metadata": {},
   "outputs": [
    {
     "name": "stdout",
     "output_type": "stream",
     "text": [
      "나이를 입력하세요: ㅅ;ㅁ\n",
      "입력이 정확하지 않습니다.\n"
     ]
    }
   ],
   "source": [
    "# try_else.py\n",
    "try:\n",
    "    age=int(input('나이를 입력하세요: '))\n",
    "except:\n",
    "    print('입력이 정확하지 않습니다.')\n",
    "else:\n",
    "    if age <= 18:\n",
    "        print('미성년자는 출입금지입니다.')\n",
    "    else:\n",
    "        print('환영합니다.')"
   ]
  },
  {
   "cell_type": "markdown",
   "id": "1c3bcc5b",
   "metadata": {},
   "source": [
    "# 오류 회피하기\n",
    "\n",
    "* 특정 오류가 발생할 경우 그냥 통과시키기"
   ]
  },
  {
   "cell_type": "code",
   "execution_count": 9,
   "id": "6e60af60",
   "metadata": {},
   "outputs": [],
   "source": [
    "# error_pass.py\n",
    "try:\n",
    "    f = open(\"나없는파일\", 'r')\n",
    "except FileNotFoundError:\n",
    "    pass\n",
    "\n",
    "# try문 안에서 FileNotFoundError가 발생할 경우\n",
    "# 그냥 pass사용해서 오류를 그냥 회피시키기"
   ]
  },
  {
   "cell_type": "markdown",
   "id": "62a931f8",
   "metadata": {},
   "source": [
    "# 오류 일부러 발생시키기"
   ]
  },
  {
   "cell_type": "code",
   "execution_count": 5,
   "id": "c1d9cc77",
   "metadata": {},
   "outputs": [],
   "source": [
    "# error_raise.py\n",
    "class Bird:\n",
    "    def fly(self):\n",
    "        raise NotImplementedError"
   ]
  },
  {
   "cell_type": "markdown",
   "id": "a1f35cc8",
   "metadata": {},
   "source": [
    "NotImplementedError는 파이썬에 이미 정의되어 있는 오류로, 꼭 작성해야 하는 부분이 구현되지 않았을 경우 일부러 오류를 발생시키기 위해 사용한다."
   ]
  }
 ],
 "metadata": {
  "kernelspec": {
   "display_name": "Python 3 (ipykernel)",
   "language": "python",
   "name": "python3"
  },
  "language_info": {
   "codemirror_mode": {
    "name": "ipython",
    "version": 3
   },
   "file_extension": ".py",
   "mimetype": "text/x-python",
   "name": "python",
   "nbconvert_exporter": "python",
   "pygments_lexer": "ipython3",
   "version": "3.11.5"
  }
 },
 "nbformat": 4,
 "nbformat_minor": 5
}
