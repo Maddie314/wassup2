{
 "cells": [
  {
   "cell_type": "markdown",
   "id": "bf0b752d",
   "metadata": {},
   "source": [
    "# 51-60"
   ]
  },
  {
   "cell_type": "code",
   "execution_count": 1,
   "id": "1b5cc22f",
   "metadata": {},
   "outputs": [
    {
     "data": {
      "text/plain": [
       "['닥터 스트레인지', '스플릿', '럭키']"
      ]
     },
     "execution_count": 1,
     "metadata": {},
     "output_type": "execute_result"
    }
   ],
   "source": [
    "movie_rank =['닥터 스트레인지','스플릿','럭키']\n",
    "movie_rank"
   ]
  },
  {
   "cell_type": "code",
   "execution_count": 5,
   "id": "db3d0343",
   "metadata": {},
   "outputs": [
    {
     "data": {
      "text/plain": [
       "['닥터 스트레인지', '스플릿', '럭키', '배트맨']"
      ]
     },
     "execution_count": 5,
     "metadata": {},
     "output_type": "execute_result"
    }
   ],
   "source": [
    "movie_rank.append('배트맨')\n",
    "movie_rank"
   ]
  },
  {
   "cell_type": "code",
   "execution_count": null,
   "id": "643f902d",
   "metadata": {},
   "outputs": [],
   "source": [
    "movie_rank = ['닥터 스트레인지', '스플릿', '럭키', '배트맨']"
   ]
  },
  {
   "cell_type": "code",
   "execution_count": 7,
   "id": "a5b62f4b",
   "metadata": {},
   "outputs": [
    {
     "data": {
      "text/plain": [
       "['닥터 스트레인지', '슈퍼맨', '슈퍼맨', '스플릿', '럭키', '배트맨']"
      ]
     },
     "execution_count": 7,
     "metadata": {},
     "output_type": "execute_result"
    }
   ],
   "source": [
    "movie_rank.insert(1,'슈퍼맨')\n",
    "movie_rank"
   ]
  },
  {
   "cell_type": "code",
   "execution_count": 9,
   "id": "499b2a9c",
   "metadata": {},
   "outputs": [
    {
     "data": {
      "text/plain": [
       "['닥터 스트레인지', '슈퍼맨', '스플릿', '럭키']"
      ]
     },
     "execution_count": 9,
     "metadata": {},
     "output_type": "execute_result"
    }
   ],
   "source": [
    "movie_rank = ['닥터 스트레인지', '슈퍼맨', '스플릿', '럭키', '배트맨']\n",
    "del movie_rank [4]\n",
    "movie_rank"
   ]
  },
  {
   "cell_type": "code",
   "execution_count": 12,
   "id": "01d924c3",
   "metadata": {},
   "outputs": [
    {
     "data": {
      "text/plain": [
       "['닥터 스트레인지', '슈퍼맨', '스플릿']"
      ]
     },
     "execution_count": 12,
     "metadata": {},
     "output_type": "execute_result"
    }
   ],
   "source": [
    "del movie_rank[3:]\n",
    "movie_rank"
   ]
  },
  {
   "cell_type": "code",
   "execution_count": 13,
   "id": "e2b7c681",
   "metadata": {},
   "outputs": [
    {
     "data": {
      "text/plain": [
       "['C', 'C++', 'JAVA', 'Python', 'Go', 'C#']"
      ]
     },
     "execution_count": 13,
     "metadata": {},
     "output_type": "execute_result"
    }
   ],
   "source": [
    "lang1 = [\"C\", \"C++\", \"JAVA\"]\n",
    "lang2 = [\"Python\", \"Go\", \"C#\"]\n",
    "lang1 + lang2"
   ]
  },
  {
   "cell_type": "code",
   "execution_count": 14,
   "id": "5670c753",
   "metadata": {},
   "outputs": [
    {
     "data": {
      "text/plain": [
       "1"
      ]
     },
     "execution_count": 14,
     "metadata": {},
     "output_type": "execute_result"
    }
   ],
   "source": [
    "nums = [1, 2, 3, 4, 5, 6, 7]\n",
    "min(nums)"
   ]
  },
  {
   "cell_type": "code",
   "execution_count": 15,
   "id": "add99086",
   "metadata": {},
   "outputs": [
    {
     "data": {
      "text/plain": [
       "7"
      ]
     },
     "execution_count": 15,
     "metadata": {},
     "output_type": "execute_result"
    }
   ],
   "source": [
    "max(nums)"
   ]
  },
  {
   "cell_type": "code",
   "execution_count": 16,
   "id": "3525e0e0",
   "metadata": {},
   "outputs": [
    {
     "data": {
      "text/plain": [
       "15"
      ]
     },
     "execution_count": 16,
     "metadata": {},
     "output_type": "execute_result"
    }
   ],
   "source": [
    "nums = [1, 2, 3, 4, 5]\n",
    "sum(nums)"
   ]
  },
  {
   "cell_type": "code",
   "execution_count": 17,
   "id": "1bb5785f",
   "metadata": {},
   "outputs": [
    {
     "data": {
      "text/plain": [
       "12"
      ]
     },
     "execution_count": 17,
     "metadata": {},
     "output_type": "execute_result"
    }
   ],
   "source": [
    "cook = [\"피자\", \"김밥\", \"만두\", \"양념치킨\", \"족발\", \"피자\", \"김치만두\", \"쫄면\", \"소시지\", \"라면\", \"팥빙수\", \"김치전\"]\n",
    "len(cook)"
   ]
  },
  {
   "cell_type": "code",
   "execution_count": null,
   "id": "845657fc",
   "metadata": {},
   "outputs": [],
   "source": [
    "#60\n",
    "평균 구할 때, len() 이용해도 됌"
   ]
  },
  {
   "cell_type": "code",
   "execution_count": 19,
   "id": "19b63550",
   "metadata": {},
   "outputs": [
    {
     "data": {
      "text/plain": [
       "3.0"
      ]
     },
     "execution_count": 19,
     "metadata": {},
     "output_type": "execute_result"
    }
   ],
   "source": [
    "nums = [1, 2, 3, 4, 5]\n",
    "sum(nums)/len(nums)"
   ]
  },
  {
   "cell_type": "markdown",
   "id": "1e10fa71",
   "metadata": {},
   "source": [
    "# 61-70"
   ]
  },
  {
   "cell_type": "code",
   "execution_count": 20,
   "id": "610f6a59",
   "metadata": {},
   "outputs": [
    {
     "data": {
      "text/plain": [
       "[100, 130, 140, 150, 160, 170]"
      ]
     },
     "execution_count": 20,
     "metadata": {},
     "output_type": "execute_result"
    }
   ],
   "source": [
    "price = ['20180728', 100, 130, 140, 150, 160, 170]\n",
    "price[1:]"
   ]
  },
  {
   "cell_type": "code",
   "execution_count": 22,
   "id": "951861ce",
   "metadata": {},
   "outputs": [
    {
     "data": {
      "text/plain": [
       "[1, 3, 5, 7, 9]"
      ]
     },
     "execution_count": 22,
     "metadata": {},
     "output_type": "execute_result"
    }
   ],
   "source": [
    "nums = [1, 2, 3, 4, 5, 6, 7, 8, 9, 10]\n",
    "nums[::2]"
   ]
  },
  {
   "cell_type": "code",
   "execution_count": 23,
   "id": "876dc134",
   "metadata": {},
   "outputs": [
    {
     "data": {
      "text/plain": [
       "[2, 4, 6, 8, 10]"
      ]
     },
     "execution_count": 23,
     "metadata": {},
     "output_type": "execute_result"
    }
   ],
   "source": [
    "nums[1::2]"
   ]
  },
  {
   "cell_type": "code",
   "execution_count": 25,
   "id": "1b84b343",
   "metadata": {},
   "outputs": [
    {
     "data": {
      "text/plain": [
       "[5, 4, 3, 2, 1]"
      ]
     },
     "execution_count": 25,
     "metadata": {},
     "output_type": "execute_result"
    }
   ],
   "source": [
    "nums = [1, 2, 3, 4, 5]\n",
    "nums.reverse()\n",
    "nums"
   ]
  },
  {
   "cell_type": "code",
   "execution_count": 29,
   "id": "89173b56",
   "metadata": {},
   "outputs": [
    {
     "name": "stdout",
     "output_type": "stream",
     "text": [
      "삼성전자 Naver\n"
     ]
    }
   ],
   "source": [
    "interest = ['삼성전자', 'LG전자', 'Naver']\n",
    "print(interest[0],interest[2])"
   ]
  },
  {
   "cell_type": "code",
   "execution_count": 33,
   "id": "dfa2880a",
   "metadata": {},
   "outputs": [
    {
     "name": "stdout",
     "output_type": "stream",
     "text": [
      "삼성전자 LG전자 Naver SK하이닉스 미래에셋대우\n"
     ]
    }
   ],
   "source": [
    "interest = ['삼성전자', 'LG전자', 'Naver', 'SK하이닉스', '미래에셋대우']\n",
    "print(\" \".join(interest))"
   ]
  },
  {
   "cell_type": "code",
   "execution_count": 34,
   "id": "135fb8aa",
   "metadata": {},
   "outputs": [
    {
     "name": "stdout",
     "output_type": "stream",
     "text": [
      "삼성전자/LG전자/Naver/SK하이닉스/미래에셋대우\n"
     ]
    }
   ],
   "source": [
    "interest = ['삼성전자', 'LG전자', 'Naver', 'SK하이닉스', '미래에셋대우']\n",
    "print(\"/\".join(interest))"
   ]
  },
  {
   "cell_type": "code",
   "execution_count": 35,
   "id": "af5749f0",
   "metadata": {},
   "outputs": [
    {
     "name": "stdout",
     "output_type": "stream",
     "text": [
      "삼성전자\n",
      "LG전자\n",
      "Naver\n",
      "SK하이닉스\n",
      "미래에셋대우\n"
     ]
    }
   ],
   "source": [
    "interest = ['삼성전자', 'LG전자', 'Naver', 'SK하이닉스', '미래에셋대우']\n",
    "print('\\n'.join(interest))"
   ]
  },
  {
   "cell_type": "code",
   "execution_count": 36,
   "id": "99416713",
   "metadata": {},
   "outputs": [
    {
     "data": {
      "text/plain": [
       "['삼성전자', 'LG전자', 'Naver']"
      ]
     },
     "execution_count": 36,
     "metadata": {},
     "output_type": "execute_result"
    }
   ],
   "source": [
    "string = \"삼성전자/LG전자/Naver\"\n",
    "string.split(\"/\")"
   ]
  },
  {
   "cell_type": "code",
   "execution_count": 39,
   "id": "a7db5fe0",
   "metadata": {},
   "outputs": [
    {
     "data": {
      "text/plain": [
       "[1, 2, 3, 4, 5, 9, 10]"
      ]
     },
     "execution_count": 39,
     "metadata": {},
     "output_type": "execute_result"
    }
   ],
   "source": [
    "data = [2, 4, 3, 1, 5, 10, 9]\n",
    "data.sort()\n",
    "data"
   ]
  },
  {
   "cell_type": "markdown",
   "id": "31f298e2",
   "metadata": {},
   "source": [
    "# 71-80"
   ]
  },
  {
   "cell_type": "code",
   "execution_count": 41,
   "id": "fb2c98f7",
   "metadata": {},
   "outputs": [
    {
     "data": {
      "text/plain": [
       "tuple"
      ]
     },
     "execution_count": 41,
     "metadata": {},
     "output_type": "execute_result"
    }
   ],
   "source": [
    "my_variable = ()\n",
    "type(my_variable)"
   ]
  },
  {
   "cell_type": "code",
   "execution_count": 44,
   "id": "42dc9d8a",
   "metadata": {},
   "outputs": [],
   "source": [
    "movie_rank = ('닥터 스트레인지', '스플릿', '럭키')"
   ]
  },
  {
   "cell_type": "code",
   "execution_count": 46,
   "id": "b4300eb9",
   "metadata": {},
   "outputs": [
    {
     "data": {
      "text/plain": [
       "1"
      ]
     },
     "execution_count": 46,
     "metadata": {},
     "output_type": "execute_result"
    }
   ],
   "source": [
    "t = (1)\n",
    "t"
   ]
  },
  {
   "cell_type": "code",
   "execution_count": 49,
   "id": "412a5eda",
   "metadata": {
    "scrolled": true
   },
   "outputs": [
    {
     "ename": "TypeError",
     "evalue": "'tuple' object does not support item assignment",
     "output_type": "error",
     "traceback": [
      "\u001b[1;31m---------------------------------------------------------------------------\u001b[0m",
      "\u001b[1;31mTypeError\u001b[0m                                 Traceback (most recent call last)",
      "Cell \u001b[1;32mIn[49], line 2\u001b[0m\n\u001b[0;32m      1\u001b[0m t \u001b[38;5;241m=\u001b[39m (\u001b[38;5;241m1\u001b[39m, \u001b[38;5;241m2\u001b[39m, \u001b[38;5;241m3\u001b[39m)\n\u001b[1;32m----> 2\u001b[0m t[\u001b[38;5;241m0\u001b[39m] \u001b[38;5;241m=\u001b[39m \u001b[38;5;124m'\u001b[39m\u001b[38;5;124ma\u001b[39m\u001b[38;5;124m'\u001b[39m\n",
      "\u001b[1;31mTypeError\u001b[0m: 'tuple' object does not support item assignment"
     ]
    }
   ],
   "source": [
    "t = (1, 2, 3)\n",
    "t[0] = 'a' # 튜플은 수정 삭제 변경 불가"
   ]
  },
  {
   "cell_type": "code",
   "execution_count": 52,
   "id": "71941a1b",
   "metadata": {},
   "outputs": [
    {
     "data": {
      "text/plain": [
       "tuple"
      ]
     },
     "execution_count": 52,
     "metadata": {},
     "output_type": "execute_result"
    }
   ],
   "source": [
    "t = 1, 2, 3, 4\n",
    "type(t)\n",
    "#원칙적으로 튜플은 괄호와 함께 데이터를 정의해야 하지만, \n",
    "#사용자 편의를 위해 괄호 없이도 동작합니다."
   ]
  },
  {
   "cell_type": "code",
   "execution_count": 53,
   "id": "b4e6e800",
   "metadata": {},
   "outputs": [
    {
     "ename": "TypeError",
     "evalue": "'tuple' object does not support item assignment",
     "output_type": "error",
     "traceback": [
      "\u001b[1;31m---------------------------------------------------------------------------\u001b[0m",
      "\u001b[1;31mTypeError\u001b[0m                                 Traceback (most recent call last)",
      "Cell \u001b[1;32mIn[53], line 2\u001b[0m\n\u001b[0;32m      1\u001b[0m t \u001b[38;5;241m=\u001b[39m (\u001b[38;5;124m'\u001b[39m\u001b[38;5;124ma\u001b[39m\u001b[38;5;124m'\u001b[39m, \u001b[38;5;124m'\u001b[39m\u001b[38;5;124mb\u001b[39m\u001b[38;5;124m'\u001b[39m, \u001b[38;5;124m'\u001b[39m\u001b[38;5;124mc\u001b[39m\u001b[38;5;124m'\u001b[39m)\n\u001b[1;32m----> 2\u001b[0m t[\u001b[38;5;241m0\u001b[39m]\u001b[38;5;241m=\u001b[39m\u001b[38;5;124m'\u001b[39m\u001b[38;5;124mA\u001b[39m\u001b[38;5;124m'\u001b[39m\n",
      "\u001b[1;31mTypeError\u001b[0m: 'tuple' object does not support item assignment"
     ]
    }
   ],
   "source": [
    "t = ('a', 'b', 'c')\n",
    "t[0]='A'"
   ]
  },
  {
   "cell_type": "code",
   "execution_count": 54,
   "id": "d345e71e",
   "metadata": {},
   "outputs": [],
   "source": [
    "t = ('A', 'b', 'c')"
   ]
  },
  {
   "cell_type": "code",
   "execution_count": 57,
   "id": "aaa1adf3",
   "metadata": {},
   "outputs": [
    {
     "data": {
      "text/plain": [
       "list"
      ]
     },
     "execution_count": 57,
     "metadata": {},
     "output_type": "execute_result"
    }
   ],
   "source": [
    "interest = ('삼성전자', 'LG전자', 'SK Hynix')\n",
    "interest= list(interest)\n",
    "type(interest)"
   ]
  },
  {
   "cell_type": "code",
   "execution_count": 58,
   "id": "aedfedea",
   "metadata": {},
   "outputs": [
    {
     "data": {
      "text/plain": [
       "('삼성전자', 'LG전자', 'SK Hynix')"
      ]
     },
     "execution_count": 58,
     "metadata": {},
     "output_type": "execute_result"
    }
   ],
   "source": [
    "interest = ('삼성전자', 'LG전자', 'SK Hynix')\n",
    "tuple(interest)"
   ]
  },
  {
   "cell_type": "code",
   "execution_count": 59,
   "id": "9cb06f2b",
   "metadata": {},
   "outputs": [
    {
     "name": "stdout",
     "output_type": "stream",
     "text": [
      "apple banana cake\n"
     ]
    }
   ],
   "source": [
    "temp = ('apple', 'banana', 'cake')\n",
    "a, b, c = temp\n",
    "print(a, b, c)\n"
   ]
  },
  {
   "cell_type": "code",
   "execution_count": null,
   "id": "5c92d276",
   "metadata": {},
   "outputs": [],
   "source": [
    "#80"
   ]
  },
  {
   "cell_type": "code",
   "execution_count": 61,
   "id": "29ed4d99",
   "metadata": {},
   "outputs": [
    {
     "data": {
      "text/plain": [
       "(2,\n",
       " 4,\n",
       " 6,\n",
       " 8,\n",
       " 10,\n",
       " 12,\n",
       " 14,\n",
       " 16,\n",
       " 18,\n",
       " 20,\n",
       " 22,\n",
       " 24,\n",
       " 26,\n",
       " 28,\n",
       " 30,\n",
       " 32,\n",
       " 34,\n",
       " 36,\n",
       " 38,\n",
       " 40,\n",
       " 42,\n",
       " 44,\n",
       " 46,\n",
       " 48,\n",
       " 50,\n",
       " 52,\n",
       " 54,\n",
       " 56,\n",
       " 58,\n",
       " 60,\n",
       " 62,\n",
       " 64,\n",
       " 66,\n",
       " 68,\n",
       " 70,\n",
       " 72,\n",
       " 74,\n",
       " 76,\n",
       " 78,\n",
       " 80,\n",
       " 82,\n",
       " 84,\n",
       " 86,\n",
       " 88,\n",
       " 90,\n",
       " 92,\n",
       " 94,\n",
       " 96,\n",
       " 98)"
      ]
     },
     "execution_count": 61,
     "metadata": {},
     "output_type": "execute_result"
    }
   ],
   "source": [
    "data=tuple(range(2,100,2))\n",
    "data"
   ]
  },
  {
   "cell_type": "markdown",
   "id": "597eeffd",
   "metadata": {},
   "source": [
    "# 81-90"
   ]
  },
  {
   "cell_type": "code",
   "execution_count": 62,
   "id": "3c930d9b",
   "metadata": {},
   "outputs": [
    {
     "name": "stdout",
     "output_type": "stream",
     "text": [
      "[8.8, 8.9, 8.7, 9.2, 9.3, 9.7, 9.9, 9.5]\n"
     ]
    }
   ],
   "source": [
    "scores = [8.8, 8.9, 8.7, 9.2, 9.3, 9.7, 9.9, 9.5, 7.8, 9.4]\n",
    "*valid_score, _, _= scores\n",
    "print(valid_score)"
   ]
  },
  {
   "cell_type": "code",
   "execution_count": 65,
   "id": "057bb4ae",
   "metadata": {},
   "outputs": [
    {
     "name": "stdout",
     "output_type": "stream",
     "text": [
      "[8.7, 9.2, 9.3, 9.7, 9.9, 9.5, 7.8, 9.4]\n"
     ]
    }
   ],
   "source": [
    "scores = [8.8, 8.9, 8.7, 9.2, 9.3, 9.7, 9.9, 9.5, 7.8, 9.4]\n",
    "a,b,*valid_score =scores\n",
    "print(valid_score)"
   ]
  },
  {
   "cell_type": "code",
   "execution_count": 66,
   "id": "49b98ab6",
   "metadata": {},
   "outputs": [
    {
     "name": "stdout",
     "output_type": "stream",
     "text": [
      "[8.9, 8.7, 9.2, 9.3, 9.7, 9.9, 9.5, 7.8]\n"
     ]
    }
   ],
   "source": [
    "scores = [8.8, 8.9, 8.7, 9.2, 9.3, 9.7, 9.9, 9.5, 7.8, 9.4]\n",
    "a,*valid_score,c =scores\n",
    "print(valid_score)"
   ]
  },
  {
   "cell_type": "code",
   "execution_count": 68,
   "id": "d82c1ab8",
   "metadata": {},
   "outputs": [],
   "source": [
    "temp={}"
   ]
  },
  {
   "cell_type": "code",
   "execution_count": 71,
   "id": "f9a77d36",
   "metadata": {},
   "outputs": [
    {
     "data": {
      "text/plain": [
       "{'메로나': 1000, '폴라포': 1200, '빵빠레': 1800}"
      ]
     },
     "execution_count": 71,
     "metadata": {},
     "output_type": "execute_result"
    }
   ],
   "source": [
    "temp={'메로나':1000,'폴라포':1200,'빵빠레':1800}\n",
    "temp"
   ]
  },
  {
   "cell_type": "code",
   "execution_count": 73,
   "id": "bef85bd1",
   "metadata": {},
   "outputs": [
    {
     "data": {
      "text/plain": [
       "{'메로나': 1000, '폴라포': 1200, '빵빠레': 1800, '죠스바': 1200, '월드콘': 1500}"
      ]
     },
     "execution_count": 73,
     "metadata": {},
     "output_type": "execute_result"
    }
   ],
   "source": [
    "temp[\"죠스바\"]=1200\n",
    "temp['월드콘']=1500\n",
    "temp"
   ]
  },
  {
   "cell_type": "code",
   "execution_count": 76,
   "id": "4510d039",
   "metadata": {},
   "outputs": [
    {
     "name": "stdout",
     "output_type": "stream",
     "text": [
      "메로나 가격: 1000\n"
     ]
    }
   ],
   "source": [
    "print('메로나 가격:',temp['메로나'])"
   ]
  },
  {
   "cell_type": "code",
   "execution_count": 78,
   "id": "10eea564",
   "metadata": {},
   "outputs": [
    {
     "data": {
      "text/plain": [
       "{'메로나': 1300, '폴라포': 1200, '빵빠레': 1800, '죠스바': 1200, '월드콘': 1500}"
      ]
     },
     "execution_count": 78,
     "metadata": {},
     "output_type": "execute_result"
    }
   ],
   "source": [
    "temp['메로나']=1300\n",
    "temp"
   ]
  },
  {
   "cell_type": "code",
   "execution_count": 84,
   "id": "b20f894c",
   "metadata": {},
   "outputs": [
    {
     "name": "stdout",
     "output_type": "stream",
     "text": [
      "{'폴라포': 1200, '빵빠레': 1800, '죠스바': 1200, '월드콘': 1500}\n"
     ]
    }
   ],
   "source": [
    "\n",
    "print(temp)"
   ]
  },
  {
   "cell_type": "code",
   "execution_count": 85,
   "id": "45a010bc",
   "metadata": {},
   "outputs": [
    {
     "ename": "KeyError",
     "evalue": "'누가바'",
     "output_type": "error",
     "traceback": [
      "\u001b[1;31m---------------------------------------------------------------------------\u001b[0m",
      "\u001b[1;31mKeyError\u001b[0m                                  Traceback (most recent call last)",
      "Cell \u001b[1;32mIn[85], line 2\u001b[0m\n\u001b[0;32m      1\u001b[0m icecream \u001b[38;5;241m=\u001b[39m {\u001b[38;5;124m'\u001b[39m\u001b[38;5;124m폴라포\u001b[39m\u001b[38;5;124m'\u001b[39m: \u001b[38;5;241m1200\u001b[39m, \u001b[38;5;124m'\u001b[39m\u001b[38;5;124m빵빠레\u001b[39m\u001b[38;5;124m'\u001b[39m: \u001b[38;5;241m1800\u001b[39m, \u001b[38;5;124m'\u001b[39m\u001b[38;5;124m월드콘\u001b[39m\u001b[38;5;124m'\u001b[39m: \u001b[38;5;241m1500\u001b[39m, \u001b[38;5;124m'\u001b[39m\u001b[38;5;124m메로나\u001b[39m\u001b[38;5;124m'\u001b[39m: \u001b[38;5;241m1000\u001b[39m}\n\u001b[1;32m----> 2\u001b[0m icecream[\u001b[38;5;124m'\u001b[39m\u001b[38;5;124m누가바\u001b[39m\u001b[38;5;124m'\u001b[39m]\n",
      "\u001b[1;31mKeyError\u001b[0m: '누가바'"
     ]
    }
   ],
   "source": [
    "icecream = {'폴라포': 1200, '빵빠레': 1800, '월드콘': 1500, '메로나': 1000}\n",
    "icecream['누가바']\n",
    "# 딕셔너리 없는 키여서"
   ]
  },
  {
   "cell_type": "markdown",
   "id": "94ffda41",
   "metadata": {},
   "source": [
    "# 91-100"
   ]
  },
  {
   "cell_type": "code",
   "execution_count": 86,
   "id": "16569337",
   "metadata": {},
   "outputs": [
    {
     "name": "stdout",
     "output_type": "stream",
     "text": [
      "{'메로나': [300, 20], '비비빅': [400, 3], '죠스바': [250, 100]}\n"
     ]
    }
   ],
   "source": [
    "inventory = {\"메로나\": [300, 20], \n",
    "             \"비비빅\": [400, 3], \n",
    "             \"죠스바\": [250, 100]}\n",
    "print(inventory)"
   ]
  },
  {
   "cell_type": "code",
   "execution_count": 90,
   "id": "255e9188",
   "metadata": {},
   "outputs": [
    {
     "name": "stdout",
     "output_type": "stream",
     "text": [
      "300 원\n"
     ]
    }
   ],
   "source": [
    "print(inventory['메로나'][0],'원')"
   ]
  },
  {
   "cell_type": "code",
   "execution_count": 91,
   "id": "ee012bc8",
   "metadata": {},
   "outputs": [
    {
     "name": "stdout",
     "output_type": "stream",
     "text": [
      "20 개\n"
     ]
    }
   ],
   "source": [
    "print(inventory['메로나'][1],'개')"
   ]
  },
  {
   "cell_type": "code",
   "execution_count": 93,
   "id": "85c25db5",
   "metadata": {},
   "outputs": [
    {
     "data": {
      "text/plain": [
       "{'메로나': [300, 20], '비비빅': [400, 3], '죠스바': [250, 100], '월드콘': [500, 7]}"
      ]
     },
     "execution_count": 93,
     "metadata": {},
     "output_type": "execute_result"
    }
   ],
   "source": [
    "inventory[\"월드콘\"]=[500,7]\n",
    "inventory"
   ]
  },
  {
   "cell_type": "code",
   "execution_count": 98,
   "id": "81badbf2",
   "metadata": {},
   "outputs": [
    {
     "data": {
      "text/plain": [
       "['탱크보이', '폴라포', '빵빠레', '월드콘', '메로나']"
      ]
     },
     "execution_count": 98,
     "metadata": {},
     "output_type": "execute_result"
    }
   ],
   "source": [
    "icecream = {'탱크보이': 1200, '폴라포': 1200, '빵빠레': 1800, '월드콘': 1500, '메로나': 1000}\n",
    "icecream=list(icecream.keys())\n",
    "icecream"
   ]
  },
  {
   "cell_type": "code",
   "execution_count": 100,
   "id": "71096673",
   "metadata": {},
   "outputs": [
    {
     "data": {
      "text/plain": [
       "[1200, 1200, 1800, 1500, 1000]"
      ]
     },
     "execution_count": 100,
     "metadata": {},
     "output_type": "execute_result"
    }
   ],
   "source": [
    "icecream = {'탱크보이': 1200, '폴라포': 1200, '빵빠레': 1800, '월드콘': 1500, '메로나': 1000}\n",
    "\n",
    "icecream=list(icecream.values())\n",
    "icecream"
   ]
  },
  {
   "cell_type": "code",
   "execution_count": 102,
   "id": "19fbc9f1",
   "metadata": {},
   "outputs": [
    {
     "data": {
      "text/plain": [
       "6700"
      ]
     },
     "execution_count": 102,
     "metadata": {},
     "output_type": "execute_result"
    }
   ],
   "source": [
    "icecream = {'탱크보이': 1200, '폴라포': 1200, '빵빠레': 1800, '월드콘': 1500, '메로나': 1000}\n",
    "icecream=list(icecream.values())\n",
    "sum(icecream)"
   ]
  },
  {
   "cell_type": "code",
   "execution_count": 103,
   "id": "7cfe8ed2",
   "metadata": {},
   "outputs": [
    {
     "name": "stdout",
     "output_type": "stream",
     "text": [
      "{'탱크보이': 1200, '폴라포': 1200, '빵빠레': 1800, '월드콘': 1500, '메로나': 1000, '팥빙수': 2700, '아맛나': 1000}\n"
     ]
    }
   ],
   "source": [
    "icecream = {'탱크보이': 1200, '폴라포': 1200, '빵빠레': 1800, '월드콘': 1500, '메로나': 1000}\n",
    "new_product = {'팥빙수':2700, '아맛나':1000}\n",
    "icecream.update(new_product)\n",
    "print(icecream)"
   ]
  },
  {
   "cell_type": "code",
   "execution_count": 104,
   "id": "04c74a37",
   "metadata": {},
   "outputs": [
    {
     "name": "stdout",
     "output_type": "stream",
     "text": [
      "{'apple': 300, 'pear': 250, 'peach': 400}\n"
     ]
    }
   ],
   "source": [
    "keys = (\"apple\", \"pear\", \"peach\")\n",
    "vals = (300, 250, 400)\n",
    "result=dict(zip(keys,vals))\n",
    "print(result)"
   ]
  },
  {
   "cell_type": "code",
   "execution_count": 105,
   "id": "1a26ea68",
   "metadata": {},
   "outputs": [
    {
     "name": "stdout",
     "output_type": "stream",
     "text": [
      "{'09/05': 10500, '09/06': 10300, '09/07': 10100, '09/08': 10800, '09/09': 11000}\n"
     ]
    }
   ],
   "source": [
    "date = ['09/05', '09/06', '09/07', '09/08', '09/09']\n",
    "close_price = [10500, 10300, 10100, 10800, 11000]\n",
    "close_table=dict(zip(date, close_price))\n",
    "print(close_table)"
   ]
  }
 ],
 "metadata": {
  "kernelspec": {
   "display_name": "Python 3 (ipykernel)",
   "language": "python",
   "name": "python3"
  },
  "language_info": {
   "codemirror_mode": {
    "name": "ipython",
    "version": 3
   },
   "file_extension": ".py",
   "mimetype": "text/x-python",
   "name": "python",
   "nbconvert_exporter": "python",
   "pygments_lexer": "ipython3",
   "version": "3.11.5"
  }
 },
 "nbformat": 4,
 "nbformat_minor": 5
}
