{
 "cells": [
  {
   "cell_type": "markdown",
   "id": "8bdae996",
   "metadata": {},
   "source": [
    "# 251-260"
   ]
  },
  {
   "cell_type": "code",
   "execution_count": null,
   "id": "000316e4",
   "metadata": {},
   "outputs": [],
   "source": [
    "# 클래스: 설계도, 관련 있는 데이터와 함수를 한 데 모아 정의할 수 있음\n",
    "# -> 객체나 인스턴스의 설계도\n",
    "\n",
    "# 객체: 클래스로 만들어진 결과물\n",
    "# 인스턴스\n",
    "# 인스턴스명 = 클래스()"
   ]
  },
  {
   "cell_type": "markdown",
   "id": "728d223d",
   "metadata": {},
   "source": [
    "```\n",
    "class 클래스 이름:\n",
    "     def 메서드 이름(self)\n",
    "     명령블록\n",
    "\n",
    "객체 = 클래스 이름(생성자)\n",
    "객체.메서드()\n",
    "```"
   ]
  },
  {
   "cell_type": "markdown",
   "id": "2723dae9",
   "metadata": {},
   "source": [
    "```\n",
    "class Monster:\n",
    "    def __init__(self, name): # __init__ 생성자 \n",
    "         self.name=name\n",
    "    def say(self):\n",
    "        print(f'나는 {self.name}')\n",
    "shark=Monser('상어') # 매개변수: 상어\n",
    "```"
   ]
  },
  {
   "cell_type": "code",
   "execution_count": 2,
   "id": "0f0178c7",
   "metadata": {},
   "outputs": [],
   "source": [
    "class Human:\n",
    "    pass"
   ]
  },
  {
   "cell_type": "code",
   "execution_count": 3,
   "id": "7babc380",
   "metadata": {},
   "outputs": [],
   "source": [
    "class Human:\n",
    "    areum = Human()"
   ]
  },
  {
   "cell_type": "code",
   "execution_count": 8,
   "id": "e8a5b453",
   "metadata": {},
   "outputs": [
    {
     "name": "stdout",
     "output_type": "stream",
     "text": [
      "응애응애\n"
     ]
    }
   ],
   "source": [
    "class Human:\n",
    "    def __init__(self): # 객체의 첫번 째 인자.. \n",
    "        print('응애응애')\n",
    "\n",
    "areum = Human()"
   ]
  },
  {
   "cell_type": "code",
   "execution_count": 11,
   "id": "21f4c90e",
   "metadata": {},
   "outputs": [
    {
     "name": "stdout",
     "output_type": "stream",
     "text": [
      "여자\n"
     ]
    }
   ],
   "source": [
    "class Human:\n",
    "    def __init__(self, name, age, sex):\n",
    "        self.name = name\n",
    "        self.age = age\n",
    "        self.sex =sex\n",
    "areum = Human('아름',25, '여자')\n",
    "print(areum.sex)"
   ]
  },
  {
   "cell_type": "code",
   "execution_count": 12,
   "id": "c07537c9",
   "metadata": {},
   "outputs": [
    {
     "name": "stdout",
     "output_type": "stream",
     "text": [
      "25\n"
     ]
    }
   ],
   "source": [
    "class Human:\n",
    "    def __init__(self, name, age, sex):\n",
    "        self.name = name\n",
    "        self.age = age\n",
    "        self.sex =sex\n",
    "areum = Human('아름',25, '여자')\n",
    "print(areum.age)"
   ]
  },
  {
   "cell_type": "code",
   "execution_count": 13,
   "id": "5c706eb4",
   "metadata": {},
   "outputs": [
    {
     "name": "stdout",
     "output_type": "stream",
     "text": [
      "이름:조아름 나이:25 성별:여자\n"
     ]
    }
   ],
   "source": [
    "class Human:\n",
    "    def __init__(self, name, age, sex):\n",
    "        self.name = name\n",
    "        self.age = age\n",
    "        self.sex =sex\n",
    "    def who(self):\n",
    "        print(f'이름:{self.name} 나이:{self.age} 성별:{self.sex}')\n",
    "        \n",
    "areum = Human('조아름',25, '여자')\n",
    "areum.who()"
   ]
  },
  {
   "cell_type": "code",
   "execution_count": 16,
   "id": "045d8198",
   "metadata": {},
   "outputs": [
    {
     "name": "stdout",
     "output_type": "stream",
     "text": [
      "이름:모름 나이:0 성별:모름\n",
      "이름:아름 나이:25 성별:여자\n"
     ]
    }
   ],
   "source": [
    "class Human:\n",
    "    def __init__(self, name, age, sex):\n",
    "        self.name = name\n",
    "        self.age = age\n",
    "        self.sex =sex\n",
    "        \n",
    "    def who(self):\n",
    "        print(f'이름:{self.name} 나이:{self.age} 성별:{self.sex}')\n",
    "        \n",
    "    def setInfo(self, name, age, sex):\n",
    "        self.name =name\n",
    "        self.age=age\n",
    "        self.sex=sex\n",
    "        \n",
    "areum = Human('모름', 0, '모름')\n",
    "areum.who()\n",
    "\n",
    "areum.setInfo('아름',25, '여자')\n",
    "areum.who()"
   ]
  },
  {
   "cell_type": "code",
   "execution_count": 17,
   "id": "675e3b88",
   "metadata": {},
   "outputs": [
    {
     "name": "stdout",
     "output_type": "stream",
     "text": [
      "나의 죽음을 알리지마라\n"
     ]
    }
   ],
   "source": [
    "class Human:\n",
    "    def __init__(self, name, age, sex):\n",
    "        self.name = name\n",
    "        self.age = age\n",
    "        self.sex =sex\n",
    "    \n",
    "    def __del__(self):\n",
    "        print('나의 죽음을 알리지마라')\n",
    "        \n",
    "    def who(self):\n",
    "        print(f'이름:{self.name} 나이:{self.age} 성별:{self.sex}')\n",
    "        \n",
    "    def setInfo(self, name, age, sex):\n",
    "        self.name =name\n",
    "        self.age=age\n",
    "        self.sex=sex\n",
    "        \n",
    "areum = Human('아름', 25, '여자')\n",
    "del(areum)"
   ]
  },
  {
   "cell_type": "markdown",
   "id": "3bb6ccac",
   "metadata": {},
   "source": [
    "# 261-270"
   ]
  },
  {
   "cell_type": "code",
   "execution_count": 18,
   "id": "d0101b20",
   "metadata": {},
   "outputs": [],
   "source": [
    "class Stock:\n",
    "    pass"
   ]
  },
  {
   "cell_type": "code",
   "execution_count": 22,
   "id": "c1c61369",
   "metadata": {},
   "outputs": [
    {
     "name": "stdout",
     "output_type": "stream",
     "text": [
      "삼성전자\n",
      "005930\n"
     ]
    }
   ],
   "source": [
    "class Stock:\n",
    "    def __init__(self, name, code):\n",
    "        self.name = name\n",
    "        self.code = code\n",
    "\n",
    "        \n",
    "삼성 = Stock('삼성전자','005930')\n",
    "print(삼성.name)\n",
    "print(삼성.code)"
   ]
  },
  {
   "cell_type": "code",
   "execution_count": 26,
   "id": "09e3e3a4",
   "metadata": {},
   "outputs": [
    {
     "name": "stdout",
     "output_type": "stream",
     "text": [
      "삼성전자\n"
     ]
    }
   ],
   "source": [
    "class Stock:\n",
    "    def __init__(self, name, code):\n",
    "        self.name = name\n",
    "        self.code = code\n",
    "        \n",
    "    def set_name(self, name):\n",
    "        self.name= name\n",
    "\n",
    "a= Stock(None,None)\n",
    "a.set_name('삼성전자')\n",
    "print(a.name)"
   ]
  },
  {
   "cell_type": "code",
   "execution_count": 27,
   "id": "65a3a515",
   "metadata": {},
   "outputs": [
    {
     "name": "stdout",
     "output_type": "stream",
     "text": [
      "005930\n"
     ]
    }
   ],
   "source": [
    "class Stock:\n",
    "    def __init__(self, name, code):\n",
    "        self.name = name\n",
    "        self.code = code\n",
    "        \n",
    "    def set_name(self, name):\n",
    "        self.name= name\n",
    "        \n",
    "    def set_code(self, code):\n",
    "        self.code=code\n",
    "\n",
    "a= Stock(None,None)\n",
    "a.set_code(\"005930\")\n",
    "print(a.code)"
   ]
  },
  {
   "cell_type": "code",
   "execution_count": 29,
   "id": "a7d6e83f",
   "metadata": {},
   "outputs": [
    {
     "name": "stdout",
     "output_type": "stream",
     "text": [
      "삼성전자\n",
      "005930\n",
      "삼성전자\n",
      "005930\n"
     ]
    }
   ],
   "source": [
    "class Stock:\n",
    "    def __init__(self, name, code):\n",
    "        self.name = name\n",
    "        self.code = code\n",
    "        \n",
    "    def set_name(self, name):\n",
    "        self.name= name\n",
    "        \n",
    "    def set_code(self, code):\n",
    "        self.code=code\n",
    "        \n",
    "    def get_name(self):\n",
    "        return self.name\n",
    "    \n",
    "    def get_code(self):\n",
    "        return self.code\n",
    "        \n",
    "        \n",
    "삼성 = Stock(\"삼성전자\", \"005930\")\n",
    "print(삼성.name)\n",
    "print(삼성.code)\n",
    "print(삼성.get_name())\n",
    "print(삼성.get_code())"
   ]
  },
  {
   "cell_type": "code",
   "execution_count": 30,
   "id": "04f57c9f",
   "metadata": {},
   "outputs": [],
   "source": [
    "class Stock:\n",
    "    def __init__(self, name, code,per, pbr, 배당수익률):\n",
    "        self.name = name\n",
    "        self.code = code\n",
    "        self.per = per\n",
    "        self.pbr = pbr\n",
    "        self.배당수익률= 배당수익률\n",
    "        \n",
    "    def set_name(self, name):\n",
    "        self.name= name\n",
    "        \n",
    "    def set_code(self, code):\n",
    "        self.code=code\n",
    "        \n",
    "    def get_name(self):\n",
    "        return self.name\n",
    "    \n",
    "    def get_code(self):\n",
    "        return self.code\n",
    "        \n"
   ]
  },
  {
   "cell_type": "code",
   "execution_count": 33,
   "id": "fb01aba3",
   "metadata": {},
   "outputs": [
    {
     "name": "stdout",
     "output_type": "stream",
     "text": [
      "2.83\n"
     ]
    }
   ],
   "source": [
    "class Stock:\n",
    "    def __init__(self, name, code,per, pbr, 배당수익률):\n",
    "        self.name = name\n",
    "        self.code = code\n",
    "        self.per = per\n",
    "        self.pbr = pbr\n",
    "        self.배당수익률= 배당수익률\n",
    "        \n",
    "    def set_name(self, name):\n",
    "        self.name= name\n",
    "        \n",
    "    def set_code(self, code):\n",
    "        self.code=code\n",
    "        \n",
    "    def get_name(self):\n",
    "        return self.name\n",
    "    \n",
    "    def get_code(self):\n",
    "        return self.code\n",
    "    \n",
    "삼성 = Stock('삼성전자','005930',15.79,1.33,2.83)\n",
    "print(삼성.배당수익률)"
   ]
  },
  {
   "cell_type": "code",
   "execution_count": 34,
   "id": "ff4b01f2",
   "metadata": {},
   "outputs": [],
   "source": [
    "class Stock:\n",
    "    def __init__(self, name, code,per, pbr, dividend):\n",
    "        self.name = name\n",
    "        self.code = code\n",
    "        self.per = per\n",
    "        self.pbr = pbr\n",
    "        self.dividend= dividend\n",
    "        \n",
    "    def set_name(self, name):\n",
    "        self.name= name\n",
    "        \n",
    "    def set_code(self, code):\n",
    "        self.code=code\n",
    "        \n",
    "    def get_name(self):\n",
    "        return self.name\n",
    "    \n",
    "    def get_code(self):\n",
    "        return self.code\n",
    "    \n",
    "    def set_per(self, per):\n",
    "        self.per = per\n",
    "    \n",
    "    def set_pbr(self, pbr):\n",
    "        self.pbr=pbr\n",
    "    \n",
    "    def set_dividened(self, dividend):\n",
    "        self.dividend =dividend"
   ]
  },
  {
   "cell_type": "code",
   "execution_count": 35,
   "id": "8f3f9ce1",
   "metadata": {},
   "outputs": [
    {
     "name": "stdout",
     "output_type": "stream",
     "text": [
      "12.75\n"
     ]
    }
   ],
   "source": [
    "삼성 = Stock('삼성전자','005930',15.79,1.33,2.83)\n",
    "삼성.set_per(12.75)\n",
    "print(삼성.per)"
   ]
  },
  {
   "cell_type": "code",
   "execution_count": 36,
   "id": "10c06974",
   "metadata": {},
   "outputs": [
    {
     "name": "stdout",
     "output_type": "stream",
     "text": [
      "005930 15.79\n",
      "005380 8.7\n",
      "066570 317.34\n"
     ]
    }
   ],
   "source": [
    "종목 = []\n",
    "\n",
    "삼성 = Stock('삼성전자','005930',15.79,1.33,2.83)\n",
    "현대차 = Stock(\"현대차\", \"005380\", 8.70, 0.35, 4.27)\n",
    "LG전자 = Stock(\"LG전자\", \"066570\", 317.34, 0.69, 1.37)\n",
    "\n",
    "종목.append(삼성)\n",
    "종목.append(현대차)\n",
    "종목.append(LG전자)\n",
    "\n",
    "for i in 종목:\n",
    "    print(i.code, i.per)\n",
    "    "
   ]
  },
  {
   "cell_type": "markdown",
   "id": "12400291",
   "metadata": {},
   "source": [
    "# 271-280"
   ]
  },
  {
   "cell_type": "code",
   "execution_count": 37,
   "id": "ae1d8739",
   "metadata": {},
   "outputs": [
    {
     "name": "stdout",
     "output_type": "stream",
     "text": [
      "김민수\n",
      "100\n",
      "SC은행\n",
      "391-64-205786\n"
     ]
    }
   ],
   "source": [
    "import random\n",
    "\n",
    "class Account:\n",
    "    def __init__(self, name, balance):\n",
    "        self.name = name\n",
    "        self.balance =balance\n",
    "        self.bank ='SC은행'\n",
    "        num1 = random.randint(0,999)\n",
    "        num2 = random.randint(0,99)\n",
    "        num3 = random.randint(0,999999)\n",
    "        \n",
    "        num1 =  str(num1).zfill(3)\n",
    "        num2 =  str(num2).zfill(2)\n",
    "        num3 = str(num3).zfill(6)\n",
    "        self.account_number =num1+ '-'+num2+'-'+num3\n",
    "        \n",
    "kim = Account('김민수',100)\n",
    "print(kim.name)\n",
    "print(kim.balance)\n",
    "print(kim.bank)\n",
    "print(kim.account_number)"
   ]
  },
  {
   "cell_type": "code",
   "execution_count": 38,
   "id": "124a3fc7",
   "metadata": {},
   "outputs": [
    {
     "name": "stdout",
     "output_type": "stream",
     "text": [
      "1\n",
      "2\n"
     ]
    }
   ],
   "source": [
    "import random\n",
    "\n",
    "class Account:\n",
    "    account_count =0\n",
    "    \n",
    "    def __init__(self, name, balance):\n",
    "        self.name = name\n",
    "        self.balance =balance\n",
    "        self.bank ='SC은행'\n",
    "        num1 = random.randint(0,999)\n",
    "        num2 = random.randint(0,99)\n",
    "        num3 = random.randint(0,999999)\n",
    "        \n",
    "        num1 =  str(num1).zfill(3)\n",
    "        num2 =  str(num2).zfill(2)\n",
    "        num3 = str(num3).zfill(6)\n",
    "        self.account_number =num1+ '-'+num2+'-'+num3\n",
    "        \n",
    "        Account.account_count +=1\n",
    "        \n",
    "kim = Account('김민수',100)\n",
    "print(Account.account_count)\n",
    "\n",
    "kim = Account('이민수',100)\n",
    "print(Account.account_count)"
   ]
  },
  {
   "cell_type": "code",
   "execution_count": 39,
   "id": "66002196",
   "metadata": {},
   "outputs": [
    {
     "name": "stdout",
     "output_type": "stream",
     "text": [
      "2\n"
     ]
    }
   ],
   "source": [
    "import random\n",
    "\n",
    "class Account:\n",
    "    account_count =0\n",
    "    \n",
    "    def __init__(self, name, balance):\n",
    "        self.name = name\n",
    "        self.balance =balance\n",
    "        self.bank ='SC은행'\n",
    "        num1 = random.randint(0,999)\n",
    "        num2 = random.randint(0,99)\n",
    "        num3 = random.randint(0,999999)\n",
    "        \n",
    "        num1 =  str(num1).zfill(3)\n",
    "        num2 =  str(num2).zfill(2)\n",
    "        num3 = str(num3).zfill(6)\n",
    "        self.account_number =num1+ '-'+num2+'-'+num3\n",
    "        \n",
    "        Account.account_count +=1\n",
    "    \n",
    "    def get_account_num(cls):\n",
    "        print(cls.account_count)\n",
    "        \n",
    "kim = Account('김민수',100)\n",
    "kim = Account('이민수',100)\n",
    "kim.get_account_num()"
   ]
  },
  {
   "cell_type": "code",
   "execution_count": 40,
   "id": "417b96af",
   "metadata": {},
   "outputs": [],
   "source": [
    "import random\n",
    "\n",
    "class Account:\n",
    "    account_count =0\n",
    "    \n",
    "    def __init__(self, name, balance):\n",
    "        self.name = name\n",
    "        self.balance =balance\n",
    "        self.bank ='SC은행'\n",
    "        num1 = random.randint(0,999)\n",
    "        num2 = random.randint(0,99)\n",
    "        num3 = random.randint(0,999999)\n",
    "        \n",
    "        num1 =  str(num1).zfill(3)\n",
    "        num2 =  str(num2).zfill(2)\n",
    "        num3 = str(num3).zfill(6)\n",
    "        self.account_number =num1+ '-'+num2+'-'+num3\n",
    "        \n",
    "        Account.account_count +=1\n",
    "    \n",
    "    def get_account_num(cls):\n",
    "        print(cls.account_count)\n",
    "        \n",
    "    def deposit(self, amount):\n",
    "        if amount >=1:\n",
    "            self.balance += amount\n",
    "        "
   ]
  },
  {
   "cell_type": "code",
   "execution_count": 41,
   "id": "02b2e99c",
   "metadata": {},
   "outputs": [
    {
     "name": "stdout",
     "output_type": "stream",
     "text": [
      "110\n"
     ]
    }
   ],
   "source": [
    "import random\n",
    "\n",
    "class Account:\n",
    "    account_count =0\n",
    "    \n",
    "    def __init__(self, name, balance):\n",
    "        self.name = name\n",
    "        self.balance =balance\n",
    "        self.bank ='SC은행'\n",
    "        num1 = random.randint(0,999)\n",
    "        num2 = random.randint(0,99)\n",
    "        num3 = random.randint(0,999999)\n",
    "        \n",
    "        num1 =  str(num1).zfill(3)\n",
    "        num2 =  str(num2).zfill(2)\n",
    "        num3 = str(num3).zfill(6)\n",
    "        self.account_number =num1+ '-'+num2+'-'+num3\n",
    "        \n",
    "        Account.account_count +=1\n",
    "    \n",
    "    def get_account_num(cls):\n",
    "        print(cls.account_count)\n",
    "        \n",
    "    def deposit(self, amount):\n",
    "        if amount >=1:\n",
    "            self.balance += amount\n",
    "    \n",
    "    def withdraw(self, amount):\n",
    "        if self.balance > amount:\n",
    "            self.balance -= amount\n",
    "            \n",
    "k= Account('kim',100)\n",
    "k.deposit(100)\n",
    "k.withdraw(90)\n",
    "print(k.balance)\n",
    "        "
   ]
  },
  {
   "cell_type": "code",
   "execution_count": 42,
   "id": "6f3d5c50",
   "metadata": {},
   "outputs": [
    {
     "name": "stdout",
     "output_type": "stream",
     "text": [
      "은행이름: SC은행\n",
      "예금주: 파이썬\n",
      "계좌번호: 241-30-459993\n",
      "잔고: 10,000\n"
     ]
    }
   ],
   "source": [
    "import random\n",
    "\n",
    "class Account:\n",
    "    account_count =0\n",
    "    \n",
    "    def __init__(self, name, balance):\n",
    "        self.name = name\n",
    "        self.balance =balance\n",
    "        self.bank ='SC은행'\n",
    "        \n",
    "        num1 = random.randint(0,999)\n",
    "        num2 = random.randint(0,99)\n",
    "        num3 = random.randint(0,999999)\n",
    "        \n",
    "        num1 =  str(num1).zfill(3)\n",
    "        num2 =  str(num2).zfill(2)\n",
    "        num3 = str(num3).zfill(6)\n",
    "        self.account_number =num1+ '-'+num2+'-'+num3\n",
    "        \n",
    "        Account.account_count +=1\n",
    "    \n",
    "    def get_account_num(cls):\n",
    "        print(cls.account_count)\n",
    "        \n",
    "    def deposit(self, amount):\n",
    "        if amount >=1:\n",
    "            self.balance += amount\n",
    "    \n",
    "    def withdraw(self, amount):\n",
    "        if self.balance > amount:\n",
    "            self.balance -= amount\n",
    "            \n",
    "    def display_info(self):\n",
    "        print('은행이름:',self.bank)\n",
    "        print('예금주:',self.name)\n",
    "        print('계좌번호:',self.account_number)\n",
    "        print('잔고:',f'{self.balance:,}')\n",
    "            \n",
    "p= Account('파이썬',10000)\n",
    "p.display_info()\n",
    "        "
   ]
  },
  {
   "cell_type": "code",
   "execution_count": 43,
   "id": "93cd1341",
   "metadata": {},
   "outputs": [
    {
     "ename": "AttributeError",
     "evalue": "'Account' object has no attribute 'deposit_count'",
     "output_type": "error",
     "traceback": [
      "\u001b[1;31m---------------------------------------------------------------------------\u001b[0m",
      "\u001b[1;31mAttributeError\u001b[0m                            Traceback (most recent call last)",
      "Cell \u001b[1;32mIn[43], line 44\u001b[0m\n\u001b[0;32m     41\u001b[0m         \u001b[38;5;28mprint\u001b[39m(\u001b[38;5;124m'\u001b[39m\u001b[38;5;124m잔고:\u001b[39m\u001b[38;5;124m'\u001b[39m,\u001b[38;5;124mf\u001b[39m\u001b[38;5;124m'\u001b[39m\u001b[38;5;132;01m{\u001b[39;00m\u001b[38;5;28mself\u001b[39m\u001b[38;5;241m.\u001b[39mbalance\u001b[38;5;132;01m:\u001b[39;00m\u001b[38;5;124m,\u001b[39m\u001b[38;5;132;01m}\u001b[39;00m\u001b[38;5;124m'\u001b[39m)\n\u001b[0;32m     43\u001b[0m p \u001b[38;5;241m=\u001b[39m Account(\u001b[38;5;124m\"\u001b[39m\u001b[38;5;124m파이썬\u001b[39m\u001b[38;5;124m\"\u001b[39m, \u001b[38;5;241m10000\u001b[39m)\n\u001b[1;32m---> 44\u001b[0m p\u001b[38;5;241m.\u001b[39mdeposit(\u001b[38;5;241m10000\u001b[39m)\n\u001b[0;32m     45\u001b[0m p\u001b[38;5;241m.\u001b[39mdeposit(\u001b[38;5;241m10000\u001b[39m)\n\u001b[0;32m     46\u001b[0m p\u001b[38;5;241m.\u001b[39mdeposit(\u001b[38;5;241m10000\u001b[39m)\n",
      "Cell \u001b[1;32mIn[43], line 29\u001b[0m, in \u001b[0;36mAccount.deposit\u001b[1;34m(self, amount)\u001b[0m\n\u001b[0;32m     26\u001b[0m \u001b[38;5;28;01mif\u001b[39;00m amount \u001b[38;5;241m>\u001b[39m\u001b[38;5;241m=\u001b[39m\u001b[38;5;241m1\u001b[39m:\n\u001b[0;32m     27\u001b[0m     \u001b[38;5;28mself\u001b[39m\u001b[38;5;241m.\u001b[39mbalance \u001b[38;5;241m+\u001b[39m\u001b[38;5;241m=\u001b[39m amount\n\u001b[1;32m---> 29\u001b[0m     \u001b[38;5;28mself\u001b[39m\u001b[38;5;241m.\u001b[39mdeposit_count \u001b[38;5;241m+\u001b[39m\u001b[38;5;241m=\u001b[39m \u001b[38;5;241m1\u001b[39m\n\u001b[0;32m     30\u001b[0m     \u001b[38;5;28;01mif\u001b[39;00m \u001b[38;5;28mself\u001b[39m\u001b[38;5;241m.\u001b[39mdeposit_count \u001b[38;5;241m%\u001b[39m \u001b[38;5;241m5\u001b[39m \u001b[38;5;241m==\u001b[39m\u001b[38;5;241m0\u001b[39m:\n\u001b[0;32m     31\u001b[0m         \u001b[38;5;28mself\u001b[39m\u001b[38;5;241m.\u001b[39mbalance\u001b[38;5;241m=\u001b[39m(\u001b[38;5;28mself\u001b[39m\u001b[38;5;241m.\u001b[39mbalance \u001b[38;5;241m*\u001b[39m \u001b[38;5;241m1.01\u001b[39m)\n",
      "\u001b[1;31mAttributeError\u001b[0m: 'Account' object has no attribute 'deposit_count'"
     ]
    }
   ],
   "source": [
    "import random\n",
    "\n",
    "class Account:\n",
    "    account_count =0\n",
    "    \n",
    "    def __init__(self, name, balance):\n",
    "        self.name = name\n",
    "        self.balance =balance\n",
    "        self.bank ='SC은행'\n",
    "        \n",
    "        num1 = random.randint(0,999)\n",
    "        num2 = random.randint(0,99)\n",
    "        num3 = random.randint(0,999999)\n",
    "        \n",
    "        num1 =  str(num1).zfill(3)\n",
    "        num2 =  str(num2).zfill(2)\n",
    "        num3 = str(num3).zfill(6)\n",
    "        self.account_number =num1+ '-'+num2+'-'+num3\n",
    "        \n",
    "        Account.account_count +=1\n",
    "    \n",
    "    def get_account_num(cls):\n",
    "        print(cls.account_count)\n",
    "        \n",
    "    def deposit(self, amount):\n",
    "        if amount >=1:\n",
    "            self.balance += amount\n",
    "            \n",
    "            self.deposit_count += 1\n",
    "            if self.deposit_count % 5 ==0:\n",
    "                self.balance=(self.balance * 1.01)\n",
    "    \n",
    "    def withdraw(self, amount):\n",
    "        if self.balance > amount:\n",
    "            self.balance -= amount\n",
    "            \n",
    "    def display_info(self):\n",
    "        print('은행이름:',self.bank)\n",
    "        print('예금주:',self.name)\n",
    "        print('계좌번호:',self.account_number)\n",
    "        print('잔고:',f'{self.balance:,}')\n",
    "            \n",
    "p = Account(\"파이썬\", 10000)\n",
    "p.deposit(10000)\n",
    "p.deposit(10000)\n",
    "p.deposit(10000)\n",
    "p.deposit(5000)\n",
    "p.deposit(5000)\n",
    "print(p.balance)"
   ]
  },
  {
   "cell_type": "code",
   "execution_count": 44,
   "id": "64c72a4d",
   "metadata": {},
   "outputs": [
    {
     "name": "stdout",
     "output_type": "stream",
     "text": [
      "[<__main__.Account object at 0x0000029D2B4E6B10>, <__main__.Account object at 0x0000029D2B4DDA90>, <__main__.Account object at 0x0000029D2B4DEF90>]\n"
     ]
    }
   ],
   "source": [
    "import random\n",
    "\n",
    "\n",
    "class Account:\n",
    "    # class variable\n",
    "    account_count = 0\n",
    "\n",
    "    def __init__(self, name, balance):\n",
    "        self.deposit_count = 0\n",
    "\n",
    "        self.name = name\n",
    "        self.balance = balance\n",
    "        self.bank = \"SC은행\"\n",
    "\n",
    "        # 3-2-6\n",
    "        num1 = random.randint(0, 999)\n",
    "        num2 = random.randint(0, 99)\n",
    "        num3 = random.randint(0, 999999)\n",
    "\n",
    "        num1 = str(num1).zfill(3)  # 1 -> '1' -> '001'\n",
    "        num2 = str(num2).zfill(2)  # 1 -> '1' -> '01'\n",
    "        num3 = str(num3).zfill(6)  # 1 -> '1' -> '0000001'\n",
    "        self.account_number = num1 + '-' + num2 + '-' + num3  # 001-01-000001\n",
    "        Account.account_count += 1\n",
    "\n",
    "    @classmethod\n",
    "    def get_account_num(cls):\n",
    "        print(cls.account_count)  # Account.account_count\n",
    "\n",
    "    def deposit(self, amount):\n",
    "        if amount >= 1:\n",
    "            self.balance += amount\n",
    "\n",
    "            self.deposit_count += 1\n",
    "            if self.deposit_count % 5 == 0:         # 5, 10, 15\n",
    "                # 이자 지금\n",
    "                self.balance = (self.balance * 1.01)\n",
    "\n",
    "\n",
    "    def withdraw(self, amount):\n",
    "        if self.balance > amount:\n",
    "            self.balance -= amount\n",
    "\n",
    "    def display_info(self):\n",
    "        print(\"은행이름: \", self.bank)\n",
    "        print(\"예금주: \", self.name)\n",
    "        print(\"계좌번호: \", self.account_number)\n",
    "        print(\"잔고: \", self.balance)\n",
    "\n",
    "data = []\n",
    "k = Account(\"KIM\", 10000000)\n",
    "l = Account(\"LEE\", 10000)\n",
    "p = Account(\"PARK\", 10000)\n",
    "\n",
    "data.append(k)\n",
    "data.append(l)\n",
    "data.append(p)\n",
    "\n",
    "print(data)\n",
    "\n"
   ]
  },
  {
   "cell_type": "code",
   "execution_count": 45,
   "id": "a2a3ea2e",
   "metadata": {},
   "outputs": [
    {
     "name": "stdout",
     "output_type": "stream",
     "text": [
      "은행이름:  SC은행\n",
      "예금주:  KIM\n",
      "계좌번호:  072-50-169148\n",
      "잔고:  10000000\n"
     ]
    }
   ],
   "source": [
    "import random\n",
    "\n",
    "\n",
    "class Account:\n",
    "    # class variable\n",
    "    account_count = 0\n",
    "\n",
    "    def __init__(self, name, balance):\n",
    "        self.deposit_count = 0\n",
    "\n",
    "        self.name = name\n",
    "        self.balance = balance\n",
    "        self.bank = \"SC은행\"\n",
    "\n",
    "        # 3-2-6\n",
    "        num1 = random.randint(0, 999)\n",
    "        num2 = random.randint(0, 99)\n",
    "        num3 = random.randint(0, 999999)\n",
    "\n",
    "        num1 = str(num1).zfill(3)  # 1 -> '1' -> '001'\n",
    "        num2 = str(num2).zfill(2)  # 1 -> '1' -> '01'\n",
    "        num3 = str(num3).zfill(6)  # 1 -> '1' -> '0000001'\n",
    "        self.account_number = num1 + '-' + num2 + '-' + num3  # 001-01-000001\n",
    "        Account.account_count += 1\n",
    "\n",
    "    @classmethod\n",
    "    def get_account_num(cls):\n",
    "        print(cls.account_count)  # Account.account_count\n",
    "\n",
    "    def deposit(self, amount):\n",
    "        if amount >= 1:\n",
    "            self.balance += amount\n",
    "\n",
    "            self.deposit_count += 1\n",
    "            if self.deposit_count % 5 == 0:         # 5, 10, 15\n",
    "                # 이자 지금\n",
    "                self.balance = (self.balance * 1.01)\n",
    "\n",
    "\n",
    "    def withdraw(self, amount):\n",
    "        if self.balance > amount:\n",
    "            self.balance -= amount\n",
    "\n",
    "    def display_info(self):\n",
    "        print(\"은행이름: \", self.bank)\n",
    "        print(\"예금주: \", self.name)\n",
    "        print(\"계좌번호: \", self.account_number)\n",
    "        print(\"잔고: \", self.balance)\n",
    "\n",
    "data = []\n",
    "k = Account(\"KIM\", 10000000)\n",
    "l = Account(\"LEE\", 10000)\n",
    "p = Account(\"PARK\", 10000)\n",
    "data.append(k)\n",
    "data.append(l)\n",
    "data.append(p)\n",
    "\n",
    "for c in data:\n",
    "    if c.balance >= 1000000:\n",
    "        c.display_info()\n",
    "\n"
   ]
  },
  {
   "cell_type": "code",
   "execution_count": 46,
   "id": "0192ab7d",
   "metadata": {},
   "outputs": [
    {
     "name": "stdout",
     "output_type": "stream",
     "text": [
      "100\n",
      "200\n",
      "300\n",
      "100\n",
      "200\n"
     ]
    }
   ],
   "source": [
    "import random\n",
    "\n",
    "\n",
    "class Account:\n",
    "    # class variable\n",
    "    account_count = 0\n",
    "\n",
    "    def __init__(self, name, balance):\n",
    "        self.deposit_count = 0\n",
    "        self.deposit_log = []\n",
    "        self.withdraw_log = []\n",
    "\n",
    "        self.name = name\n",
    "        self.balance = balance\n",
    "        self.bank = \"SC은행\"\n",
    "\n",
    "        # 3-2-6\n",
    "        num1 = random.randint(0, 999)\n",
    "        num2 = random.randint(0, 99)\n",
    "        num3 = random.randint(0, 999999)\n",
    "\n",
    "        num1 = str(num1).zfill(3)  # 1 -> '1' -> '001'\n",
    "        num2 = str(num2).zfill(2)  # 1 -> '1' -> '01'\n",
    "        num3 = str(num3).zfill(6)  # 1 -> '1' -> '0000001'\n",
    "        self.account_number = num1 + '-' + num2 + '-' + num3  # 001-01-000001\n",
    "        Account.account_count += 1\n",
    "\n",
    "    @classmethod\n",
    "    def get_account_num(cls):\n",
    "        print(cls.account_count)  # Account.account_count\n",
    "\n",
    "    def deposit(self, amount):\n",
    "        if amount >= 1:\n",
    "            self.deposit_log.append(amount)\n",
    "            self.balance += amount\n",
    "\n",
    "            self.deposit_count += 1\n",
    "            if self.deposit_count % 5 == 0:         # 5, 10, 15\n",
    "                # 이자 지금\n",
    "                self.balance = (self.balance * 1.01)\n",
    "\n",
    "\n",
    "    def withdraw(self, amount):\n",
    "        if self.balance > amount:\n",
    "            self.withdraw_log.append(amount)\n",
    "            self.balance -= amount\n",
    "\n",
    "    def display_info(self):\n",
    "        print(\"은행이름: \", self.bank)\n",
    "        print(\"예금주: \", self.name)\n",
    "        print(\"계좌번호: \", self.account_number)\n",
    "        print(\"잔고: \", self.balance)\n",
    "\n",
    "    def withdraw_history(self):\n",
    "        for amount in self.withdraw_log:\n",
    "            print(amount)\n",
    "\n",
    "    def deposit_history(self):\n",
    "        for amount in self.deposit_log:\n",
    "            print(amount)\n",
    "\n",
    "\n",
    "k = Account(\"Kim\", 1000)\n",
    "k.deposit(100)\n",
    "k.deposit(200)\n",
    "k.deposit(300)\n",
    "k.deposit_history()\n",
    "\n",
    "k.withdraw(100)\n",
    "k.withdraw(200)\n",
    "k.withdraw_history()\n",
    "\n"
   ]
  },
  {
   "cell_type": "markdown",
   "id": "34a3418c",
   "metadata": {},
   "source": [
    "# 281 -290"
   ]
  },
  {
   "cell_type": "code",
   "execution_count": 48,
   "id": "5b2ce7a1",
   "metadata": {},
   "outputs": [
    {
     "name": "stdout",
     "output_type": "stream",
     "text": [
      "2\n",
      "1000\n"
     ]
    }
   ],
   "source": [
    "class 차:\n",
    "    def __init__(self, 바퀴, 가격):\n",
    "        self.바퀴 = 바퀴\n",
    "        self.가격 = 가격\n",
    "car = 차(2,1000)\n",
    "print(car.바퀴)\n",
    "print(car.가격)"
   ]
  },
  {
   "cell_type": "code",
   "execution_count": 49,
   "id": "4f99d4bb",
   "metadata": {},
   "outputs": [],
   "source": [
    "class 차:\n",
    "    def __init__(self, 바퀴, 가격):\n",
    "        self.바퀴 = 바퀴\n",
    "        self.가격 = 가격\n",
    "    def 자전차(차):\n",
    "        pass"
   ]
  },
  {
   "cell_type": "code",
   "execution_count": 51,
   "id": "a86b95a4",
   "metadata": {},
   "outputs": [
    {
     "name": "stdout",
     "output_type": "stream",
     "text": [
      "100\n"
     ]
    }
   ],
   "source": [
    "class 차:\n",
    "    def __init__(self, 바퀴, 가격):\n",
    "        self.바퀴 = 바퀴\n",
    "        self.가격 = 가격\n",
    "class 자전차(차):\n",
    "    def __init__(self, 바퀴,가격):\n",
    "        self.바퀴=바퀴\n",
    "        self.가격 =가격\n",
    "        \n",
    "bicycle = 자전차(2,100)\n",
    "print(bicycle.가격)"
   ]
  },
  {
   "cell_type": "code",
   "execution_count": 55,
   "id": "7242af38",
   "metadata": {},
   "outputs": [
    {
     "name": "stdout",
     "output_type": "stream",
     "text": [
      "바퀴수 4\n",
      "가격 1000\n"
     ]
    }
   ],
   "source": [
    "class 차:\n",
    "    def __init__(self, 바퀴, 가격):\n",
    "        self.바퀴 = 바퀴\n",
    "        self.가격 = 가격\n",
    "\n",
    "\n",
    "class 자동차(차):\n",
    "    def __init__(self, 바퀴, 가격):\n",
    "        super().__init__(바퀴, 가격)\n",
    "    \n",
    "    def 정보(self):\n",
    "        print(\"바퀴수\", self.바퀴)\n",
    "        print('가격', self.가격)\n",
    "\n",
    "car = 자동차(4,1000)\n",
    "car.정보()\n"
   ]
  },
  {
   "cell_type": "code",
   "execution_count": 56,
   "id": "c7a3e7ec",
   "metadata": {},
   "outputs": [
    {
     "name": "stdout",
     "output_type": "stream",
     "text": [
      "바퀴수 2\n",
      "가격 100\n"
     ]
    }
   ],
   "source": [
    "class 차:\n",
    "    def __init__(self, 바퀴, 가격):\n",
    "        self.바퀴 = 바퀴\n",
    "        self.가격 = 가격\n",
    "    \n",
    "    def 정보(self):\n",
    "        print('바퀴수', self.바퀴)\n",
    "        print('가격', self.가격)\n",
    "\n",
    "\n",
    "class 자동차(차):\n",
    "    def __init__(self, 바퀴, 가격):\n",
    "        super().__init__(바퀴, 가격)\n",
    "        \n",
    "\n",
    "class 자전차(차):\n",
    "    def __init__(self, 바퀴, 가격, 구동계):\n",
    "        super().__init__(바퀴, 가격)\n",
    "        self.구동계= 구동계\n",
    "    \n",
    "bicycle = 자전차(2,100,'시마노')\n",
    "bicycle.정보()\n"
   ]
  },
  {
   "cell_type": "code",
   "execution_count": 57,
   "id": "231064d3",
   "metadata": {},
   "outputs": [
    {
     "name": "stdout",
     "output_type": "stream",
     "text": [
      "바퀴수 2\n",
      "가격 100\n",
      "구동계 시마노\n"
     ]
    }
   ],
   "source": [
    "class 차:\n",
    "    def __init__(self, 바퀴, 가격):\n",
    "        self.바퀴 = 바퀴\n",
    "        self.가격 = 가격\n",
    "    \n",
    "    def 정보(self):\n",
    "        print('바퀴수', self.바퀴)\n",
    "        print('가격', self.가격)\n",
    "\n",
    "\n",
    "class 자동차(차):\n",
    "    def __init__(self, 바퀴, 가격):\n",
    "        super().__init__(바퀴, 가격)\n",
    "        \n",
    "\n",
    "class 자전차(차):\n",
    "    def __init__(self, 바퀴, 가격, 구동계):\n",
    "        super().__init__(바퀴, 가격)\n",
    "        self.구동계= 구동계\n",
    "    def 정보(self):\n",
    "        super().정보()\n",
    "        print('구동계', self.구동계)\n",
    "    \n",
    "bicycle = 자전차(2,100,'시마노')\n",
    "bicycle.정보()\n"
   ]
  },
  {
   "cell_type": "code",
   "execution_count": 59,
   "id": "6a96cb04",
   "metadata": {},
   "outputs": [
    {
     "name": "stdout",
     "output_type": "stream",
     "text": [
      "자식호출\n"
     ]
    }
   ],
   "source": [
    "class 부모:\n",
    "    def 호출(self):\n",
    "        print('부모호출')\n",
    "class 자식(부모):\n",
    "    def 호출(self):\n",
    "        print('자식호출')\n",
    "        \n",
    "나=자식()\n",
    "나.호출()"
   ]
  },
  {
   "cell_type": "code",
   "execution_count": 60,
   "id": "070c150b",
   "metadata": {},
   "outputs": [
    {
     "name": "stdout",
     "output_type": "stream",
     "text": [
      "자식생성\n"
     ]
    }
   ],
   "source": [
    "class 부모:\n",
    "    def __init__(self):\n",
    "        print('부모 생성')\n",
    "class 자식(부모):\n",
    "    def __init__(self):\n",
    "        print('자식생성')\n",
    "        \n",
    "나=자식()"
   ]
  },
  {
   "cell_type": "code",
   "execution_count": 61,
   "id": "8baebc7e",
   "metadata": {},
   "outputs": [
    {
     "name": "stdout",
     "output_type": "stream",
     "text": [
      "자식생성\n",
      "부모 생성\n"
     ]
    }
   ],
   "source": [
    "class 부모:\n",
    "    def __init__(self):\n",
    "        print('부모 생성')\n",
    "class 자식(부모):\n",
    "    def __init__(self):\n",
    "        print('자식생성')\n",
    "        super().__init__()\n",
    "        \n",
    "나=자식()"
   ]
  }
 ],
 "metadata": {
  "kernelspec": {
   "display_name": "Python 3 (ipykernel)",
   "language": "python",
   "name": "python3"
  },
  "language_info": {
   "codemirror_mode": {
    "name": "ipython",
    "version": 3
   },
   "file_extension": ".py",
   "mimetype": "text/x-python",
   "name": "python",
   "nbconvert_exporter": "python",
   "pygments_lexer": "ipython3",
   "version": "3.11.5"
  }
 },
 "nbformat": 4,
 "nbformat_minor": 5
}
