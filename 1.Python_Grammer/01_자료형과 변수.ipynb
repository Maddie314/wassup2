{
 "cells": [
  {
   "cell_type": "markdown",
   "id": "3093f8ff",
   "metadata": {},
   "source": [
    "# 숫자형 종류"
   ]
  },
  {
   "cell_type": "code",
   "execution_count": 1,
   "id": "99529c05",
   "metadata": {},
   "outputs": [],
   "source": [
    "#정수integer\n",
    "a=123\n",
    "a=-178\n",
    "a=0"
   ]
  },
  {
   "cell_type": "code",
   "execution_count": 2,
   "id": "88b9e251",
   "metadata": {},
   "outputs": [
    {
     "data": {
      "text/plain": [
       "0"
      ]
     },
     "execution_count": 2,
     "metadata": {},
     "output_type": "execute_result"
    }
   ],
   "source": [
    "a"
   ]
  },
  {
   "cell_type": "code",
   "execution_count": 3,
   "id": "1ad14836",
   "metadata": {},
   "outputs": [],
   "source": [
    "a =1.2"
   ]
  },
  {
   "cell_type": "code",
   "execution_count": 6,
   "id": "f4c69cc6",
   "metadata": {},
   "outputs": [
    {
     "name": "stdout",
     "output_type": "stream",
     "text": [
      "3.45\n"
     ]
    }
   ],
   "source": [
    "#실수float\n",
    "a=3.45\n",
    "print(a)"
   ]
  },
  {
   "cell_type": "code",
   "execution_count": 7,
   "id": "8890da14",
   "metadata": {},
   "outputs": [],
   "source": [
    "a= 4.4E10"
   ]
  },
  {
   "cell_type": "code",
   "execution_count": 11,
   "id": "0b1ab29a",
   "metadata": {},
   "outputs": [],
   "source": [
    "a=4.24e-10"
   ]
  },
  {
   "cell_type": "code",
   "execution_count": 12,
   "id": "cd57a8a6",
   "metadata": {},
   "outputs": [
    {
     "data": {
      "text/plain": [
       "4.24e-10"
      ]
     },
     "execution_count": 12,
     "metadata": {},
     "output_type": "execute_result"
    }
   ],
   "source": [
    "a"
   ]
  },
  {
   "cell_type": "code",
   "execution_count": 13,
   "id": "67915a63",
   "metadata": {},
   "outputs": [
    {
     "name": "stdout",
     "output_type": "stream",
     "text": [
      "127\n"
     ]
    }
   ],
   "source": [
    "#8진수\n",
    "a =0o177\n",
    "print(a)"
   ]
  },
  {
   "cell_type": "code",
   "execution_count": 15,
   "id": "9f04834a",
   "metadata": {},
   "outputs": [
    {
     "name": "stdout",
     "output_type": "stream",
     "text": [
      "2748\n"
     ]
    }
   ],
   "source": [
    "a=0x8ff\n",
    "b=0xABC\n",
    "print(b)"
   ]
  },
  {
   "cell_type": "code",
   "execution_count": 4,
   "id": "03d59be2",
   "metadata": {},
   "outputs": [
    {
     "ename": "SyntaxError",
     "evalue": "invalid digit '8' in octal literal (1805775664.py, line 1)",
     "output_type": "error",
     "traceback": [
      "\u001b[1;36m  Cell \u001b[1;32mIn[4], line 1\u001b[1;36m\u001b[0m\n\u001b[1;33m    c=0o785\u001b[0m\n\u001b[1;37m         ^\u001b[0m\n\u001b[1;31mSyntaxError\u001b[0m\u001b[1;31m:\u001b[0m invalid digit '8' in octal literal\n"
     ]
    }
   ],
   "source": [
    "c=0o785\n",
    "print(c)"
   ]
  },
  {
   "cell_type": "markdown",
   "id": "7dae7b79",
   "metadata": {},
   "source": [
    "# 사칙연산"
   ]
  },
  {
   "cell_type": "code",
   "execution_count": 6,
   "id": "5e3f91ea",
   "metadata": {},
   "outputs": [
    {
     "name": "stdout",
     "output_type": "stream",
     "text": [
      "7\n",
      "-1\n"
     ]
    }
   ],
   "source": [
    "#덧셈 뺄셈\n",
    "a=3\n",
    "b=4\n",
    "print(a+b)\n",
    "print(a-b)"
   ]
  },
  {
   "cell_type": "code",
   "execution_count": 11,
   "id": "f6874486",
   "metadata": {},
   "outputs": [
    {
     "name": "stdout",
     "output_type": "stream",
     "text": [
      "12\n",
      "81\n"
     ]
    }
   ],
   "source": [
    "#곱셈\n",
    "print(a*b)\n",
    "print(a**b) # x의 y제곱"
   ]
  },
  {
   "cell_type": "code",
   "execution_count": 12,
   "id": "ba87bf29",
   "metadata": {},
   "outputs": [
    {
     "name": "stdout",
     "output_type": "stream",
     "text": [
      "0.75\n",
      "3\n"
     ]
    }
   ],
   "source": [
    "#나누기\n",
    "print(a/b) #몫(소수점 까지)\n",
    "print(a//b) #몫(정수 몫만)\n",
    "print(a%b) #나머지"
   ]
  },
  {
   "cell_type": "code",
   "execution_count": 14,
   "id": "e9377953",
   "metadata": {},
   "outputs": [
    {
     "name": "stdout",
     "output_type": "stream",
     "text": [
      "1\n",
      "2.3333333333333335\n",
      "2\n"
     ]
    }
   ],
   "source": [
    "print(7%3)\n",
    "print(7/3)\n",
    "print(7//3)"
   ]
  },
  {
   "cell_type": "markdown",
   "id": "aefe1447",
   "metadata": {},
   "source": [
    "# 문자열 자료형"
   ]
  },
  {
   "cell_type": "markdown",
   "id": "92ecdea6",
   "metadata": {},
   "source": [
    "##### 문자열(string) 문자나 단어로 구성된 것   -> 따옴표로 되어있으면 문자열\n",
    "\n",
    "\"Life is is too short\"   \n",
    "\"a\"   \n",
    "\"123\""
   ]
  },
  {
   "cell_type": "markdown",
   "id": "1d1ae57f",
   "metadata": {},
   "source": [
    "문자열 자료형 python은 대소문자 구분한다."
   ]
  },
  {
   "cell_type": "code",
   "execution_count": 17,
   "id": "c8e84f31",
   "metadata": {},
   "outputs": [
    {
     "data": {
      "text/plain": [
       "'hello world'"
      ]
     },
     "execution_count": 17,
     "metadata": {},
     "output_type": "execute_result"
    }
   ],
   "source": [
    "'hello world'"
   ]
  },
  {
   "cell_type": "code",
   "execution_count": 20,
   "id": "05e17aa9",
   "metadata": {},
   "outputs": [
    {
     "data": {
      "text/plain": [
       "'   hello world   '"
      ]
     },
     "execution_count": 20,
     "metadata": {},
     "output_type": "execute_result"
    }
   ],
   "source": [
    "'   hello world   '"
   ]
  },
  {
   "cell_type": "code",
   "execution_count": 21,
   "id": "1ac7afc2",
   "metadata": {},
   "outputs": [
    {
     "data": {
      "text/plain": [
       "'hello world'"
      ]
     },
     "execution_count": 21,
     "metadata": {},
     "output_type": "execute_result"
    }
   ],
   "source": [
    "\"hello world\""
   ]
  },
  {
   "cell_type": "code",
   "execution_count": 22,
   "id": "0737c9d6",
   "metadata": {},
   "outputs": [
    {
     "data": {
      "text/plain": [
       "'hello world'"
      ]
     },
     "execution_count": 22,
     "metadata": {},
     "output_type": "execute_result"
    }
   ],
   "source": [
    "\"\"\"hello world\"\"\""
   ]
  },
  {
   "cell_type": "markdown",
   "id": "4057f2a2",
   "metadata": {},
   "source": [
    "### 문자열 안에 작은따옴표나 큰따옴표를 포함시키고 싶을 때"
   ]
  },
  {
   "cell_type": "code",
   "execution_count": 26,
   "id": "1051e492",
   "metadata": {},
   "outputs": [
    {
     "ename": "SyntaxError",
     "evalue": "unterminated string literal (detected at line 1) (2662772729.py, line 1)",
     "output_type": "error",
     "traceback": [
      "\u001b[1;36m  Cell \u001b[1;32mIn[26], line 1\u001b[1;36m\u001b[0m\n\u001b[1;33m    'python's favorite food is perl'\u001b[0m\n\u001b[1;37m                                   ^\u001b[0m\n\u001b[1;31mSyntaxError\u001b[0m\u001b[1;31m:\u001b[0m unterminated string literal (detected at line 1)\n"
     ]
    }
   ],
   "source": [
    " 'python's favorite food is perl'"
   ]
  },
  {
   "cell_type": "code",
   "execution_count": 25,
   "id": "42abc4e8",
   "metadata": {},
   "outputs": [
    {
     "data": {
      "text/plain": [
       "\"python's favorite food is perl\""
      ]
     },
     "execution_count": 25,
     "metadata": {},
     "output_type": "execute_result"
    }
   ],
   "source": [
    " \"python's favorite food is perl\" #쌍따옴표로 묶어줘야함"
   ]
  },
  {
   "cell_type": "code",
   "execution_count": 15,
   "id": "b2a00d13",
   "metadata": {},
   "outputs": [
    {
     "data": {
      "text/plain": [
       "'\"Python is very easy.\" he says.'"
      ]
     },
     "execution_count": 15,
     "metadata": {},
     "output_type": "execute_result"
    }
   ],
   "source": [
    "'\"Python is very easy.\" he says.'"
   ]
  },
  {
   "cell_type": "code",
   "execution_count": 29,
   "id": "8a8a4b42",
   "metadata": {},
   "outputs": [
    {
     "data": {
      "text/plain": [
       "\"Python's favorite food is perl\""
      ]
     },
     "execution_count": 29,
     "metadata": {},
     "output_type": "execute_result"
    }
   ],
   "source": [
    "'Python\\'s favorite food is perl'"
   ]
  },
  {
   "cell_type": "code",
   "execution_count": 32,
   "id": "3db9421f",
   "metadata": {},
   "outputs": [
    {
     "data": {
      "text/plain": [
       "'\"Python is very easy.\" he says.'"
      ]
     },
     "execution_count": 32,
     "metadata": {},
     "output_type": "execute_result"
    }
   ],
   "source": [
    "\"\\\"Python is very easy.\\\" he says.\""
   ]
  },
  {
   "cell_type": "code",
   "execution_count": 1,
   "id": "f05ff4d6",
   "metadata": {},
   "outputs": [
    {
     "data": {
      "text/plain": [
       "'Life is too short \\n You need python'"
      ]
     },
     "execution_count": 1,
     "metadata": {},
     "output_type": "execute_result"
    }
   ],
   "source": [
    "\"Life is too short \\n You need python\""
   ]
  },
  {
   "cell_type": "markdown",
   "id": "e31b77d6",
   "metadata": {},
   "source": [
    "## 줄을 바꾸기 위한 \\n 삽입"
   ]
  },
  {
   "cell_type": "code",
   "execution_count": 17,
   "id": "f788f69f",
   "metadata": {},
   "outputs": [],
   "source": [
    "multiline = 'life is too short \\n You need python'"
   ]
  },
  {
   "cell_type": "code",
   "execution_count": 18,
   "id": "f31432ae",
   "metadata": {},
   "outputs": [
    {
     "name": "stdout",
     "output_type": "stream",
     "text": [
      "life is too short \n",
      " You need python\n"
     ]
    }
   ],
   "source": [
    "print(multiline)"
   ]
  },
  {
   "cell_type": "code",
   "execution_count": 11,
   "id": "23f6005a",
   "metadata": {},
   "outputs": [],
   "source": [
    "# \\n 말고 ''' ~ ''' \"\"\" ~ \"\"\" 이것도 가능\n",
    "multiline='''\n",
    "Life is too short\n",
    "You need python\n",
    "'''"
   ]
  },
  {
   "cell_type": "code",
   "execution_count": 21,
   "id": "331ceb65",
   "metadata": {},
   "outputs": [
    {
     "name": "stdout",
     "output_type": "stream",
     "text": [
      "life is too short \n",
      " You need python\n"
     ]
    }
   ],
   "source": [
    "print(multiline)"
   ]
  },
  {
   "cell_type": "code",
   "execution_count": 20,
   "id": "7ad64942",
   "metadata": {},
   "outputs": [],
   "source": [
    "multiline1=\"\"\"\n",
    "Life is too short\n",
    "You need python\n",
    "\"\"\""
   ]
  },
  {
   "cell_type": "code",
   "execution_count": 22,
   "id": "b40acd1f",
   "metadata": {},
   "outputs": [
    {
     "name": "stdout",
     "output_type": "stream",
     "text": [
      "\n",
      "Life is too short\n",
      "You need python\n",
      "\n"
     ]
    }
   ],
   "source": [
    "print(multiline1)"
   ]
  },
  {
   "cell_type": "markdown",
   "id": "579d451d",
   "metadata": {},
   "source": [
    "## 문자열 연산하기"
   ]
  },
  {
   "cell_type": "code",
   "execution_count": 15,
   "id": "4c0ea718",
   "metadata": {
    "scrolled": true
   },
   "outputs": [
    {
     "data": {
      "text/plain": [
       "'python is fun!'"
      ]
     },
     "execution_count": 15,
     "metadata": {},
     "output_type": "execute_result"
    }
   ],
   "source": [
    "# 문자열 더하기\n",
    "head = 'python'\n",
    "tail= ' is fun!'\n",
    "head + tail"
   ]
  },
  {
   "cell_type": "code",
   "execution_count": 16,
   "id": "6946c929",
   "metadata": {},
   "outputs": [
    {
     "data": {
      "text/plain": [
       "'pythonpythonpythonpythonpython'"
      ]
     },
     "execution_count": 16,
     "metadata": {},
     "output_type": "execute_result"
    }
   ],
   "source": [
    "# 문자열 곱하기\n",
    "a = 'python'\n",
    "a * 5"
   ]
  },
  {
   "cell_type": "code",
   "execution_count": 18,
   "id": "654afe35",
   "metadata": {},
   "outputs": [
    {
     "data": {
      "text/plain": [
       "17"
      ]
     },
     "execution_count": 18,
     "metadata": {},
     "output_type": "execute_result"
    }
   ],
   "source": [
    "# 문자열 길이 구하기\n",
    "a= 'life is too short'\n",
    "len(a)"
   ]
  },
  {
   "cell_type": "markdown",
   "id": "59c7b2e7",
   "metadata": {},
   "source": [
    "# 문자열 인덱싱 - 가리킨다"
   ]
  },
  {
   "cell_type": "markdown",
   "id": "e54501a2",
   "metadata": {},
   "source": [
    "파이썬은 0부터 센다"
   ]
  },
  {
   "cell_type": "code",
   "execution_count": 24,
   "id": "4358cea0",
   "metadata": {},
   "outputs": [],
   "source": [
    "a =  'Life is too short, You need Python'"
   ]
  },
  {
   "cell_type": "code",
   "execution_count": 22,
   "id": "c20fa1b0",
   "metadata": {},
   "outputs": [
    {
     "data": {
      "text/plain": [
       "'e'"
      ]
     },
     "execution_count": 22,
     "metadata": {},
     "output_type": "execute_result"
    }
   ],
   "source": [
    "a[3]"
   ]
  },
  {
   "cell_type": "code",
   "execution_count": 23,
   "id": "e971aae3",
   "metadata": {},
   "outputs": [
    {
     "data": {
      "text/plain": [
       "'s'"
      ]
     },
     "execution_count": 23,
     "metadata": {},
     "output_type": "execute_result"
    }
   ],
   "source": [
    "a[12]"
   ]
  },
  {
   "cell_type": "code",
   "execution_count": 24,
   "id": "3c8fda13",
   "metadata": {},
   "outputs": [
    {
     "data": {
      "text/plain": [
       "'n'"
      ]
     },
     "execution_count": 24,
     "metadata": {},
     "output_type": "execute_result"
    }
   ],
   "source": [
    "a[-1]"
   ]
  },
  {
   "cell_type": "code",
   "execution_count": 25,
   "id": "09483029",
   "metadata": {},
   "outputs": [
    {
     "data": {
      "text/plain": [
       "' '"
      ]
     },
     "execution_count": 25,
     "metadata": {},
     "output_type": "execute_result"
    }
   ],
   "source": [
    "a[-7]"
   ]
  },
  {
   "cell_type": "code",
   "execution_count": 27,
   "id": "82b4b77d",
   "metadata": {},
   "outputs": [
    {
     "data": {
      "text/plain": [
       "'L'"
      ]
     },
     "execution_count": 27,
     "metadata": {},
     "output_type": "execute_result"
    }
   ],
   "source": [
    "a[-0]\n",
    "a[0]"
   ]
  },
  {
   "cell_type": "code",
   "execution_count": null,
   "id": "73303513",
   "metadata": {},
   "outputs": [],
   "source": [
    "a[0]"
   ]
  },
  {
   "cell_type": "markdown",
   "id": "95275d1f",
   "metadata": {},
   "source": [
    "# 문자열 슬라이싱- 잘라낸다"
   ]
  },
  {
   "cell_type": "code",
   "execution_count": 27,
   "id": "9b0c44ae",
   "metadata": {},
   "outputs": [
    {
     "data": {
      "text/plain": [
       "'Life'"
      ]
     },
     "execution_count": 27,
     "metadata": {},
     "output_type": "execute_result"
    }
   ],
   "source": [
    "a =  'Life is too short, You need Python'\n",
    "a[0]+a[1]+a[2]+a[3]"
   ]
  },
  {
   "cell_type": "code",
   "execution_count": 29,
   "id": "af15e129",
   "metadata": {},
   "outputs": [
    {
     "data": {
      "text/plain": [
       "'Life'"
      ]
     },
     "execution_count": 29,
     "metadata": {},
     "output_type": "execute_result"
    }
   ],
   "source": [
    "a[0:4] #+1 잊지 말기~"
   ]
  },
  {
   "cell_type": "code",
   "execution_count": 30,
   "id": "e39ec086",
   "metadata": {},
   "outputs": [
    {
     "data": {
      "text/plain": [
       "'too short'"
      ]
     },
     "execution_count": 30,
     "metadata": {},
     "output_type": "execute_result"
    }
   ],
   "source": [
    "a[8:17]"
   ]
  },
  {
   "cell_type": "code",
   "execution_count": null,
   "id": "3f2e0bb3",
   "metadata": {},
   "outputs": [],
   "source": [
    "a[0:]"
   ]
  },
  {
   "cell_type": "code",
   "execution_count": 31,
   "id": "b64d5288",
   "metadata": {},
   "outputs": [
    {
     "data": {
      "text/plain": [
       "False"
      ]
     },
     "execution_count": 31,
     "metadata": {},
     "output_type": "execute_result"
    }
   ],
   "source": [
    "a[0:4] == a[0:5]"
   ]
  },
  {
   "cell_type": "code",
   "execution_count": 34,
   "id": "b1b86590",
   "metadata": {},
   "outputs": [
    {
     "data": {
      "text/plain": [
       "'You need Python'"
      ]
     },
     "execution_count": 34,
     "metadata": {},
     "output_type": "execute_result"
    }
   ],
   "source": [
    "a[19:]"
   ]
  },
  {
   "cell_type": "code",
   "execution_count": 38,
   "id": "b91c1535",
   "metadata": {},
   "outputs": [
    {
     "data": {
      "text/plain": [
       "'Life is too short'"
      ]
     },
     "execution_count": 38,
     "metadata": {},
     "output_type": "execute_result"
    }
   ],
   "source": [
    "a[:17]"
   ]
  },
  {
   "cell_type": "code",
   "execution_count": 39,
   "id": "aa9c84e0",
   "metadata": {},
   "outputs": [
    {
     "data": {
      "text/plain": [
       "'Life is too short, You need Python'"
      ]
     },
     "execution_count": 39,
     "metadata": {},
     "output_type": "execute_result"
    }
   ],
   "source": [
    "a[:]"
   ]
  },
  {
   "cell_type": "code",
   "execution_count": 41,
   "id": "390421ab",
   "metadata": {},
   "outputs": [
    {
     "data": {
      "text/plain": [
       "'You need'"
      ]
     },
     "execution_count": 41,
     "metadata": {},
     "output_type": "execute_result"
    }
   ],
   "source": [
    "a[19:-7]"
   ]
  },
  {
   "cell_type": "markdown",
   "id": "60904f8f",
   "metadata": {},
   "source": [
    "# 슬라이싱으로 문자열 나누기"
   ]
  },
  {
   "cell_type": "code",
   "execution_count": 43,
   "id": "5795f74b",
   "metadata": {},
   "outputs": [
    {
     "data": {
      "text/plain": [
       "('20240228', 'Sunny')"
      ]
     },
     "execution_count": 43,
     "metadata": {},
     "output_type": "execute_result"
    }
   ],
   "source": [
    "a = '20240228Sunny'\n",
    "date=a[ :8]\n",
    "weather = a[8:]\n",
    "date,weather"
   ]
  },
  {
   "cell_type": "code",
   "execution_count": 47,
   "id": "aa0065b2",
   "metadata": {},
   "outputs": [
    {
     "data": {
      "text/plain": [
       "('2024', '0228', 'Sunny')"
      ]
     },
     "execution_count": 47,
     "metadata": {},
     "output_type": "execute_result"
    }
   ],
   "source": [
    "year =a[:4]\n",
    "day= a[4:8]\n",
    "weather = a[8:]\n",
    "year, day, weather"
   ]
  },
  {
   "cell_type": "markdown",
   "id": "28d43668",
   "metadata": {},
   "source": [
    "# 문자열 수정하기 - 원본 변경불가"
   ]
  },
  {
   "cell_type": "markdown",
   "id": "2dcaf981",
   "metadata": {},
   "source": [
    "### 문자열 = immutable(변경 불가) 자료형"
   ]
  },
  {
   "cell_type": "code",
   "execution_count": 28,
   "id": "6550eee3",
   "metadata": {},
   "outputs": [
    {
     "ename": "TypeError",
     "evalue": "'str' object does not support item assignment",
     "output_type": "error",
     "traceback": [
      "\u001b[1;31m---------------------------------------------------------------------------\u001b[0m",
      "\u001b[1;31mTypeError\u001b[0m                                 Traceback (most recent call last)",
      "Cell \u001b[1;32mIn[28], line 2\u001b[0m\n\u001b[0;32m      1\u001b[0m a\u001b[38;5;241m=\u001b[39m \u001b[38;5;124m'\u001b[39m\u001b[38;5;124mpithon\u001b[39m\u001b[38;5;124m'\u001b[39m\n\u001b[1;32m----> 2\u001b[0m a[\u001b[38;5;241m1\u001b[39m] \u001b[38;5;241m=\u001b[39m\u001b[38;5;124m'\u001b[39m\u001b[38;5;124my\u001b[39m\u001b[38;5;124m'\u001b[39m\n\u001b[0;32m      3\u001b[0m \u001b[38;5;28mprint\u001b[39m(a)\n",
      "\u001b[1;31mTypeError\u001b[0m: 'str' object does not support item assignment"
     ]
    }
   ],
   "source": [
    "a= 'pithon'\n",
    "a[1] ='y'\n",
    "print(a)"
   ]
  },
  {
   "cell_type": "code",
   "execution_count": 29,
   "id": "6f8609e7",
   "metadata": {},
   "outputs": [
    {
     "data": {
      "text/plain": [
       "'python'"
      ]
     },
     "execution_count": 29,
     "metadata": {},
     "output_type": "execute_result"
    }
   ],
   "source": [
    "# 문자열을 수정하고 싶다면 슬라이싱 기법으로\n",
    "b=a[:1] + 'y'+a[2:]\n",
    "b"
   ]
  },
  {
   "cell_type": "markdown",
   "id": "28157329",
   "metadata": {},
   "source": [
    "# 문자열 포매팅 - 숫자만 바꾸고 싶어"
   ]
  },
  {
   "cell_type": "code",
   "execution_count": 57,
   "id": "4a6d81c7",
   "metadata": {},
   "outputs": [
    {
     "data": {
      "text/plain": [
       "'I eat 3 apples.'"
      ]
     },
     "execution_count": 57,
     "metadata": {},
     "output_type": "execute_result"
    }
   ],
   "source": [
    "# 숫자 바로 대입\n",
    "\"I eat %d apples.\" %3"
   ]
  },
  {
   "cell_type": "code",
   "execution_count": 58,
   "id": "8b576f71",
   "metadata": {},
   "outputs": [
    {
     "data": {
      "text/plain": [
       "'I eat five apples'"
      ]
     },
     "execution_count": 58,
     "metadata": {},
     "output_type": "execute_result"
    }
   ],
   "source": [
    "# 문자열 바로 대입\n",
    "\"I eat %s apples\" %\"five\""
   ]
  },
  {
   "cell_type": "code",
   "execution_count": 59,
   "id": "80364b34",
   "metadata": {},
   "outputs": [
    {
     "data": {
      "text/plain": [
       "'I eat 5 apples'"
      ]
     },
     "execution_count": 59,
     "metadata": {},
     "output_type": "execute_result"
    }
   ],
   "source": [
    "\"I eat %s apples\" %\"5\""
   ]
  },
  {
   "cell_type": "code",
   "execution_count": 60,
   "id": "43a759ea",
   "metadata": {},
   "outputs": [
    {
     "data": {
      "text/plain": [
       "'I eat 3 apples.'"
      ]
     },
     "execution_count": 60,
     "metadata": {},
     "output_type": "execute_result"
    }
   ],
   "source": [
    "#숫자 값을 나타내는 변수로 대입\n",
    "number = 3\n",
    "\"I eat %d apples.\"%number"
   ]
  },
  {
   "cell_type": "code",
   "execution_count": 61,
   "id": "e599f29c",
   "metadata": {},
   "outputs": [
    {
     "data": {
      "text/plain": [
       "'I ate 10 apples. so I was sick for three days'"
      ]
     },
     "execution_count": 61,
     "metadata": {},
     "output_type": "execute_result"
    }
   ],
   "source": [
    "# 2개 이상의 값 넣기\n",
    "number = 10\n",
    "day = 'three'\n",
    "\"I ate %d apples. so I was sick for %s days\" %(number,day)"
   ]
  },
  {
   "cell_type": "code",
   "execution_count": 62,
   "id": "7ec2dc72",
   "metadata": {},
   "outputs": [
    {
     "ename": "TypeError",
     "evalue": "%d format: a real number is required, not str",
     "output_type": "error",
     "traceback": [
      "\u001b[1;31m---------------------------------------------------------------------------\u001b[0m",
      "\u001b[1;31mTypeError\u001b[0m                                 Traceback (most recent call last)",
      "Cell \u001b[1;32mIn[62], line 1\u001b[0m\n\u001b[1;32m----> 1\u001b[0m \u001b[38;5;124m\"\u001b[39m\u001b[38;5;124mI ate \u001b[39m\u001b[38;5;132;01m%d\u001b[39;00m\u001b[38;5;124m apples. so I was sick for \u001b[39m\u001b[38;5;132;01m%s\u001b[39;00m\u001b[38;5;124m days\u001b[39m\u001b[38;5;124m\"\u001b[39m \u001b[38;5;241m%\u001b[39m(day,number)\n",
      "\u001b[1;31mTypeError\u001b[0m: %d format: a real number is required, not str"
     ]
    }
   ],
   "source": [
    "\"I ate %d apples. so I was sick for %s days\" %(day,number)"
   ]
  },
  {
   "cell_type": "code",
   "execution_count": null,
   "id": "a0bd7303",
   "metadata": {},
   "outputs": [],
   "source": [
    "# 숫자는 문자열이 될 수 있다\n",
    "# 문자열은 숫자가 될 수 없음"
   ]
  },
  {
   "cell_type": "code",
   "execution_count": null,
   "id": "a18e2a77",
   "metadata": {},
   "outputs": [],
   "source": [
    "# %% -> 문자 %자체임"
   ]
  },
  {
   "cell_type": "code",
   "execution_count": 63,
   "id": "fc39153e",
   "metadata": {},
   "outputs": [
    {
     "ename": "TypeError",
     "evalue": "not enough arguments for format string",
     "output_type": "error",
     "traceback": [
      "\u001b[1;31m---------------------------------------------------------------------------\u001b[0m",
      "\u001b[1;31mTypeError\u001b[0m                                 Traceback (most recent call last)",
      "Cell \u001b[1;32mIn[63], line 1\u001b[0m\n\u001b[1;32m----> 1\u001b[0m \u001b[38;5;124m'\u001b[39m\u001b[38;5;124m오늘의 습도는 \u001b[39m\u001b[38;5;132;01m%d\u001b[39;00m\u001b[38;5;124m%\u001b[39m\u001b[38;5;124m입니다.\u001b[39m\u001b[38;5;124m'\u001b[39m \u001b[38;5;241m%\u001b[39m\u001b[38;5;241m70\u001b[39m\n",
      "\u001b[1;31mTypeError\u001b[0m: not enough arguments for format string"
     ]
    }
   ],
   "source": [
    "'오늘의 습도는 %d%입니다.' %70"
   ]
  },
  {
   "cell_type": "code",
   "execution_count": 64,
   "id": "eb273399",
   "metadata": {},
   "outputs": [
    {
     "data": {
      "text/plain": [
       "'오늘의 습도는 70%입니다.'"
      ]
     },
     "execution_count": 64,
     "metadata": {},
     "output_type": "execute_result"
    }
   ],
   "source": [
    "'오늘의 습도는 %d%%입니다.' %70"
   ]
  },
  {
   "cell_type": "markdown",
   "id": "e185ea5c",
   "metadata": {},
   "source": [
    "# 포맷 코드와 숫자 함께 사용하기"
   ]
  },
  {
   "cell_type": "markdown",
   "id": "aceb067f",
   "metadata": {},
   "source": [
    "%10s는 전체 길이가 10개인 문자열 공간에서 대입되는 값을 오른쪽으로 정렬하고 그 앞의 나머지는 공백으로 남겨 두라는 의미이다."
   ]
  },
  {
   "cell_type": "code",
   "execution_count": 31,
   "id": "61406a02",
   "metadata": {},
   "outputs": [
    {
     "data": {
      "text/plain": [
       "'        hi'"
      ]
     },
     "execution_count": 31,
     "metadata": {},
     "output_type": "execute_result"
    }
   ],
   "source": [
    "#정렬과 공백 \"%10s\"& %-10s\n",
    "\"%10s\" % 'hi'"
   ]
  },
  {
   "cell_type": "code",
   "execution_count": 66,
   "id": "35083ebd",
   "metadata": {},
   "outputs": [
    {
     "data": {
      "text/plain": [
       "'hi        jane'"
      ]
     },
     "execution_count": 66,
     "metadata": {},
     "output_type": "execute_result"
    }
   ],
   "source": [
    "\"%-10sjane\" % 'hi'"
   ]
  },
  {
   "cell_type": "markdown",
   "id": "16d13a69",
   "metadata": {},
   "source": [
    "# 소수점 표현하기"
   ]
  },
  {
   "cell_type": "markdown",
   "id": "adc632fd",
   "metadata": {},
   "source": [
    "소수점 네 번째 자리까지만 나타내고 싶은 경우  \n",
    "%0.4f"
   ]
  },
  {
   "cell_type": "code",
   "execution_count": 67,
   "id": "f50630c3",
   "metadata": {},
   "outputs": [
    {
     "data": {
      "text/plain": [
       "'3.4213'"
      ]
     },
     "execution_count": 67,
     "metadata": {},
     "output_type": "execute_result"
    }
   ],
   "source": [
    "\"%0.4f\"%3.42133453"
   ]
  },
  {
   "cell_type": "code",
   "execution_count": 32,
   "id": "d4567be1",
   "metadata": {},
   "outputs": [
    {
     "data": {
      "text/plain": [
       "'3.4213'"
      ]
     },
     "execution_count": 32,
     "metadata": {},
     "output_type": "execute_result"
    }
   ],
   "source": [
    "\"%.4f\"%3.42133453"
   ]
  },
  {
   "cell_type": "code",
   "execution_count": 68,
   "id": "c8e79209",
   "metadata": {},
   "outputs": [
    {
     "data": {
      "text/plain": [
       "'    3.4213'"
      ]
     },
     "execution_count": 68,
     "metadata": {},
     "output_type": "execute_result"
    }
   ],
   "source": [
    "\"%10.4f\"%3.42133453"
   ]
  },
  {
   "cell_type": "code",
   "execution_count": 33,
   "id": "c78b36a5",
   "metadata": {},
   "outputs": [
    {
     "data": {
      "text/plain": [
       "'3.4213    '"
      ]
     },
     "execution_count": 33,
     "metadata": {},
     "output_type": "execute_result"
    }
   ],
   "source": [
    "\"%-10.4f\"%3.42133453"
   ]
  },
  {
   "cell_type": "markdown",
   "id": "96715561",
   "metadata": {},
   "source": [
    "# format 함수를 사용한 포매팅"
   ]
  },
  {
   "cell_type": "markdown",
   "id": "842b55bb",
   "metadata": {},
   "source": [
    "~{}~.format()"
   ]
  },
  {
   "cell_type": "code",
   "execution_count": 69,
   "id": "7328a337",
   "metadata": {},
   "outputs": [
    {
     "data": {
      "text/plain": [
       "'I eat 3 apples'"
      ]
     },
     "execution_count": 69,
     "metadata": {},
     "output_type": "execute_result"
    }
   ],
   "source": [
    "\"I eat {0} apples\".format(3)"
   ]
  },
  {
   "cell_type": "code",
   "execution_count": 70,
   "id": "90d73146",
   "metadata": {},
   "outputs": [
    {
     "data": {
      "text/plain": [
       "'I eat five apples'"
      ]
     },
     "execution_count": 70,
     "metadata": {},
     "output_type": "execute_result"
    }
   ],
   "source": [
    "\"I eat {} apples\".format('five') # 0안넣어도 됌"
   ]
  },
  {
   "cell_type": "code",
   "execution_count": 71,
   "id": "7b6f5de7",
   "metadata": {},
   "outputs": [
    {
     "data": {
      "text/plain": [
       "'I eat 10apples'"
      ]
     },
     "execution_count": 71,
     "metadata": {},
     "output_type": "execute_result"
    }
   ],
   "source": [
    "number = 10\n",
    "'I eat {}apples'.format(number)"
   ]
  },
  {
   "cell_type": "code",
   "execution_count": 34,
   "id": "479e0a04",
   "metadata": {},
   "outputs": [
    {
     "data": {
      "text/plain": [
       "'I ate 10 apples, so I was sick for three days.'"
      ]
     },
     "execution_count": 34,
     "metadata": {},
     "output_type": "execute_result"
    }
   ],
   "source": [
    "number = 10\n",
    "day = 'three'\n",
    "'I ate {} apples, so I was sick for {} days.' .format(number,day)"
   ]
  },
  {
   "cell_type": "code",
   "execution_count": 73,
   "id": "d074b3e5",
   "metadata": {},
   "outputs": [
    {
     "data": {
      "text/plain": [
       "'I ate three apples, so I was sick for 10 days.'"
      ]
     },
     "execution_count": 73,
     "metadata": {},
     "output_type": "execute_result"
    }
   ],
   "source": [
    "'I ate {0} apples, so I was sick for {1} days.' .format(day,number) #{0}은 자료형으로 지정된게 아니라 문자열 숫자 다 가능"
   ]
  },
  {
   "cell_type": "code",
   "execution_count": 74,
   "id": "8afd0bad",
   "metadata": {},
   "outputs": [
    {
     "ename": "SyntaxError",
     "evalue": "incomplete input (2430800815.py, line 1)",
     "output_type": "error",
     "traceback": [
      "\u001b[1;36m  Cell \u001b[1;32mIn[74], line 1\u001b[1;36m\u001b[0m\n\u001b[1;33m    'I ate {number} apples, so I was sick for {day} days.' .format(number=1, day = 'one'\u001b[0m\n\u001b[1;37m                                                                                        ^\u001b[0m\n\u001b[1;31mSyntaxError\u001b[0m\u001b[1;31m:\u001b[0m incomplete input\n"
     ]
    }
   ],
   "source": [
    "'I ate {number} apples, so I was sick for {day} days.' .format(number=1, day = 'one'"
   ]
  },
  {
   "cell_type": "code",
   "execution_count": 76,
   "id": "6821f19e",
   "metadata": {},
   "outputs": [
    {
     "ename": "KeyError",
     "evalue": "'number'",
     "output_type": "error",
     "traceback": [
      "\u001b[1;31m---------------------------------------------------------------------------\u001b[0m",
      "\u001b[1;31mKeyError\u001b[0m                                  Traceback (most recent call last)",
      "Cell \u001b[1;32mIn[76], line 1\u001b[0m\n\u001b[1;32m----> 1\u001b[0m \u001b[38;5;124m'\u001b[39m\u001b[38;5;124mI ate \u001b[39m\u001b[38;5;132;01m{number}\u001b[39;00m\u001b[38;5;124m apples, so I was sick for \u001b[39m\u001b[38;5;132;01m{day}\u001b[39;00m\u001b[38;5;124m days.\u001b[39m\u001b[38;5;124m'\u001b[39m\u001b[38;5;241m.\u001b[39mformat(\u001b[38;5;241m10\u001b[39m,\u001b[38;5;241m3\u001b[39m)\n",
      "\u001b[1;31mKeyError\u001b[0m: 'number'"
     ]
    }
   ],
   "source": [
    "'I ate {number} apples, so I was sick for {day} days.'.format(10,3)"
   ]
  },
  {
   "cell_type": "code",
   "execution_count": 78,
   "id": "5d2d3862",
   "metadata": {},
   "outputs": [
    {
     "data": {
      "text/plain": [
       "'I ate 3 apples, so I was sick for 10 days.'"
      ]
     },
     "execution_count": 78,
     "metadata": {},
     "output_type": "execute_result"
    }
   ],
   "source": [
    "'I ate {number} apples, so I was sick for {day} days.'.format(day=10,number=3)"
   ]
  },
  {
   "cell_type": "code",
   "execution_count": null,
   "id": "cca96c02",
   "metadata": {},
   "outputs": [],
   "source": [
    "# 정렬, 공백 채우기 잘 안함"
   ]
  },
  {
   "cell_type": "markdown",
   "id": "c1a1fa94",
   "metadata": {},
   "source": [
    "# 소수점 표현하기"
   ]
  },
  {
   "cell_type": "code",
   "execution_count": 79,
   "id": "cea8084c",
   "metadata": {},
   "outputs": [
    {
     "data": {
      "text/plain": [
       "'3.4213'"
      ]
     },
     "execution_count": 79,
     "metadata": {},
     "output_type": "execute_result"
    }
   ],
   "source": [
    "y = 3.4213234\n",
    "\"{0:0.4f}\".format(y)"
   ]
  },
  {
   "cell_type": "markdown",
   "id": "2dff191b",
   "metadata": {},
   "source": [
    "# f  문자열 포매팅(강추)"
   ]
  },
  {
   "cell_type": "code",
   "execution_count": 81,
   "id": "75d8429e",
   "metadata": {},
   "outputs": [
    {
     "data": {
      "text/plain": [
       "'나의 이름은 홍길동입니다.나이는 30입니다'"
      ]
     },
     "execution_count": 81,
     "metadata": {},
     "output_type": "execute_result"
    }
   ],
   "source": [
    "name = '홍길동'\n",
    "age = 30\n",
    "f'나의 이름은 {name}입니다.나이는 {age}입니다'"
   ]
  },
  {
   "cell_type": "code",
   "execution_count": 82,
   "id": "408671cc",
   "metadata": {},
   "outputs": [
    {
     "data": {
      "text/plain": [
       "'나는 내년이면 31살이 된다.'"
      ]
     },
     "execution_count": 82,
     "metadata": {},
     "output_type": "execute_result"
    }
   ],
   "source": [
    "age =30\n",
    "f'나는 내년이면 {age+1}살이 된다.'\n"
   ]
  },
  {
   "cell_type": "code",
   "execution_count": 85,
   "id": "cc971407",
   "metadata": {},
   "outputs": [
    {
     "data": {
      "text/plain": [
       "'나의 이름은 홍길동입니다. 나이는 30입니다'"
      ]
     },
     "execution_count": 85,
     "metadata": {},
     "output_type": "execute_result"
    }
   ],
   "source": [
    "d ={'name':'홍길동','age':30}\n",
    "f'나의 이름은 {d[\"name\"]}입니다. 나이는 {d[\"age\"]}입니다'"
   ]
  },
  {
   "cell_type": "markdown",
   "id": "b36cf5ef",
   "metadata": {},
   "source": [
    "# 문자열 관련 함수들"
   ]
  },
  {
   "cell_type": "code",
   "execution_count": 86,
   "id": "3556224e",
   "metadata": {},
   "outputs": [
    {
     "data": {
      "text/plain": [
       "2"
      ]
     },
     "execution_count": 86,
     "metadata": {},
     "output_type": "execute_result"
    }
   ],
   "source": [
    "# 문자세기 count\n",
    "a=\"hobby\"\n",
    "a.count('b')"
   ]
  },
  {
   "cell_type": "code",
   "execution_count": 90,
   "id": "c7adfe24",
   "metadata": {},
   "outputs": [
    {
     "data": {
      "text/plain": [
       "4"
      ]
     },
     "execution_count": 90,
     "metadata": {},
     "output_type": "execute_result"
    }
   ],
   "source": [
    "# 위치 알려주기 find\n",
    "a = 'python is the best choice'\n",
    "a.find('o')"
   ]
  },
  {
   "cell_type": "code",
   "execution_count": 91,
   "id": "2ff9a0a7",
   "metadata": {},
   "outputs": [
    {
     "data": {
      "text/plain": [
       "8"
      ]
     },
     "execution_count": 91,
     "metadata": {},
     "output_type": "execute_result"
    }
   ],
   "source": [
    "# 위치 알려주기 index - 오류가 났을 때 멈춘다는 점에서 FIND와 다름\n",
    "a = \"Life is too short\"\n",
    "a.index('t')"
   ]
  },
  {
   "cell_type": "code",
   "execution_count": 92,
   "id": "ea733a0e",
   "metadata": {},
   "outputs": [
    {
     "data": {
      "text/plain": [
       "'abcd'"
      ]
     },
     "execution_count": 92,
     "metadata": {},
     "output_type": "execute_result"
    }
   ],
   "source": [
    "# 문자열 삽입 JOIN\n",
    "\n",
    "a = 'abcd'\n",
    "a"
   ]
  },
  {
   "cell_type": "code",
   "execution_count": 93,
   "id": "f0f179c3",
   "metadata": {},
   "outputs": [
    {
     "data": {
      "text/plain": [
       "'a,b,c,d'"
      ]
     },
     "execution_count": 93,
     "metadata": {},
     "output_type": "execute_result"
    }
   ],
   "source": [
    "','.join(a)"
   ]
  },
  {
   "cell_type": "code",
   "execution_count": 94,
   "id": "9589b210",
   "metadata": {},
   "outputs": [
    {
     "data": {
      "text/plain": [
       "['a', 'b', 'c', 'd']"
      ]
     },
     "execution_count": 94,
     "metadata": {},
     "output_type": "execute_result"
    }
   ],
   "source": [
    "a=['a','b','c','d']\n",
    "a"
   ]
  },
  {
   "cell_type": "code",
   "execution_count": 96,
   "id": "379da4e6",
   "metadata": {},
   "outputs": [
    {
     "data": {
      "text/plain": [
       "'a,b,c,d'"
      ]
     },
     "execution_count": 96,
     "metadata": {},
     "output_type": "execute_result"
    }
   ],
   "source": [
    "','.join(a)"
   ]
  },
  {
   "cell_type": "markdown",
   "id": "2f940ccf",
   "metadata": {},
   "source": [
    "# 소문자로 대문자로 바꾸기 upper"
   ]
  },
  {
   "cell_type": "code",
   "execution_count": 100,
   "id": "dab1e105",
   "metadata": {},
   "outputs": [],
   "source": [
    "a = 'hi'\n",
    "a.upper? #?붙이면 설명 볼 수 있음"
   ]
  },
  {
   "cell_type": "code",
   "execution_count": 101,
   "id": "4619120a",
   "metadata": {},
   "outputs": [
    {
     "data": {
      "text/plain": [
       "'HI'"
      ]
     },
     "execution_count": 101,
     "metadata": {},
     "output_type": "execute_result"
    }
   ],
   "source": [
    "a = 'hi'\n",
    "a.upper()"
   ]
  },
  {
   "cell_type": "code",
   "execution_count": 102,
   "id": "565cc4fa",
   "metadata": {},
   "outputs": [
    {
     "name": "stdout",
     "output_type": "stream",
     "text": [
      "\n"
     ]
    }
   ],
   "source": [
    "print()\n",
    "print?"
   ]
  },
  {
   "cell_type": "code",
   "execution_count": 103,
   "id": "f79690b8",
   "metadata": {},
   "outputs": [
    {
     "name": "stdout",
     "output_type": "stream",
     "text": [
      "Help on built-in function print in module builtins:\n",
      "\n",
      "print(*args, sep=' ', end='\\n', file=None, flush=False)\n",
      "    Prints the values to a stream, or to sys.stdout by default.\n",
      "    \n",
      "    sep\n",
      "      string inserted between values, default a space.\n",
      "    end\n",
      "      string appended after the last value, default a newline.\n",
      "    file\n",
      "      a file-like object (stream); defaults to the current sys.stdout.\n",
      "    flush\n",
      "      whether to forcibly flush the stream.\n",
      "\n"
     ]
    }
   ],
   "source": [
    "help(print)"
   ]
  },
  {
   "cell_type": "code",
   "execution_count": null,
   "id": "27f274ab",
   "metadata": {},
   "outputs": [],
   "source": [
    "#pyhton 의 doucumention을 먼저보고\n",
    "# 그래도 안되면 블로그를 봐라"
   ]
  },
  {
   "cell_type": "code",
   "execution_count": 104,
   "id": "f6808ab0",
   "metadata": {},
   "outputs": [
    {
     "data": {
      "text/plain": [
       "'hi'"
      ]
     },
     "execution_count": 104,
     "metadata": {},
     "output_type": "execute_result"
    }
   ],
   "source": [
    "# 소문자 바꾸기\n",
    "a= 'HI'\n",
    "a.lower()"
   ]
  },
  {
   "cell_type": "code",
   "execution_count": 105,
   "id": "c59f98cf",
   "metadata": {},
   "outputs": [
    {
     "data": {
      "text/plain": [
       "'HI'"
      ]
     },
     "execution_count": 105,
     "metadata": {},
     "output_type": "execute_result"
    }
   ],
   "source": [
    "a"
   ]
  },
  {
   "cell_type": "code",
   "execution_count": 111,
   "id": "d8a7a441",
   "metadata": {},
   "outputs": [
    {
     "data": {
      "text/plain": [
       "'   hi    '"
      ]
     },
     "execution_count": 111,
     "metadata": {},
     "output_type": "execute_result"
    }
   ],
   "source": [
    "# 왼쪽 공백 지우기 lstrip\n",
    "a= '   hi    '\n",
    "a"
   ]
  },
  {
   "cell_type": "code",
   "execution_count": 112,
   "id": "a9518e92",
   "metadata": {},
   "outputs": [
    {
     "data": {
      "text/plain": [
       "'hi    '"
      ]
     },
     "execution_count": 112,
     "metadata": {},
     "output_type": "execute_result"
    }
   ],
   "source": [
    "a.lstrip()"
   ]
  },
  {
   "cell_type": "code",
   "execution_count": 113,
   "id": "dc5bdaa5",
   "metadata": {},
   "outputs": [
    {
     "data": {
      "text/plain": [
       "'   hi'"
      ]
     },
     "execution_count": 113,
     "metadata": {},
     "output_type": "execute_result"
    }
   ],
   "source": [
    "a.rstrip()"
   ]
  },
  {
   "cell_type": "code",
   "execution_count": 114,
   "id": "416ab418",
   "metadata": {},
   "outputs": [
    {
     "data": {
      "text/plain": [
       "'hi'"
      ]
     },
     "execution_count": 114,
     "metadata": {},
     "output_type": "execute_result"
    }
   ],
   "source": [
    "a.strip() # 양쪽 다"
   ]
  },
  {
   "cell_type": "markdown",
   "id": "2d34b7bf",
   "metadata": {},
   "source": [
    "# 문자열 바꾸기 replace"
   ]
  },
  {
   "cell_type": "code",
   "execution_count": 116,
   "id": "c8475cbb",
   "metadata": {},
   "outputs": [],
   "source": [
    "a = 'Life is too short'\n",
    "a.replace?"
   ]
  },
  {
   "cell_type": "code",
   "execution_count": 118,
   "id": "8ebb3e84",
   "metadata": {},
   "outputs": [
    {
     "data": {
      "text/plain": [
       "'Your leg is too short'"
      ]
     },
     "execution_count": 118,
     "metadata": {},
     "output_type": "execute_result"
    }
   ],
   "source": [
    "a.replace('Life','Your leg')"
   ]
  },
  {
   "cell_type": "code",
   "execution_count": 119,
   "id": "68561ffc",
   "metadata": {},
   "outputs": [
    {
     "data": {
      "text/plain": [
       "'Life is too short'"
      ]
     },
     "execution_count": 119,
     "metadata": {},
     "output_type": "execute_result"
    }
   ],
   "source": [
    "a #원본은 바뀌지 않는다"
   ]
  },
  {
   "cell_type": "markdown",
   "id": "8f3b97af",
   "metadata": {},
   "source": [
    "# 문자열 나누기 split"
   ]
  },
  {
   "cell_type": "code",
   "execution_count": 120,
   "id": "5fed29e9",
   "metadata": {},
   "outputs": [
    {
     "data": {
      "text/plain": [
       "['Life', 'is', 'too', 'short']"
      ]
     },
     "execution_count": 120,
     "metadata": {},
     "output_type": "execute_result"
    }
   ],
   "source": [
    "a = 'Life is too short'\n",
    "a.split()"
   ]
  },
  {
   "cell_type": "code",
   "execution_count": 121,
   "id": "ffed0adb",
   "metadata": {},
   "outputs": [],
   "source": [
    "a.split? #공백으로 split해준다"
   ]
  },
  {
   "cell_type": "code",
   "execution_count": 122,
   "id": "baf7fe5a",
   "metadata": {},
   "outputs": [
    {
     "data": {
      "text/plain": [
       "['a', 'b', 'c', 'd']"
      ]
     },
     "execution_count": 122,
     "metadata": {},
     "output_type": "execute_result"
    }
   ],
   "source": [
    "# 공백 말고도 split 되나요?\n",
    "b= \"a:b:c:d\"\n",
    "b.split(\":\")"
   ]
  },
  {
   "cell_type": "markdown",
   "id": "8f97bf43",
   "metadata": {},
   "source": [
    "# 변수 -- memory에 저장됌"
   ]
  },
  {
   "cell_type": "code",
   "execution_count": 123,
   "id": "eedbe84f",
   "metadata": {},
   "outputs": [
    {
     "data": {
      "text/plain": [
       "(1, int)"
      ]
     },
     "execution_count": 123,
     "metadata": {},
     "output_type": "execute_result"
    }
   ],
   "source": [
    "a = 1\n",
    "a,type(a)"
   ]
  },
  {
   "cell_type": "code",
   "execution_count": 124,
   "id": "b5e56fda",
   "metadata": {},
   "outputs": [
    {
     "data": {
      "text/plain": [
       "('python ', str)"
      ]
     },
     "execution_count": 124,
     "metadata": {},
     "output_type": "execute_result"
    }
   ],
   "source": [
    "b ='python '\n",
    "b,type(b)"
   ]
  },
  {
   "cell_type": "code",
   "execution_count": 126,
   "id": "d10ca01c",
   "metadata": {},
   "outputs": [
    {
     "data": {
      "text/plain": [
       "([1, 2, 3], list)"
      ]
     },
     "execution_count": 126,
     "metadata": {},
     "output_type": "execute_result"
    }
   ],
   "source": [
    "c= [1, 2, 3]\n",
    "c,type(c)"
   ]
  },
  {
   "cell_type": "code",
   "execution_count": 127,
   "id": "5ee8a766",
   "metadata": {},
   "outputs": [
    {
     "data": {
      "text/plain": [
       "140714863203112"
      ]
     },
     "execution_count": 127,
     "metadata": {},
     "output_type": "execute_result"
    }
   ],
   "source": [
    "id(a)"
   ]
  },
  {
   "cell_type": "code",
   "execution_count": 130,
   "id": "b993fbc1",
   "metadata": {},
   "outputs": [],
   "source": [
    "# 문자열을 복사\n",
    "a= [1,2,3]\n",
    "b=a"
   ]
  },
  {
   "cell_type": "code",
   "execution_count": 131,
   "id": "b8c5cca3",
   "metadata": {},
   "outputs": [
    {
     "data": {
      "text/plain": [
       "(1632152640640, 1632152640640)"
      ]
     },
     "execution_count": 131,
     "metadata": {},
     "output_type": "execute_result"
    }
   ],
   "source": [
    "id(a), id(b)"
   ]
  },
  {
   "cell_type": "code",
   "execution_count": 132,
   "id": "abf4a77b",
   "metadata": {},
   "outputs": [
    {
     "data": {
      "text/plain": [
       "True"
      ]
     },
     "execution_count": 132,
     "metadata": {},
     "output_type": "execute_result"
    }
   ],
   "source": [
    "a is b"
   ]
  },
  {
   "cell_type": "code",
   "execution_count": 133,
   "id": "d2e5159e",
   "metadata": {},
   "outputs": [],
   "source": [
    "del b"
   ]
  },
  {
   "cell_type": "code",
   "execution_count": 134,
   "id": "a771aed2",
   "metadata": {},
   "outputs": [
    {
     "data": {
      "text/plain": [
       "[1, 2, 3]"
      ]
     },
     "execution_count": 134,
     "metadata": {},
     "output_type": "execute_result"
    }
   ],
   "source": [
    "a"
   ]
  },
  {
   "cell_type": "code",
   "execution_count": 138,
   "id": "fac6ce1b",
   "metadata": {},
   "outputs": [],
   "source": [
    "a = [1,2,3]\n",
    "b=a"
   ]
  },
  {
   "cell_type": "code",
   "execution_count": 139,
   "id": "99dbf49d",
   "metadata": {},
   "outputs": [
    {
     "data": {
      "text/plain": [
       "(1632154412160, 1632154412160)"
      ]
     },
     "execution_count": 139,
     "metadata": {},
     "output_type": "execute_result"
    }
   ],
   "source": [
    "id(a),id(b)"
   ]
  },
  {
   "cell_type": "code",
   "execution_count": 136,
   "id": "c88153b3",
   "metadata": {},
   "outputs": [
    {
     "data": {
      "text/plain": [
       "[1, 4, 3]"
      ]
     },
     "execution_count": 136,
     "metadata": {},
     "output_type": "execute_result"
    }
   ],
   "source": [
    "a[1]=4  #리스트 형태는 수정 가능, 텍스트 형태는 안돼\n",
    "a"
   ]
  },
  {
   "cell_type": "code",
   "execution_count": 140,
   "id": "b2a2dc11",
   "metadata": {},
   "outputs": [
    {
     "data": {
      "text/plain": [
       "[1, 2, 3]"
      ]
     },
     "execution_count": 140,
     "metadata": {},
     "output_type": "execute_result"
    }
   ],
   "source": [
    "b"
   ]
  },
  {
   "cell_type": "markdown",
   "id": "1b66ec54",
   "metadata": {},
   "source": [
    "https://pythontutor.com/  시각화해서 보는 파이썬 "
   ]
  },
  {
   "cell_type": "code",
   "execution_count": 141,
   "id": "b439c608",
   "metadata": {},
   "outputs": [
    {
     "data": {
      "text/plain": [
       "(10, 10)"
      ]
     },
     "execution_count": 141,
     "metadata": {},
     "output_type": "execute_result"
    }
   ],
   "source": [
    "num1 = 10\n",
    "num2 =num1\n",
    "num1,num2"
   ]
  },
  {
   "cell_type": "code",
   "execution_count": 142,
   "id": "69a82a54",
   "metadata": {},
   "outputs": [
    {
     "data": {
      "text/plain": [
       "(11, 10)"
      ]
     },
     "execution_count": 142,
     "metadata": {},
     "output_type": "execute_result"
    }
   ],
   "source": [
    "num1 = 11\n",
    "num1,num2"
   ]
  },
  {
   "cell_type": "code",
   "execution_count": 143,
   "id": "31a67736",
   "metadata": {},
   "outputs": [
    {
     "data": {
      "text/plain": [
       "(1632154409728, 1632151650624)"
      ]
     },
     "execution_count": 143,
     "metadata": {},
     "output_type": "execute_result"
    }
   ],
   "source": [
    "# 직접적으로 넣는거는 적용되지 않음\n",
    "a=[1,2,3]\n",
    "b=a [:]\n",
    "id(a),id(b)"
   ]
  },
  {
   "cell_type": "code",
   "execution_count": 144,
   "id": "f5941388",
   "metadata": {},
   "outputs": [
    {
     "data": {
      "text/plain": [
       "(1632152639936, 1632141210816)"
      ]
     },
     "execution_count": 144,
     "metadata": {},
     "output_type": "execute_result"
    }
   ],
   "source": [
    "c=[1,2,3]\n",
    "d=[1,2,3]\n",
    "id(c),id(d)"
   ]
  },
  {
   "cell_type": "markdown",
   "id": "9b810879",
   "metadata": {},
   "source": [
    "# copy모듈 이용하기"
   ]
  },
  {
   "cell_type": "code",
   "execution_count": 145,
   "id": "47cfecd7",
   "metadata": {},
   "outputs": [
    {
     "data": {
      "text/plain": [
       "[1, 2, 3]"
      ]
     },
     "execution_count": 145,
     "metadata": {},
     "output_type": "execute_result"
    }
   ],
   "source": [
    "from copy import copy\n",
    "a = [1,2,3]\n",
    "a"
   ]
  },
  {
   "cell_type": "code",
   "execution_count": 148,
   "id": "ed690532",
   "metadata": {},
   "outputs": [
    {
     "data": {
      "text/plain": [
       "(1632151665280, 1632148876160)"
      ]
     },
     "execution_count": 148,
     "metadata": {},
     "output_type": "execute_result"
    }
   ],
   "source": [
    "b= copy(a)\n",
    "id(a),id(b)"
   ]
  },
  {
   "cell_type": "code",
   "execution_count": 149,
   "id": "a0ab22eb",
   "metadata": {},
   "outputs": [
    {
     "data": {
      "text/plain": [
       "False"
      ]
     },
     "execution_count": 149,
     "metadata": {},
     "output_type": "execute_result"
    }
   ],
   "source": [
    "b is a"
   ]
  },
  {
   "cell_type": "code",
   "execution_count": 150,
   "id": "6115816c",
   "metadata": {},
   "outputs": [
    {
     "data": {
      "text/plain": [
       "True"
      ]
     },
     "execution_count": 150,
     "metadata": {},
     "output_type": "execute_result"
    }
   ],
   "source": [
    "b == a"
   ]
  },
  {
   "cell_type": "markdown",
   "id": "cc264b90",
   "metadata": {},
   "source": [
    "# 변수를 만드는 여러가지 방법"
   ]
  },
  {
   "cell_type": "code",
   "execution_count": 151,
   "id": "e63c487b",
   "metadata": {},
   "outputs": [],
   "source": [
    "a,b=('python','life')"
   ]
  },
  {
   "cell_type": "code",
   "execution_count": 152,
   "id": "21af66b2",
   "metadata": {},
   "outputs": [
    {
     "data": {
      "text/plain": [
       "'python'"
      ]
     },
     "execution_count": 152,
     "metadata": {},
     "output_type": "execute_result"
    }
   ],
   "source": [
    "a"
   ]
  },
  {
   "cell_type": "code",
   "execution_count": 153,
   "id": "620d37d9",
   "metadata": {},
   "outputs": [
    {
     "data": {
      "text/plain": [
       "'life'"
      ]
     },
     "execution_count": 153,
     "metadata": {},
     "output_type": "execute_result"
    }
   ],
   "source": [
    "b"
   ]
  },
  {
   "cell_type": "code",
   "execution_count": 160,
   "id": "5287fbde",
   "metadata": {},
   "outputs": [
    {
     "name": "stdout",
     "output_type": "stream",
     "text": [
      "python\n",
      "life\n"
     ]
    }
   ],
   "source": [
    "(a,b)= 'python','life'\n",
    "print(a)\n",
    "print(b)"
   ]
  },
  {
   "cell_type": "code",
   "execution_count": 156,
   "id": "499b35b9",
   "metadata": {},
   "outputs": [],
   "source": [
    "[a,b]=['python','life']"
   ]
  },
  {
   "cell_type": "code",
   "execution_count": 157,
   "id": "97e1bacb",
   "metadata": {},
   "outputs": [
    {
     "data": {
      "text/plain": [
       "('python', 'life')"
      ]
     },
     "execution_count": 157,
     "metadata": {},
     "output_type": "execute_result"
    }
   ],
   "source": [
    "a,b"
   ]
  },
  {
   "cell_type": "code",
   "execution_count": 161,
   "id": "e129f64d",
   "metadata": {},
   "outputs": [],
   "source": [
    "a=3\n",
    "a=5"
   ]
  },
  {
   "cell_type": "code",
   "execution_count": 162,
   "id": "a2837c38",
   "metadata": {},
   "outputs": [],
   "source": [
    "a,b=b,a"
   ]
  },
  {
   "cell_type": "code",
   "execution_count": 163,
   "id": "00e12285",
   "metadata": {},
   "outputs": [
    {
     "data": {
      "text/plain": [
       "('life', 5)"
      ]
     },
     "execution_count": 163,
     "metadata": {},
     "output_type": "execute_result"
    }
   ],
   "source": [
    "a,b"
   ]
  },
  {
   "cell_type": "markdown",
   "id": "845a9f3d",
   "metadata": {},
   "source": [
    "# 리스트 객체 [ ]"
   ]
  },
  {
   "cell_type": "code",
   "execution_count": 1,
   "id": "4d97e09b",
   "metadata": {},
   "outputs": [
    {
     "data": {
      "text/plain": [
       "[1, 3, 4, 7, 9]"
      ]
     },
     "execution_count": 1,
     "metadata": {},
     "output_type": "execute_result"
    }
   ],
   "source": [
    "odd = [1, 3, 4, 7, 9]\n",
    "odd"
   ]
  },
  {
   "cell_type": "code",
   "execution_count": 3,
   "id": "b00911a6",
   "metadata": {},
   "outputs": [
    {
     "data": {
      "text/plain": [
       "list"
      ]
     },
     "execution_count": 3,
     "metadata": {},
     "output_type": "execute_result"
    }
   ],
   "source": [
    "type(odd)"
   ]
  },
  {
   "cell_type": "code",
   "execution_count": 5,
   "id": "e323829b",
   "metadata": {},
   "outputs": [
    {
     "data": {
      "text/plain": [
       "([],\n",
       " [1, 2, 3],\n",
       " ['Life', 'is', 'too', 'short'],\n",
       " [1, 2, 'Life', 'is'],\n",
       " [1, 2, ['Life', 'is']])"
      ]
     },
     "execution_count": 5,
     "metadata": {},
     "output_type": "execute_result"
    }
   ],
   "source": [
    "a = []\n",
    "b = [1,2,3]\n",
    "c= ['Life','is','too','short']\n",
    "d = [1,2,'Life','is']\n",
    "e= [1,2,['Life','is']]\n",
    "a,b,c,d,e\n",
    "#리스트 안에는 어떠한 자료형도 포함할 수 있다."
   ]
  },
  {
   "cell_type": "code",
   "execution_count": 6,
   "id": "4257bfc7",
   "metadata": {},
   "outputs": [
    {
     "data": {
      "text/plain": [
       "([], list)"
      ]
     },
     "execution_count": 6,
     "metadata": {},
     "output_type": "execute_result"
    }
   ],
   "source": [
    "# 비어있는 리스트 생성  a = list()\n",
    "a = list()\n",
    "a,type(a)"
   ]
  },
  {
   "cell_type": "markdown",
   "id": "5fa90006",
   "metadata": {},
   "source": [
    "# 리스트의 인덱싱"
   ]
  },
  {
   "cell_type": "code",
   "execution_count": 7,
   "id": "372a39e7",
   "metadata": {},
   "outputs": [
    {
     "data": {
      "text/plain": [
       "[1, 2, 3]"
      ]
     },
     "execution_count": 7,
     "metadata": {},
     "output_type": "execute_result"
    }
   ],
   "source": [
    "a = [1,2,3]\n",
    "a"
   ]
  },
  {
   "cell_type": "code",
   "execution_count": 8,
   "id": "78966885",
   "metadata": {},
   "outputs": [
    {
     "data": {
      "text/plain": [
       "1"
      ]
     },
     "execution_count": 8,
     "metadata": {},
     "output_type": "execute_result"
    }
   ],
   "source": [
    "a[0]"
   ]
  },
  {
   "cell_type": "code",
   "execution_count": 9,
   "id": "a4468c08",
   "metadata": {},
   "outputs": [
    {
     "data": {
      "text/plain": [
       "4"
      ]
     },
     "execution_count": 9,
     "metadata": {},
     "output_type": "execute_result"
    }
   ],
   "source": [
    "a[0] + a[2]"
   ]
  },
  {
   "cell_type": "code",
   "execution_count": 10,
   "id": "66dfe13c",
   "metadata": {},
   "outputs": [
    {
     "data": {
      "text/plain": [
       "3"
      ]
     },
     "execution_count": 10,
     "metadata": {},
     "output_type": "execute_result"
    }
   ],
   "source": [
    "a[-1]"
   ]
  },
  {
   "cell_type": "code",
   "execution_count": 11,
   "id": "99e4578c",
   "metadata": {},
   "outputs": [],
   "source": [
    "a = [1,2,3,['a','b','c']]"
   ]
  },
  {
   "cell_type": "code",
   "execution_count": 12,
   "id": "a2d6cf53",
   "metadata": {},
   "outputs": [
    {
     "data": {
      "text/plain": [
       "1"
      ]
     },
     "execution_count": 12,
     "metadata": {},
     "output_type": "execute_result"
    }
   ],
   "source": [
    "a[0]"
   ]
  },
  {
   "cell_type": "code",
   "execution_count": 13,
   "id": "9ccc29da",
   "metadata": {},
   "outputs": [
    {
     "data": {
      "text/plain": [
       "['a', 'b', 'c']"
      ]
     },
     "execution_count": 13,
     "metadata": {},
     "output_type": "execute_result"
    }
   ],
   "source": [
    "a[-1]"
   ]
  },
  {
   "cell_type": "code",
   "execution_count": 14,
   "id": "b327f4d9",
   "metadata": {},
   "outputs": [
    {
     "data": {
      "text/plain": [
       "['a', 'b', 'c']"
      ]
     },
     "execution_count": 14,
     "metadata": {},
     "output_type": "execute_result"
    }
   ],
   "source": [
    "a[3]"
   ]
  },
  {
   "cell_type": "code",
   "execution_count": 15,
   "id": "a159d085",
   "metadata": {},
   "outputs": [
    {
     "data": {
      "text/plain": [
       "'a'"
      ]
     },
     "execution_count": 15,
     "metadata": {},
     "output_type": "execute_result"
    }
   ],
   "source": [
    "a[-1][0]"
   ]
  },
  {
   "cell_type": "code",
   "execution_count": 16,
   "id": "4ac3589e",
   "metadata": {},
   "outputs": [
    {
     "data": {
      "text/plain": [
       "'b'"
      ]
     },
     "execution_count": 16,
     "metadata": {},
     "output_type": "execute_result"
    }
   ],
   "source": [
    "a[-1][1]"
   ]
  },
  {
   "cell_type": "code",
   "execution_count": 17,
   "id": "4a6ed916",
   "metadata": {},
   "outputs": [
    {
     "data": {
      "text/plain": [
       "'c'"
      ]
     },
     "execution_count": 17,
     "metadata": {},
     "output_type": "execute_result"
    }
   ],
   "source": [
    "a[-1][2]"
   ]
  },
  {
   "cell_type": "code",
   "execution_count": 18,
   "id": "c56ac8a8",
   "metadata": {},
   "outputs": [],
   "source": [
    "#삼중리스트의 인덱싱 \n",
    "a = [1, 2, ['a', 'b', ['Life', 'is']]]"
   ]
  },
  {
   "cell_type": "code",
   "execution_count": 19,
   "id": "ddeb206c",
   "metadata": {},
   "outputs": [
    {
     "data": {
      "text/plain": [
       "'Life'"
      ]
     },
     "execution_count": 19,
     "metadata": {},
     "output_type": "execute_result"
    }
   ],
   "source": [
    "a[2][2][0]"
   ]
  },
  {
   "cell_type": "code",
   "execution_count": 20,
   "id": "d532a908",
   "metadata": {},
   "outputs": [
    {
     "data": {
      "text/plain": [
       "3"
      ]
     },
     "execution_count": 20,
     "metadata": {},
     "output_type": "execute_result"
    }
   ],
   "source": [
    "len(a)"
   ]
  },
  {
   "cell_type": "markdown",
   "id": "27ae03bb",
   "metadata": {},
   "source": [
    "# 슬라이싱"
   ]
  },
  {
   "cell_type": "code",
   "execution_count": 21,
   "id": "8eb8ac22",
   "metadata": {},
   "outputs": [
    {
     "data": {
      "text/plain": [
       "[1, 2]"
      ]
     },
     "execution_count": 21,
     "metadata": {},
     "output_type": "execute_result"
    }
   ],
   "source": [
    "a = [1,2,3,4,5]\n",
    "a[0:2]"
   ]
  },
  {
   "cell_type": "code",
   "execution_count": 22,
   "id": "846be8e7",
   "metadata": {},
   "outputs": [
    {
     "data": {
      "text/plain": [
       "'12'"
      ]
     },
     "execution_count": 22,
     "metadata": {},
     "output_type": "execute_result"
    }
   ],
   "source": [
    "a = '12345'\n",
    "a[0:2]"
   ]
  },
  {
   "cell_type": "code",
   "execution_count": 23,
   "id": "cbcffd0f",
   "metadata": {},
   "outputs": [
    {
     "data": {
      "text/plain": [
       "[1, 2]"
      ]
     },
     "execution_count": 23,
     "metadata": {},
     "output_type": "execute_result"
    }
   ],
   "source": [
    "a = [1,2,3,4,5]\n",
    "b = a[:2]\n",
    "c= a[2:]\n",
    "b"
   ]
  },
  {
   "cell_type": "code",
   "execution_count": 24,
   "id": "26e637c1",
   "metadata": {},
   "outputs": [
    {
     "data": {
      "text/plain": [
       "[3, 4, 5]"
      ]
     },
     "execution_count": 24,
     "metadata": {},
     "output_type": "execute_result"
    }
   ],
   "source": [
    "c"
   ]
  },
  {
   "cell_type": "code",
   "execution_count": 25,
   "id": "38ade504",
   "metadata": {},
   "outputs": [
    {
     "data": {
      "text/plain": [
       "[3, ['a', 'b', 'c'], 4]"
      ]
     },
     "execution_count": 25,
     "metadata": {},
     "output_type": "execute_result"
    }
   ],
   "source": [
    "#중첩된 리스트에서 슬라이싱하기 - 리스트 안에 리스트 -> 중첩\n",
    "a = [1, 2, 3, ['a', 'b', 'c'], 4, 5]\n",
    "a[2:5]"
   ]
  },
  {
   "cell_type": "code",
   "execution_count": 26,
   "id": "af68dae7",
   "metadata": {},
   "outputs": [
    {
     "data": {
      "text/plain": [
       "['a', 'b']"
      ]
     },
     "execution_count": 26,
     "metadata": {},
     "output_type": "execute_result"
    }
   ],
   "source": [
    "a[3][:2]\n",
    "['a', 'b']"
   ]
  },
  {
   "cell_type": "code",
   "execution_count": 35,
   "id": "08072b2f",
   "metadata": {},
   "outputs": [],
   "source": [
    "# 초보자가 범하기 쉬운 리스트 연산 오류"
   ]
  },
  {
   "cell_type": "code",
   "execution_count": 36,
   "id": "d4e3edd3",
   "metadata": {},
   "outputs": [
    {
     "ename": "TypeError",
     "evalue": "unsupported operand type(s) for +: 'int' and 'str'",
     "output_type": "error",
     "traceback": [
      "\u001b[1;31m---------------------------------------------------------------------------\u001b[0m",
      "\u001b[1;31mTypeError\u001b[0m                                 Traceback (most recent call last)",
      "Cell \u001b[1;32mIn[36], line 2\u001b[0m\n\u001b[0;32m      1\u001b[0m a \u001b[38;5;241m=\u001b[39m [\u001b[38;5;241m1\u001b[39m, \u001b[38;5;241m2\u001b[39m, \u001b[38;5;241m3\u001b[39m]\n\u001b[1;32m----> 2\u001b[0m a[\u001b[38;5;241m2\u001b[39m] \u001b[38;5;241m+\u001b[39m \u001b[38;5;124m\"\u001b[39m\u001b[38;5;124mhi\u001b[39m\u001b[38;5;124m\"\u001b[39m\n",
      "\u001b[1;31mTypeError\u001b[0m: unsupported operand type(s) for +: 'int' and 'str'"
     ]
    }
   ],
   "source": [
    "a = [1, 2, 3] int+str X str+str\n",
    "a[2] + \"hi\""
   ]
  },
  {
   "cell_type": "code",
   "execution_count": 37,
   "id": "af64ddfb",
   "metadata": {},
   "outputs": [
    {
     "data": {
      "text/plain": [
       "'3hi'"
      ]
     },
     "execution_count": 37,
     "metadata": {},
     "output_type": "execute_result"
    }
   ],
   "source": [
    "str(a[2]) + \"hi\""
   ]
  },
  {
   "cell_type": "markdown",
   "id": "4e92a8c0",
   "metadata": {},
   "source": [
    "a[2]에 저장된 값은 3이라는 정수인데 \"hi\"는 문자열이다. 정수와 문자열은 당연히 서로 더할 수 없기 때문에 오류가 발생한 것이다.\n",
    "\n",
    "만약 숫자와 문자열을 더해서 '3hi'를 만들고 싶다면 다음처럼 숫자 3을 문자 '3'으로 바꾸어야 한다."
   ]
  },
  {
   "cell_type": "markdown",
   "id": "f8276246",
   "metadata": {},
   "source": [
    "# del로 리스트 요소 삭제하기"
   ]
  },
  {
   "cell_type": "code",
   "execution_count": 27,
   "id": "4c007d2c",
   "metadata": {},
   "outputs": [],
   "source": [
    "a = [1,2,3]"
   ]
  },
  {
   "cell_type": "code",
   "execution_count": 28,
   "id": "22cee122",
   "metadata": {},
   "outputs": [],
   "source": [
    "del a [1]"
   ]
  },
  {
   "cell_type": "code",
   "execution_count": 29,
   "id": "88890f32",
   "metadata": {},
   "outputs": [
    {
     "data": {
      "text/plain": [
       "[1, 3]"
      ]
     },
     "execution_count": 29,
     "metadata": {},
     "output_type": "execute_result"
    }
   ],
   "source": [
    "a"
   ]
  },
  {
   "cell_type": "code",
   "execution_count": 30,
   "id": "25959064",
   "metadata": {},
   "outputs": [],
   "source": [
    "a = [1,2,3,4,5]\n",
    "del a[2:]"
   ]
  },
  {
   "cell_type": "code",
   "execution_count": 31,
   "id": "7fc2bbec",
   "metadata": {},
   "outputs": [
    {
     "data": {
      "text/plain": [
       "[1, 2]"
      ]
     },
     "execution_count": 31,
     "metadata": {},
     "output_type": "execute_result"
    }
   ],
   "source": [
    "a"
   ]
  },
  {
   "cell_type": "markdown",
   "id": "ab0d381e",
   "metadata": {},
   "source": [
    "# 리스트 관련 함수"
   ]
  },
  {
   "cell_type": "markdown",
   "id": "febb141b",
   "metadata": {},
   "source": [
    "# 리스트 요소 추가 append"
   ]
  },
  {
   "cell_type": "code",
   "execution_count": 33,
   "id": "e53c5d6d",
   "metadata": {},
   "outputs": [
    {
     "data": {
      "text/plain": [
       "[1, 2, 3]"
      ]
     },
     "execution_count": 33,
     "metadata": {},
     "output_type": "execute_result"
    }
   ],
   "source": [
    "a = [1,2,3]\n",
    "a"
   ]
  },
  {
   "cell_type": "code",
   "execution_count": 34,
   "id": "8b593159",
   "metadata": {},
   "outputs": [
    {
     "data": {
      "text/plain": [
       "[1, 2, 3, 4]"
      ]
     },
     "execution_count": 34,
     "metadata": {},
     "output_type": "execute_result"
    }
   ],
   "source": [
    "a.append(4)\n",
    "a"
   ]
  },
  {
   "cell_type": "markdown",
   "id": "5676ea44",
   "metadata": {},
   "source": [
    "# 리스트 정렬 sort"
   ]
  },
  {
   "cell_type": "code",
   "execution_count": 39,
   "id": "5bcaa407",
   "metadata": {},
   "outputs": [
    {
     "data": {
      "text/plain": [
       "[1, 2, 3, 4]"
      ]
     },
     "execution_count": 39,
     "metadata": {},
     "output_type": "execute_result"
    }
   ],
   "source": [
    "a = [1,4,3,2] # 오름차순\n",
    "a.sort()\n",
    "a"
   ]
  },
  {
   "cell_type": "code",
   "execution_count": 36,
   "id": "b0e8c9ca",
   "metadata": {},
   "outputs": [],
   "source": [
    "a.sort?"
   ]
  },
  {
   "cell_type": "code",
   "execution_count": 39,
   "id": "065b461e",
   "metadata": {},
   "outputs": [
    {
     "data": {
      "text/plain": [
       "[4, 3, 2, 1]"
      ]
     },
     "execution_count": 39,
     "metadata": {},
     "output_type": "execute_result"
    }
   ],
   "source": [
    "a.sort(reverse=True) #내림차순\n",
    "a"
   ]
  },
  {
   "cell_type": "markdown",
   "id": "fe5ffa8e",
   "metadata": {},
   "source": [
    "# 리스트 뒤집기 reverse"
   ]
  },
  {
   "cell_type": "code",
   "execution_count": 40,
   "id": "b14f88d7",
   "metadata": {},
   "outputs": [
    {
     "data": {
      "text/plain": [
       "['b', 'c', 'a']"
      ]
     },
     "execution_count": 40,
     "metadata": {},
     "output_type": "execute_result"
    }
   ],
   "source": [
    "a = ['a','c','b'] \n",
    "a.reverse()\n",
    "a"
   ]
  },
  {
   "cell_type": "markdown",
   "id": "71232488",
   "metadata": {},
   "source": [
    "# 인덱스 반환 index"
   ]
  },
  {
   "cell_type": "code",
   "execution_count": 41,
   "id": "db8dd0de",
   "metadata": {},
   "outputs": [
    {
     "data": {
      "text/plain": [
       "2"
      ]
     },
     "execution_count": 41,
     "metadata": {},
     "output_type": "execute_result"
    }
   ],
   "source": [
    "a = [1,2,3]\n",
    "a.index(3)"
   ]
  },
  {
   "cell_type": "code",
   "execution_count": 42,
   "id": "a877fa8e",
   "metadata": {},
   "outputs": [
    {
     "ename": "ValueError",
     "evalue": "0 is not in list",
     "output_type": "error",
     "traceback": [
      "\u001b[1;31m---------------------------------------------------------------------------\u001b[0m",
      "\u001b[1;31mValueError\u001b[0m                                Traceback (most recent call last)",
      "Cell \u001b[1;32mIn[42], line 1\u001b[0m\n\u001b[1;32m----> 1\u001b[0m a\u001b[38;5;241m.\u001b[39mindex(\u001b[38;5;241m0\u001b[39m)\n",
      "\u001b[1;31mValueError\u001b[0m: 0 is not in list"
     ]
    }
   ],
   "source": [
    "a.index(0)  # index() vs find()  인덱스는 없으면 에러, find는 에러X"
   ]
  },
  {
   "cell_type": "markdown",
   "id": "62e2ffb7",
   "metadata": {},
   "source": [
    "# 리스트 요소 삽입 insert"
   ]
  },
  {
   "cell_type": "code",
   "execution_count": 44,
   "id": "d43c03cf",
   "metadata": {},
   "outputs": [
    {
     "data": {
      "text/plain": [
       "[4, 1, 2, 3]"
      ]
     },
     "execution_count": 44,
     "metadata": {},
     "output_type": "execute_result"
    }
   ],
   "source": [
    "#insert (a,b)  a위치에 b를 삽입한다\n",
    "a = [1,2,3]\n",
    "a.insert(0,4)\n",
    "a"
   ]
  },
  {
   "cell_type": "code",
   "execution_count": 45,
   "id": "b6cf32c9",
   "metadata": {},
   "outputs": [],
   "source": [
    "a.insert?"
   ]
  },
  {
   "cell_type": "code",
   "execution_count": 46,
   "id": "abf6c869",
   "metadata": {},
   "outputs": [
    {
     "name": "stdout",
     "output_type": "stream",
     "text": [
      "Help on built-in function insert:\n",
      "\n",
      "insert(index, object, /) method of builtins.list instance\n",
      "    Insert object before index.\n",
      "\n"
     ]
    }
   ],
   "source": [
    "help(a.insert)"
   ]
  },
  {
   "cell_type": "markdown",
   "id": "bd143313",
   "metadata": {},
   "source": [
    "# remove"
   ]
  },
  {
   "cell_type": "code",
   "execution_count": 47,
   "id": "8bdae0de",
   "metadata": {},
   "outputs": [],
   "source": [
    "# remove(x)는 리스트에서 첫 번째로 나오는 x를 삭제하는 함수\n",
    "a = [1,2,3,1,2,3]\n",
    "a.remove(3)"
   ]
  },
  {
   "cell_type": "code",
   "execution_count": 48,
   "id": "614488ae",
   "metadata": {},
   "outputs": [
    {
     "data": {
      "text/plain": [
       "[1, 2, 1, 2, 3]"
      ]
     },
     "execution_count": 48,
     "metadata": {},
     "output_type": "execute_result"
    }
   ],
   "source": [
    "a"
   ]
  },
  {
   "cell_type": "code",
   "execution_count": 49,
   "id": "3caa607f",
   "metadata": {},
   "outputs": [
    {
     "data": {
      "text/plain": [
       "[1, 2, 1, 2]"
      ]
     },
     "execution_count": 49,
     "metadata": {},
     "output_type": "execute_result"
    }
   ],
   "source": [
    "a.remove(3)\n",
    "a"
   ]
  },
  {
   "cell_type": "code",
   "execution_count": null,
   "id": "bb28455e",
   "metadata": {},
   "outputs": [],
   "source": [
    "#문자열은 수정이 안된다.\n",
    "#리스트형은 수정이 된다"
   ]
  },
  {
   "cell_type": "markdown",
   "id": "30fa021f",
   "metadata": {},
   "source": [
    "# pop()\n",
    "리스트의 맨 마지막 요소를 삭제한다\n",
    "# pop(X)\n",
    "리스트의 X번째 요소를 삭제한다"
   ]
  },
  {
   "cell_type": "code",
   "execution_count": 40,
   "id": "91b449f6",
   "metadata": {},
   "outputs": [
    {
     "data": {
      "text/plain": [
       "3"
      ]
     },
     "execution_count": 40,
     "metadata": {},
     "output_type": "execute_result"
    }
   ],
   "source": [
    "\n",
    "a = [1,2,3]\n",
    "a.pop()"
   ]
  },
  {
   "cell_type": "code",
   "execution_count": 41,
   "id": "a716dd94",
   "metadata": {},
   "outputs": [
    {
     "data": {
      "text/plain": [
       "[1, 2]"
      ]
     },
     "execution_count": 41,
     "metadata": {},
     "output_type": "execute_result"
    }
   ],
   "source": [
    "a"
   ]
  },
  {
   "cell_type": "code",
   "execution_count": 51,
   "id": "7fc84b78",
   "metadata": {},
   "outputs": [],
   "source": [
    "a.pop?"
   ]
  },
  {
   "cell_type": "markdown",
   "id": "b498b4cd",
   "metadata": {},
   "source": [
    "# count(X)\n",
    "리스트에 포함된 요소 X의 개수 세기"
   ]
  },
  {
   "cell_type": "code",
   "execution_count": 52,
   "id": "c0f0a82e",
   "metadata": {},
   "outputs": [
    {
     "data": {
      "text/plain": [
       "2"
      ]
     },
     "execution_count": 52,
     "metadata": {},
     "output_type": "execute_result"
    }
   ],
   "source": [
    "a = [1,2,3,1]\n",
    "a.count(1)"
   ]
  },
  {
   "cell_type": "markdown",
   "id": "a5e530d5",
   "metadata": {},
   "source": [
    "# extend(X)\n",
    "x에는 리스트만 올 수 있다"
   ]
  },
  {
   "cell_type": "code",
   "execution_count": 53,
   "id": "a1a91e26",
   "metadata": {},
   "outputs": [
    {
     "data": {
      "text/plain": [
       "[1, 2, 3, 4, 5]"
      ]
     },
     "execution_count": 53,
     "metadata": {},
     "output_type": "execute_result"
    }
   ],
   "source": [
    "a = [1,2,3]\n",
    "a.extend([4,5])\n",
    "a"
   ]
  },
  {
   "cell_type": "code",
   "execution_count": 55,
   "id": "2f84a804",
   "metadata": {},
   "outputs": [
    {
     "data": {
      "text/plain": [
       "[1, 2, 3, 4, 5, 6, 7, 6, 7]"
      ]
     },
     "execution_count": 55,
     "metadata": {},
     "output_type": "execute_result"
    }
   ],
   "source": [
    "b=[6,7]\n",
    "a.extend(b)\n",
    "a"
   ]
  },
  {
   "cell_type": "code",
   "execution_count": 56,
   "id": "b5a7bc0b",
   "metadata": {},
   "outputs": [
    {
     "data": {
      "text/plain": [
       "[1, 2, 3, 4, 5, 6, 7, 6, 7, 4, 5]"
      ]
     },
     "execution_count": 56,
     "metadata": {},
     "output_type": "execute_result"
    }
   ],
   "source": [
    "a += [4,5] # 더하고 넣어줘\n",
    "a"
   ]
  },
  {
   "cell_type": "code",
   "execution_count": 57,
   "id": "de8b222e",
   "metadata": {},
   "outputs": [
    {
     "data": {
      "text/plain": [
       "[1, 2, 3, 4, 5, 6, 7, 6, 7, 4, 5, 9, 9]"
      ]
     },
     "execution_count": 57,
     "metadata": {},
     "output_type": "execute_result"
    }
   ],
   "source": [
    "a = a + [9,9]\n",
    "a"
   ]
  },
  {
   "cell_type": "markdown",
   "id": "ae256dd3",
   "metadata": {},
   "source": [
    "# 튜플 객체"
   ]
  },
  {
   "cell_type": "code",
   "execution_count": null,
   "id": "91095f05",
   "metadata": {},
   "outputs": [],
   "source": [
    "# 리스트 [] 튜플 ()"
   ]
  },
  {
   "cell_type": "code",
   "execution_count": 58,
   "id": "8039ca9b",
   "metadata": {},
   "outputs": [
    {
     "data": {
      "text/plain": [
       "((), (1,), (1, 2, 3), (1, 2, 3), ('a', 'b', ('ab', 'cd')))"
      ]
     },
     "execution_count": 58,
     "metadata": {},
     "output_type": "execute_result"
    }
   ],
   "source": [
    "t1 = ()\n",
    "t2 = (1,)\n",
    "t3 = (1, 2, 3)\n",
    "t4 = 1, 2, 3\n",
    "t5 = ('a', 'b', ('ab', 'cd'))\n",
    "t1,t2,t3,t4,t5"
   ]
  },
  {
   "cell_type": "code",
   "execution_count": 59,
   "id": "4b5aadfd",
   "metadata": {},
   "outputs": [
    {
     "data": {
      "text/plain": [
       "tuple"
      ]
     },
     "execution_count": 59,
     "metadata": {},
     "output_type": "execute_result"
    }
   ],
   "source": [
    "type(t1)"
   ]
  },
  {
   "cell_type": "code",
   "execution_count": 60,
   "id": "6dcce8b6",
   "metadata": {},
   "outputs": [
    {
     "data": {
      "text/plain": [
       "(int, tuple)"
      ]
     },
     "execution_count": 60,
     "metadata": {},
     "output_type": "execute_result"
    }
   ],
   "source": [
    "type((1)),type((1,))"
   ]
  },
  {
   "cell_type": "markdown",
   "id": "eeb3758d",
   "metadata": {},
   "source": [
    "# 튜플 요소 삭제/변경 시도"
   ]
  },
  {
   "cell_type": "markdown",
   "id": "48144bc7",
   "metadata": {},
   "source": [
    "리스트는 요솟값의 생성, 삭제, 수정이 가능하지만, \n",
    "튜플은 요솟값을 바꿀 수 없다"
   ]
  },
  {
   "cell_type": "markdown",
   "id": "cda71659",
   "metadata": {},
   "source": [
    "리스트 [], 튜플 ()"
   ]
  },
  {
   "cell_type": "code",
   "execution_count": 61,
   "id": "1126fb84",
   "metadata": {},
   "outputs": [
    {
     "ename": "TypeError",
     "evalue": "'tuple' object doesn't support item deletion",
     "output_type": "error",
     "traceback": [
      "\u001b[1;31m---------------------------------------------------------------------------\u001b[0m",
      "\u001b[1;31mTypeError\u001b[0m                                 Traceback (most recent call last)",
      "Cell \u001b[1;32mIn[61], line 2\u001b[0m\n\u001b[0;32m      1\u001b[0m t1 \u001b[38;5;241m=\u001b[39m (\u001b[38;5;241m1\u001b[39m, \u001b[38;5;241m2\u001b[39m, \u001b[38;5;124m'\u001b[39m\u001b[38;5;124ma\u001b[39m\u001b[38;5;124m'\u001b[39m, \u001b[38;5;124m'\u001b[39m\u001b[38;5;124mb\u001b[39m\u001b[38;5;124m'\u001b[39m)\n\u001b[1;32m----> 2\u001b[0m \u001b[38;5;28;01mdel\u001b[39;00m t1[\u001b[38;5;241m0\u001b[39m]\n",
      "\u001b[1;31mTypeError\u001b[0m: 'tuple' object doesn't support item deletion"
     ]
    }
   ],
   "source": [
    "t1 = (1, 2, 'a', 'b')\n",
    "del t1[0]"
   ]
  },
  {
   "cell_type": "code",
   "execution_count": 62,
   "id": "516ea840",
   "metadata": {},
   "outputs": [
    {
     "ename": "TypeError",
     "evalue": "'tuple' object does not support item assignment",
     "output_type": "error",
     "traceback": [
      "\u001b[1;31m---------------------------------------------------------------------------\u001b[0m",
      "\u001b[1;31mTypeError\u001b[0m                                 Traceback (most recent call last)",
      "Cell \u001b[1;32mIn[62], line 2\u001b[0m\n\u001b[0;32m      1\u001b[0m t1 \u001b[38;5;241m=\u001b[39m (\u001b[38;5;241m1\u001b[39m, \u001b[38;5;241m2\u001b[39m, \u001b[38;5;124m'\u001b[39m\u001b[38;5;124ma\u001b[39m\u001b[38;5;124m'\u001b[39m, \u001b[38;5;124m'\u001b[39m\u001b[38;5;124mb\u001b[39m\u001b[38;5;124m'\u001b[39m)\n\u001b[1;32m----> 2\u001b[0m t1[\u001b[38;5;241m0\u001b[39m] \u001b[38;5;241m=\u001b[39m \u001b[38;5;124m'\u001b[39m\u001b[38;5;124mc\u001b[39m\u001b[38;5;124m'\u001b[39m\n",
      "\u001b[1;31mTypeError\u001b[0m: 'tuple' object does not support item assignment"
     ]
    }
   ],
   "source": [
    " t1 = (1, 2, 'a', 'b')\n",
    "t1[0] = 'c'"
   ]
  },
  {
   "cell_type": "markdown",
   "id": "84770fa9",
   "metadata": {},
   "source": [
    "# 튜플 다루기"
   ]
  },
  {
   "cell_type": "code",
   "execution_count": null,
   "id": "369e24c5",
   "metadata": {},
   "outputs": [],
   "source": [
    "#인덱싱\n",
    "t1 = (1, 2, 'a', 'b')\n",
    "t1[0]"
   ]
  },
  {
   "cell_type": "code",
   "execution_count": 63,
   "id": "e6cb1ba4",
   "metadata": {},
   "outputs": [
    {
     "data": {
      "text/plain": [
       "'b'"
      ]
     },
     "execution_count": 63,
     "metadata": {},
     "output_type": "execute_result"
    }
   ],
   "source": [
    "t1[3]"
   ]
  },
  {
   "cell_type": "code",
   "execution_count": 64,
   "id": "a5cdf29e",
   "metadata": {},
   "outputs": [
    {
     "data": {
      "text/plain": [
       "(2, 'a', 'b')"
      ]
     },
     "execution_count": 64,
     "metadata": {},
     "output_type": "execute_result"
    }
   ],
   "source": [
    "#슬라이싱\n",
    "t1 = (1, 2, 'a', 'b')\n",
    "t1[1:]\n"
   ]
  },
  {
   "cell_type": "code",
   "execution_count": 65,
   "id": "4b220f53",
   "metadata": {},
   "outputs": [
    {
     "data": {
      "text/plain": [
       "(1, 2, 'a', 'b', 3, 4)"
      ]
     },
     "execution_count": 65,
     "metadata": {},
     "output_type": "execute_result"
    }
   ],
   "source": [
    "#튜플 더하기\n",
    "t1 = (1, 2, 'a', 'b')\n",
    "t2 = (3, 4)\n",
    "t3 = t1 + t2\n",
    "t3\n"
   ]
  },
  {
   "cell_type": "code",
   "execution_count": 66,
   "id": "b675c079",
   "metadata": {},
   "outputs": [
    {
     "data": {
      "text/plain": [
       "(3, 4, 3, 4, 3, 4)"
      ]
     },
     "execution_count": 66,
     "metadata": {},
     "output_type": "execute_result"
    }
   ],
   "source": [
    "# 튜플 곱하기\n",
    "t2 = (3, 4)\n",
    "t3 = t2 * 3\n",
    "t3"
   ]
  },
  {
   "cell_type": "markdown",
   "id": "19ea2759",
   "metadata": {},
   "source": [
    "# 튜플 길이 구하기"
   ]
  },
  {
   "cell_type": "code",
   "execution_count": 68,
   "id": "de3e7886",
   "metadata": {},
   "outputs": [],
   "source": [
    "# 데이터베이스 만들 때 튜플 쓰임\n",
    "# 튜플은 요솟값을 변경할수 없기 때문에 \n",
    "# sort, insert, remove, pop과 같은 내장 함수가 없다."
   ]
  },
  {
   "cell_type": "code",
   "execution_count": 69,
   "id": "13085a44",
   "metadata": {},
   "outputs": [
    {
     "data": {
      "text/plain": [
       "4"
      ]
     },
     "execution_count": 69,
     "metadata": {},
     "output_type": "execute_result"
    }
   ],
   "source": [
    "t1 = (1, 2, 'a', 'b')\n",
    "len(t1)"
   ]
  },
  {
   "cell_type": "markdown",
   "id": "80d42114",
   "metadata": {},
   "source": [
    "# 딕셔너리 자료형"
   ]
  },
  {
   "cell_type": "code",
   "execution_count": null,
   "id": "0c2bc1f9",
   "metadata": {},
   "outputs": [],
   "source": [
    "# 대응관계를 나타내는 딕셔너리 자료형이다\n",
    "# key와 value를 한 쌍으로 가짐"
   ]
  },
  {
   "cell_type": "code",
   "execution_count": 76,
   "id": "c7420c0b",
   "metadata": {},
   "outputs": [],
   "source": [
    " dic = {'name': 'pey', 'phone': '010-9999-1234', 'birth': '1118'}"
   ]
  },
  {
   "cell_type": "code",
   "execution_count": 77,
   "id": "17427e3d",
   "metadata": {},
   "outputs": [
    {
     "data": {
      "text/plain": [
       "{'name': 'pey', 'phone': '010-9999-1234', 'birth': '1118'}"
      ]
     },
     "execution_count": 77,
     "metadata": {},
     "output_type": "execute_result"
    }
   ],
   "source": [
    "dic"
   ]
  },
  {
   "cell_type": "code",
   "execution_count": 78,
   "id": "fe9b4ca9",
   "metadata": {},
   "outputs": [],
   "source": [
    "a = {1: 'hi'}"
   ]
  },
  {
   "cell_type": "code",
   "execution_count": 80,
   "id": "7e772ee1",
   "metadata": {},
   "outputs": [
    {
     "data": {
      "text/plain": [
       "{'a': [1, 2, 3]}"
      ]
     },
     "execution_count": 80,
     "metadata": {},
     "output_type": "execute_result"
    }
   ],
   "source": [
    "a = {'a': [1, 2, 3]}\n",
    "a"
   ]
  },
  {
   "cell_type": "markdown",
   "id": "8eb78b76",
   "metadata": {},
   "source": [
    "# 딕셔너리 쌍 추가, 삭제하기"
   ]
  },
  {
   "cell_type": "code",
   "execution_count": 70,
   "id": "afb964e3",
   "metadata": {},
   "outputs": [
    {
     "data": {
      "text/plain": [
       "{1: 'a', 2: 'b'}"
      ]
     },
     "execution_count": 70,
     "metadata": {},
     "output_type": "execute_result"
    }
   ],
   "source": [
    "a = {1: 'a'}\n",
    "a[2] = 'b'\n",
    "a"
   ]
  },
  {
   "cell_type": "code",
   "execution_count": 71,
   "id": "796f7853",
   "metadata": {},
   "outputs": [
    {
     "data": {
      "text/plain": [
       "{1: 'a', 2: 'b', 'name': 'pey'}"
      ]
     },
     "execution_count": 71,
     "metadata": {},
     "output_type": "execute_result"
    }
   ],
   "source": [
    " a['name'] = 'pey'\n",
    "a #딕셔너리는 뮤터블 객체"
   ]
  },
  {
   "cell_type": "code",
   "execution_count": 72,
   "id": "3dacc04d",
   "metadata": {},
   "outputs": [
    {
     "data": {
      "text/plain": [
       "{1: 'a', 2: 'b', 'name': 'pey', 3: [1, 2, 3]}"
      ]
     },
     "execution_count": 72,
     "metadata": {},
     "output_type": "execute_result"
    }
   ],
   "source": [
    " a[3] = [1, 2, 3]\n",
    "a"
   ]
  },
  {
   "cell_type": "markdown",
   "id": "4280aa61",
   "metadata": {},
   "source": [
    "# 딕셔너리 요소 삭제하기"
   ]
  },
  {
   "cell_type": "code",
   "execution_count": 73,
   "id": "53ca0dc5",
   "metadata": {},
   "outputs": [
    {
     "data": {
      "text/plain": [
       "{2: 'b', 'name': 'pey', 3: [1, 2, 3]}"
      ]
     },
     "execution_count": 73,
     "metadata": {},
     "output_type": "execute_result"
    }
   ],
   "source": [
    "del a[1]\n",
    "a"
   ]
  },
  {
   "cell_type": "markdown",
   "id": "72d830ec",
   "metadata": {},
   "source": [
    "# Key를 사용해 Value 얻기"
   ]
  },
  {
   "cell_type": "code",
   "execution_count": 74,
   "id": "68b5814c",
   "metadata": {},
   "outputs": [
    {
     "data": {
      "text/plain": [
       "10"
      ]
     },
     "execution_count": 74,
     "metadata": {},
     "output_type": "execute_result"
    }
   ],
   "source": [
    "grade = {'pey': 10, 'julliet': 99} #무조건 key로만 조회 가능 value는 NO\n",
    "grade['pey']"
   ]
  },
  {
   "cell_type": "code",
   "execution_count": 75,
   "id": "f07f3483",
   "metadata": {},
   "outputs": [
    {
     "data": {
      "text/plain": [
       "99"
      ]
     },
     "execution_count": 75,
     "metadata": {},
     "output_type": "execute_result"
    }
   ],
   "source": [
    "grade['julliet']"
   ]
  },
  {
   "cell_type": "code",
   "execution_count": 81,
   "id": "7fbf4745",
   "metadata": {},
   "outputs": [
    {
     "data": {
      "text/plain": [
       "('pey', '010-9999-1234', '1118')"
      ]
     },
     "execution_count": 81,
     "metadata": {},
     "output_type": "execute_result"
    }
   ],
   "source": [
    "dic = {'name':'pey', 'phone':'010-9999-1234', 'birth': '1118'}\n",
    "dic['name'],dic['phone'],dic['birth']"
   ]
  },
  {
   "cell_type": "markdown",
   "id": "edabce97",
   "metadata": {},
   "source": [
    "# 딕셔너리 주의사항\n",
    "\n",
    "딕셔너리에서 Key는 고유한 값이므로 중복되는 Key 값을 설정해 놓으면 하나를 제외한 나머지 것들이 모두 무시된다는 점에 주의해야 한다.    \n",
    "-> 중복된 key값 설정X"
   ]
  },
  {
   "cell_type": "code",
   "execution_count": 82,
   "id": "2b53b35a",
   "metadata": {},
   "outputs": [
    {
     "data": {
      "text/plain": [
       "{1: 'b'}"
      ]
     },
     "execution_count": 82,
     "metadata": {},
     "output_type": "execute_result"
    }
   ],
   "source": [
    "a = {1:'a', 1:'b'}\n",
    "a"
   ]
  },
  {
   "cell_type": "code",
   "execution_count": null,
   "id": "6ba07b5c",
   "metadata": {},
   "outputs": [],
   "source": [
    "# Key에 리스트는 쓸 수 없다 하지만 튜플은 Key로 쓸 수 있다."
   ]
  },
  {
   "cell_type": "code",
   "execution_count": 83,
   "id": "f405c1ea",
   "metadata": {},
   "outputs": [
    {
     "ename": "TypeError",
     "evalue": "unhashable type: 'list'",
     "output_type": "error",
     "traceback": [
      "\u001b[1;31m---------------------------------------------------------------------------\u001b[0m",
      "\u001b[1;31mTypeError\u001b[0m                                 Traceback (most recent call last)",
      "Cell \u001b[1;32mIn[83], line 1\u001b[0m\n\u001b[1;32m----> 1\u001b[0m a \u001b[38;5;241m=\u001b[39m {[\u001b[38;5;241m1\u001b[39m,\u001b[38;5;241m2\u001b[39m] : \u001b[38;5;124m'\u001b[39m\u001b[38;5;124mhi\u001b[39m\u001b[38;5;124m'\u001b[39m}\n",
      "\u001b[1;31mTypeError\u001b[0m: unhashable type: 'list'"
     ]
    }
   ],
   "source": [
    "a = {[1,2] : 'hi'} # 단일요소에 수정이 불가능해야함"
   ]
  },
  {
   "cell_type": "code",
   "execution_count": 44,
   "id": "3bbf5331",
   "metadata": {},
   "outputs": [
    {
     "data": {
      "text/plain": [
       "{(1, 2): 'hi'}"
      ]
     },
     "execution_count": 44,
     "metadata": {},
     "output_type": "execute_result"
    }
   ],
   "source": [
    "a = {(1,2) : 'hi'} \n",
    "a"
   ]
  },
  {
   "cell_type": "markdown",
   "id": "d6b58bc7",
   "metadata": {},
   "source": [
    "### 딕셔너리 관련함수"
   ]
  },
  {
   "cell_type": "code",
   "execution_count": 84,
   "id": "5d2ed699",
   "metadata": {},
   "outputs": [
    {
     "data": {
      "text/plain": [
       "(str, list, tuple, dict)"
      ]
     },
     "execution_count": 84,
     "metadata": {},
     "output_type": "execute_result"
    }
   ],
   "source": [
    "#keys\n",
    "a1 = 'str'\n",
    "a2 = [1,2,3]\n",
    "a3 = (1,)\n",
    "a4 = {1:'a'}\n",
    "type(a1),type(a2),type(a3),type(a4)"
   ]
  },
  {
   "cell_type": "code",
   "execution_count": 85,
   "id": "cc025871",
   "metadata": {},
   "outputs": [
    {
     "data": {
      "text/plain": [
       "dict_keys(['name', 'phone', 'birth'])"
      ]
     },
     "execution_count": 85,
     "metadata": {},
     "output_type": "execute_result"
    }
   ],
   "source": [
    "a = {'name': 'pey', 'phone': '010-9999-1234', 'birth': '1118'}\n",
    "a.keys()"
   ]
  },
  {
   "cell_type": "code",
   "execution_count": 87,
   "id": "c906a283",
   "metadata": {},
   "outputs": [
    {
     "name": "stdout",
     "output_type": "stream",
     "text": [
      "name\n",
      "phone\n",
      "birth\n"
     ]
    }
   ],
   "source": [
    "for k in a.keys():\n",
    "    print(k)"
   ]
  },
  {
   "cell_type": "code",
   "execution_count": 88,
   "id": "7a032a86",
   "metadata": {},
   "outputs": [
    {
     "data": {
      "text/plain": [
       "dict_values(['pey', '010-9999-1234', '1118'])"
      ]
     },
     "execution_count": 88,
     "metadata": {},
     "output_type": "execute_result"
    }
   ],
   "source": [
    "# values\n",
    "a.values()"
   ]
  },
  {
   "cell_type": "code",
   "execution_count": 89,
   "id": "8c73141a",
   "metadata": {},
   "outputs": [
    {
     "data": {
      "text/plain": [
       "dict_items([('name', 'pey'), ('phone', '010-9999-1234'), ('birth', '1118')])"
      ]
     },
     "execution_count": 89,
     "metadata": {},
     "output_type": "execute_result"
    }
   ],
   "source": [
    "# items - key&value모두 다\n",
    "a.items()"
   ]
  },
  {
   "cell_type": "code",
   "execution_count": 90,
   "id": "07968f6a",
   "metadata": {},
   "outputs": [],
   "source": [
    "# clear -삭제하기/ 잘 안함\n",
    "a.clear()"
   ]
  },
  {
   "cell_type": "code",
   "execution_count": 91,
   "id": "2e5b0a46",
   "metadata": {},
   "outputs": [
    {
     "data": {
      "text/plain": [
       "'pey'"
      ]
     },
     "execution_count": 91,
     "metadata": {},
     "output_type": "execute_result"
    }
   ],
   "source": [
    "# get key로 value추출\n",
    "a = {'name': 'pey', 'phone': '010-9999-1234', 'birth': '1118'}\n",
    "a.get('name')"
   ]
  },
  {
   "cell_type": "code",
   "execution_count": 92,
   "id": "3ba187e8",
   "metadata": {},
   "outputs": [
    {
     "data": {
      "text/plain": [
       "'pey'"
      ]
     },
     "execution_count": 92,
     "metadata": {},
     "output_type": "execute_result"
    }
   ],
   "source": [
    "a['name']"
   ]
  },
  {
   "cell_type": "code",
   "execution_count": 93,
   "id": "dfb973f1",
   "metadata": {},
   "outputs": [
    {
     "ename": "KeyError",
     "evalue": "'nokey'",
     "output_type": "error",
     "traceback": [
      "\u001b[1;31m---------------------------------------------------------------------------\u001b[0m",
      "\u001b[1;31mKeyError\u001b[0m                                  Traceback (most recent call last)",
      "Cell \u001b[1;32mIn[93], line 1\u001b[0m\n\u001b[1;32m----> 1\u001b[0m a[\u001b[38;5;124m'\u001b[39m\u001b[38;5;124mnokey\u001b[39m\u001b[38;5;124m'\u001b[39m]\n",
      "\u001b[1;31mKeyError\u001b[0m: 'nokey'"
     ]
    }
   ],
   "source": [
    "a['nokey'] #오류 발생"
   ]
  },
  {
   "cell_type": "code",
   "execution_count": 95,
   "id": "05b229ee",
   "metadata": {},
   "outputs": [
    {
     "data": {
      "text/plain": [
       "{'name': 'pey', 'phone': '010-9999-1234', 'birth': '1118'}"
      ]
     },
     "execution_count": 95,
     "metadata": {},
     "output_type": "execute_result"
    }
   ],
   "source": [
    "a.get('nokey') # None을 리턴한다\n",
    "a"
   ]
  },
  {
   "cell_type": "code",
   "execution_count": null,
   "id": "11525ed6",
   "metadata": {},
   "outputs": [],
   "source": [
    "# 해당 Key가 딕셔너리 안에 있는지 조사하기 - in"
   ]
  },
  {
   "cell_type": "code",
   "execution_count": 96,
   "id": "a0bffcf8",
   "metadata": {},
   "outputs": [
    {
     "data": {
      "text/plain": [
       "True"
      ]
     },
     "execution_count": 96,
     "metadata": {},
     "output_type": "execute_result"
    }
   ],
   "source": [
    "'name' in a "
   ]
  },
  {
   "cell_type": "code",
   "execution_count": 97,
   "id": "9b22153f",
   "metadata": {},
   "outputs": [
    {
     "data": {
      "text/plain": [
       "False"
      ]
     },
     "execution_count": 97,
     "metadata": {},
     "output_type": "execute_result"
    }
   ],
   "source": [
    "'email' in a"
   ]
  },
  {
   "cell_type": "code",
   "execution_count": null,
   "id": "2be92798",
   "metadata": {},
   "outputs": [],
   "source": [
    "#우리는 딕셔너리와 리스트 많이 씀"
   ]
  },
  {
   "cell_type": "markdown",
   "id": "489790da",
   "metadata": {},
   "source": [
    "# 집합자료형\n",
    "중복을 허용하지 않는다.\n",
    "순서가 없다(Unordered)"
   ]
  },
  {
   "cell_type": "code",
   "execution_count": 98,
   "id": "671662ea",
   "metadata": {},
   "outputs": [
    {
     "data": {
      "text/plain": [
       "({1, 2, 3}, set)"
      ]
     },
     "execution_count": 98,
     "metadata": {},
     "output_type": "execute_result"
    }
   ],
   "source": [
    "s1 = set([1,2,3])\n",
    "s1,type(s1)"
   ]
  },
  {
   "cell_type": "code",
   "execution_count": 99,
   "id": "3a2bc440",
   "metadata": {},
   "outputs": [
    {
     "data": {
      "text/plain": [
       "({'H', 'e', 'l', 'o'}, set)"
      ]
     },
     "execution_count": 99,
     "metadata": {},
     "output_type": "execute_result"
    }
   ],
   "source": [
    "s2 = set('Hello')\n",
    "s2,type(s2)"
   ]
  },
  {
   "cell_type": "code",
   "execution_count": null,
   "id": "717d1704",
   "metadata": {},
   "outputs": [],
   "source": [
    "# 딕셔너리, set 자료형은 순서가 없어 - 인덱싱 불가"
   ]
  },
  {
   "cell_type": "code",
   "execution_count": null,
   "id": "18507337",
   "metadata": {},
   "outputs": [],
   "source": [
    "# set은 중복 제거를 위한 필터링 목적으로 많이 쓰임"
   ]
  },
  {
   "cell_type": "code",
   "execution_count": 100,
   "id": "a8a0c87a",
   "metadata": {},
   "outputs": [
    {
     "data": {
      "text/plain": [
       "[1, 2, 3]"
      ]
     },
     "execution_count": 100,
     "metadata": {},
     "output_type": "execute_result"
    }
   ],
   "source": [
    "s1 = set([1, 2, 3])\n",
    "l1 = list(s1)\n",
    "l1"
   ]
  },
  {
   "cell_type": "markdown",
   "id": "ea82fb01",
   "metadata": {},
   "source": [
    "만약 set 자료형에 저장된 값을 인덱싱으로 접근하려면 다음과 같이 리스트나 튜플로 변환한 후에 해야 한다."
   ]
  },
  {
   "cell_type": "code",
   "execution_count": 101,
   "id": "156b4afe",
   "metadata": {},
   "outputs": [
    {
     "data": {
      "text/plain": [
       "((1, 2, 3), 1)"
      ]
     },
     "execution_count": 101,
     "metadata": {},
     "output_type": "execute_result"
    }
   ],
   "source": [
    "t1 = tuple(s1)\n",
    "t1,t1[0]"
   ]
  },
  {
   "cell_type": "markdown",
   "id": "9fbc94ee",
   "metadata": {},
   "source": [
    "# 교집합, 합집합, 차집합 구하기"
   ]
  },
  {
   "cell_type": "code",
   "execution_count": null,
   "id": "7370ec70",
   "metadata": {},
   "outputs": [],
   "source": [
    "#교집합"
   ]
  },
  {
   "cell_type": "code",
   "execution_count": 102,
   "id": "18e2dd63",
   "metadata": {},
   "outputs": [
    {
     "data": {
      "text/plain": [
       "{4, 5, 6}"
      ]
     },
     "execution_count": 102,
     "metadata": {},
     "output_type": "execute_result"
    }
   ],
   "source": [
    "s1 = set([1, 2, 3, 4, 5, 6])\n",
    "s2 = set([4, 5, 6, 7, 8, 9])\n",
    "s1 & s2"
   ]
  },
  {
   "cell_type": "code",
   "execution_count": 103,
   "id": "1cee20fe",
   "metadata": {},
   "outputs": [
    {
     "data": {
      "text/plain": [
       "{4, 5, 6}"
      ]
     },
     "execution_count": 103,
     "metadata": {},
     "output_type": "execute_result"
    }
   ],
   "source": [
    "s1.intersection(s2)"
   ]
  },
  {
   "cell_type": "code",
   "execution_count": null,
   "id": "7d53ba68",
   "metadata": {},
   "outputs": [],
   "source": [
    "#합집합"
   ]
  },
  {
   "cell_type": "code",
   "execution_count": 104,
   "id": "32a9f1f2",
   "metadata": {},
   "outputs": [
    {
     "data": {
      "text/plain": [
       "{1, 2, 3, 4, 5, 6, 7, 8, 9}"
      ]
     },
     "execution_count": 104,
     "metadata": {},
     "output_type": "execute_result"
    }
   ],
   "source": [
    "s1 | s2"
   ]
  },
  {
   "cell_type": "code",
   "execution_count": 105,
   "id": "507e810a",
   "metadata": {},
   "outputs": [
    {
     "data": {
      "text/plain": [
       "{1, 2, 3, 4, 5, 6, 7, 8, 9}"
      ]
     },
     "execution_count": 105,
     "metadata": {},
     "output_type": "execute_result"
    }
   ],
   "source": [
    "s1.union(s2)"
   ]
  },
  {
   "cell_type": "code",
   "execution_count": null,
   "id": "924fd549",
   "metadata": {},
   "outputs": [],
   "source": [
    "# 차집합"
   ]
  },
  {
   "cell_type": "code",
   "execution_count": 106,
   "id": "fabe6062",
   "metadata": {},
   "outputs": [
    {
     "data": {
      "text/plain": [
       "{1, 2, 3}"
      ]
     },
     "execution_count": 106,
     "metadata": {},
     "output_type": "execute_result"
    }
   ],
   "source": [
    "s1 - s2"
   ]
  },
  {
   "cell_type": "code",
   "execution_count": 107,
   "id": "efa2b8f3",
   "metadata": {},
   "outputs": [
    {
     "data": {
      "text/plain": [
       "{7, 8, 9}"
      ]
     },
     "execution_count": 107,
     "metadata": {},
     "output_type": "execute_result"
    }
   ],
   "source": [
    " s2 - s1"
   ]
  },
  {
   "cell_type": "code",
   "execution_count": 108,
   "id": "33b1389c",
   "metadata": {},
   "outputs": [
    {
     "data": {
      "text/plain": [
       "{1, 2, 3}"
      ]
     },
     "execution_count": 108,
     "metadata": {},
     "output_type": "execute_result"
    }
   ],
   "source": [
    " s1.difference(s2)"
   ]
  },
  {
   "cell_type": "code",
   "execution_count": 109,
   "id": "59584d79",
   "metadata": {},
   "outputs": [
    {
     "data": {
      "text/plain": [
       "{7, 8, 9}"
      ]
     },
     "execution_count": 109,
     "metadata": {},
     "output_type": "execute_result"
    }
   ],
   "source": [
    "s2.difference(s1)"
   ]
  },
  {
   "cell_type": "markdown",
   "id": "6cb47e47",
   "metadata": {},
   "source": [
    "# 집합 자료형 관련 함수"
   ]
  },
  {
   "cell_type": "code",
   "execution_count": 46,
   "id": "1d63d7cd",
   "metadata": {},
   "outputs": [
    {
     "data": {
      "text/plain": [
       "{1, 2, 3, 4}"
      ]
     },
     "execution_count": 46,
     "metadata": {},
     "output_type": "execute_result"
    }
   ],
   "source": [
    "# add 값 1개 추가하기\n",
    "s1 = set([1, 2, 3])\n",
    "s1.add(4)\n",
    "s1"
   ]
  },
  {
   "cell_type": "code",
   "execution_count": 110,
   "id": "4395ef29",
   "metadata": {},
   "outputs": [
    {
     "data": {
      "text/plain": [
       "{1, 2, 3, 4, 5, 6}"
      ]
     },
     "execution_count": 110,
     "metadata": {},
     "output_type": "execute_result"
    }
   ],
   "source": [
    "# update 값 여러개 추가하기\n",
    "s1 = set([1, 2, 3])\n",
    "s1.update([4, 5, 6])\n",
    "s1"
   ]
  },
  {
   "cell_type": "code",
   "execution_count": 111,
   "id": "a7d0496b",
   "metadata": {},
   "outputs": [
    {
     "data": {
      "text/plain": [
       "{1, 3}"
      ]
     },
     "execution_count": 111,
     "metadata": {},
     "output_type": "execute_result"
    }
   ],
   "source": [
    "# 특정값 제거하기 remove\n",
    "s1 = set([1, 2, 3])\n",
    "s1.remove(2)\n",
    "s1"
   ]
  },
  {
   "cell_type": "markdown",
   "id": "5fbacb59",
   "metadata": {},
   "source": [
    "# 불 자료형(논리)\n",
    "불(bool) 자료형이란 참(True)과 거짓(False)을 나타내는 자료형"
   ]
  },
  {
   "cell_type": "code",
   "execution_count": 113,
   "id": "6d1a9f35",
   "metadata": {},
   "outputs": [],
   "source": [
    "a= True\n",
    "b= False"
   ]
  },
  {
   "cell_type": "code",
   "execution_count": 114,
   "id": "71f46e77",
   "metadata": {},
   "outputs": [
    {
     "data": {
      "text/plain": [
       "(bool, bool)"
      ]
     },
     "execution_count": 114,
     "metadata": {},
     "output_type": "execute_result"
    }
   ],
   "source": [
    "type(a),type(b)"
   ]
  },
  {
   "cell_type": "code",
   "execution_count": 115,
   "id": "8b4c4aea",
   "metadata": {},
   "outputs": [
    {
     "data": {
      "text/plain": [
       "True"
      ]
     },
     "execution_count": 115,
     "metadata": {},
     "output_type": "execute_result"
    }
   ],
   "source": [
    "1 == 1"
   ]
  },
  {
   "cell_type": "code",
   "execution_count": 116,
   "id": "ff8075e3",
   "metadata": {},
   "outputs": [
    {
     "data": {
      "text/plain": [
       "True"
      ]
     },
     "execution_count": 116,
     "metadata": {},
     "output_type": "execute_result"
    }
   ],
   "source": [
    "2 > 1"
   ]
  },
  {
   "cell_type": "code",
   "execution_count": 117,
   "id": "e12e1737",
   "metadata": {},
   "outputs": [
    {
     "data": {
      "text/plain": [
       "False"
      ]
     },
     "execution_count": 117,
     "metadata": {},
     "output_type": "execute_result"
    }
   ],
   "source": [
    "2 < 1"
   ]
  },
  {
   "cell_type": "code",
   "execution_count": 118,
   "id": "519fc045",
   "metadata": {},
   "outputs": [
    {
     "data": {
      "text/plain": [
       "False"
      ]
     },
     "execution_count": 118,
     "metadata": {},
     "output_type": "execute_result"
    }
   ],
   "source": [
    "'python' == True"
   ]
  },
  {
   "cell_type": "code",
   "execution_count": 120,
   "id": "dc19ee4e",
   "metadata": {},
   "outputs": [
    {
     "name": "stdout",
     "output_type": "stream",
     "text": [
      "4\n",
      "3\n",
      "2\n",
      "1\n"
     ]
    }
   ],
   "source": [
    "a = [1, 2, 3, 4]\n",
    "while a:\n",
    "    print(a.pop())"
   ]
  },
  {
   "cell_type": "code",
   "execution_count": 121,
   "id": "25903d92",
   "metadata": {},
   "outputs": [
    {
     "name": "stdout",
     "output_type": "stream",
     "text": [
      "거짓\n"
     ]
    }
   ],
   "source": [
    "if []:\n",
    "    print(\"참\")\n",
    "else:\n",
    "    print(\"거짓\")"
   ]
  },
  {
   "cell_type": "code",
   "execution_count": 122,
   "id": "2bc7811a",
   "metadata": {},
   "outputs": [
    {
     "name": "stdout",
     "output_type": "stream",
     "text": [
      "참\n"
     ]
    }
   ],
   "source": [
    "if [1,2,3]:\n",
    "    print(\"참\")\n",
    "else:\n",
    "    print(\"거짓\") #값이 있으면 참"
   ]
  },
  {
   "cell_type": "markdown",
   "id": "56d258a6",
   "metadata": {},
   "source": [
    "# 불연산"
   ]
  },
  {
   "cell_type": "code",
   "execution_count": 125,
   "id": "8c72bc33",
   "metadata": {},
   "outputs": [
    {
     "name": "stderr",
     "output_type": "stream",
     "text": [
      "<>:1: SyntaxWarning: \"is\" with a literal. Did you mean \"==\"?\n",
      "<>:1: SyntaxWarning: \"is\" with a literal. Did you mean \"==\"?\n",
      "C:\\Users\\EST\\AppData\\Local\\Temp\\ipykernel_13028\\486934944.py:1: SyntaxWarning: \"is\" with a literal. Did you mean \"==\"?\n",
      "  'python' is True\n"
     ]
    },
    {
     "data": {
      "text/plain": [
       "False"
      ]
     },
     "execution_count": 125,
     "metadata": {},
     "output_type": "execute_result"
    }
   ],
   "source": [
    "'python' is True"
   ]
  },
  {
   "cell_type": "code",
   "execution_count": 126,
   "id": "3f42fde1",
   "metadata": {},
   "outputs": [
    {
     "data": {
      "text/plain": [
       "False"
      ]
     },
     "execution_count": 126,
     "metadata": {},
     "output_type": "execute_result"
    }
   ],
   "source": [
    "'python'== True"
   ]
  },
  {
   "cell_type": "code",
   "execution_count": 123,
   "id": "563e89c8",
   "metadata": {
    "scrolled": true
   },
   "outputs": [
    {
     "data": {
      "text/plain": [
       "True"
      ]
     },
     "execution_count": 123,
     "metadata": {},
     "output_type": "execute_result"
    }
   ],
   "source": [
    "bool('python')"
   ]
  },
  {
   "cell_type": "code",
   "execution_count": 124,
   "id": "e1e2acdc",
   "metadata": {},
   "outputs": [
    {
     "data": {
      "text/plain": [
       "False"
      ]
     },
     "execution_count": 124,
     "metadata": {},
     "output_type": "execute_result"
    }
   ],
   "source": [
    "bool('')"
   ]
  },
  {
   "cell_type": "code",
   "execution_count": 127,
   "id": "57b993e4",
   "metadata": {},
   "outputs": [
    {
     "data": {
      "text/plain": [
       "False"
      ]
     },
     "execution_count": 127,
     "metadata": {},
     "output_type": "execute_result"
    }
   ],
   "source": [
    "bool(0)"
   ]
  },
  {
   "cell_type": "code",
   "execution_count": 128,
   "id": "28c00da0",
   "metadata": {},
   "outputs": [
    {
     "data": {
      "text/plain": [
       "True"
      ]
     },
     "execution_count": 128,
     "metadata": {},
     "output_type": "execute_result"
    }
   ],
   "source": [
    "bool(3)"
   ]
  }
 ],
 "metadata": {
  "kernelspec": {
   "display_name": "Python 3 (ipykernel)",
   "language": "python",
   "name": "python3"
  },
  "language_info": {
   "codemirror_mode": {
    "name": "ipython",
    "version": 3
   },
   "file_extension": ".py",
   "mimetype": "text/x-python",
   "name": "python",
   "nbconvert_exporter": "python",
   "pygments_lexer": "ipython3",
   "version": "3.11.5"
  }
 },
 "nbformat": 4,
 "nbformat_minor": 5
}
