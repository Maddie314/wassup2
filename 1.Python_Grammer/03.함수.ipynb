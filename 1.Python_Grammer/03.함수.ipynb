{
 "cells": [
  {
   "cell_type": "markdown",
   "id": "0b1239f4",
   "metadata": {},
   "source": [
    "# 함수의 구조\n",
    "* 입력값을 가지고 어떤 일을 수행한 후 그 결과물을 내어 놓는 것이 바로 함수\n",
    "\n",
    "```\n",
    "def 함수_이름(매개변수):\n",
    "    수행할_문장1\n",
    "    수행할_문장2\n",
    "    ...\n",
    "```\n",
    "\n",
    "* 함수를 정의한 후 if, while, for 문 등과 마찬가지로 함수에서 수행할 문장을 입력한다."
   ]
  },
  {
   "cell_type": "code",
   "execution_count": 1,
   "id": "80d413f5",
   "metadata": {},
   "outputs": [],
   "source": [
    "def add(a, b): #a,b는 매개변수\n",
    "    return a + b"
   ]
  },
  {
   "cell_type": "markdown",
   "id": "47c42a67",
   "metadata": {},
   "source": [
    "이 함수의 이름은 add이고 입력으로 2개의 값을 받으며 리턴값(출력값)은 2개의 입력값을 더한 값이다."
   ]
  },
  {
   "cell_type": "code",
   "execution_count": 2,
   "id": "57ea2141",
   "metadata": {},
   "outputs": [
    {
     "data": {
      "text/plain": [
       "7"
      ]
     },
     "execution_count": 2,
     "metadata": {},
     "output_type": "execute_result"
    }
   ],
   "source": [
    "c = 3\n",
    "d = 4\n",
    "add(c, d)  # 3,4는 인수"
   ]
  },
  {
   "cell_type": "markdown",
   "id": "4eee2cc3",
   "metadata": {},
   "source": [
    "```\n",
    "매개변수는 함수에 입력으로 전달된 값을 받는 변수 \n",
    "인수는 함수를 호출할 때 전달하는 입력값.\n",
    "```"
   ]
  },
  {
   "cell_type": "markdown",
   "id": "9a6c568d",
   "metadata": {},
   "source": [
    "## 매개변수와 인수"
   ]
  },
  {
   "cell_type": "code",
   "execution_count": 5,
   "id": "5e2e079b",
   "metadata": {},
   "outputs": [
    {
     "data": {
      "text/plain": [
       "12"
      ]
     },
     "execution_count": 5,
     "metadata": {},
     "output_type": "execute_result"
    }
   ],
   "source": [
    "add(5,7)"
   ]
  },
  {
   "cell_type": "markdown",
   "id": "ccc3c948",
   "metadata": {},
   "source": [
    "# 함수 종류"
   ]
  },
  {
   "cell_type": "markdown",
   "id": "7095bd66",
   "metadata": {},
   "source": [
    "## 일반적인 함수\n",
    "```\n",
    "def 함수_이름(매개변수):\n",
    "    수행할_문장\n",
    "    ...\n",
    "    return 리턴값\n",
    "```"
   ]
  },
  {
   "cell_type": "code",
   "execution_count": 7,
   "id": "67532309",
   "metadata": {},
   "outputs": [],
   "source": [
    "def add(a, b): \n",
    "    result = a + b \n",
    "    return result"
   ]
  },
  {
   "cell_type": "code",
   "execution_count": 8,
   "id": "369dd11d",
   "metadata": {},
   "outputs": [
    {
     "name": "stdout",
     "output_type": "stream",
     "text": [
      "7\n"
     ]
    }
   ],
   "source": [
    "a = add(3, 4)\n",
    "print(a)"
   ]
  },
  {
   "cell_type": "markdown",
   "id": "0255512b",
   "metadata": {},
   "source": [
    "##  입력값이 없는 함수\n",
    "* 매개변수가 비어있음"
   ]
  },
  {
   "cell_type": "code",
   "execution_count": 9,
   "id": "127bf446",
   "metadata": {},
   "outputs": [],
   "source": [
    "def say(): \n",
    "    return 'Hi' "
   ]
  },
  {
   "cell_type": "code",
   "execution_count": 10,
   "id": "3277ecd2",
   "metadata": {},
   "outputs": [
    {
     "data": {
      "text/plain": [
       "'Hi'"
      ]
     },
     "execution_count": 10,
     "metadata": {},
     "output_type": "execute_result"
    }
   ],
   "source": [
    "a= say()\n",
    "a"
   ]
  },
  {
   "cell_type": "markdown",
   "id": "5fa0b71f",
   "metadata": {},
   "source": [
    "## 리턴값이 없는 함수"
   ]
  },
  {
   "cell_type": "code",
   "execution_count": 12,
   "id": "7b97340c",
   "metadata": {},
   "outputs": [],
   "source": [
    "def add(a, b): \n",
    "    print(\"%d, %d의 합은 %d입니다.\" % (a, b, a+b))"
   ]
  },
  {
   "cell_type": "code",
   "execution_count": 13,
   "id": "525a4567",
   "metadata": {},
   "outputs": [
    {
     "name": "stdout",
     "output_type": "stream",
     "text": [
      "3, 4의 합은 7입니다.\n"
     ]
    }
   ],
   "source": [
    "add(3,4)"
   ]
  },
  {
   "cell_type": "code",
   "execution_count": 14,
   "id": "40f00975",
   "metadata": {
    "scrolled": true
   },
   "outputs": [
    {
     "name": "stdout",
     "output_type": "stream",
     "text": [
      "3, 4의 합은 7입니다.\n",
      "None\n"
     ]
    }
   ],
   "source": [
    "a=add(3,4)\n",
    "print(a) #. None을 리턴한다는 것은 리턴값이 없다는 것이다."
   ]
  },
  {
   "cell_type": "markdown",
   "id": "365112aa",
   "metadata": {},
   "source": [
    "## 입력값도, 리턴값도 없는 함수\n",
    "* 함수_이름()"
   ]
  },
  {
   "cell_type": "code",
   "execution_count": 5,
   "id": "27cd2d70",
   "metadata": {},
   "outputs": [],
   "source": [
    "def say():\n",
    "    print('Hi')"
   ]
  },
  {
   "cell_type": "code",
   "execution_count": 6,
   "id": "e942314c",
   "metadata": {},
   "outputs": [
    {
     "name": "stdout",
     "output_type": "stream",
     "text": [
      "Hi\n"
     ]
    }
   ],
   "source": [
    "say()"
   ]
  },
  {
   "cell_type": "markdown",
   "id": "7f50f67a",
   "metadata": {},
   "source": [
    "# 매개변수를 지정하여 호출하기"
   ]
  },
  {
   "cell_type": "code",
   "execution_count": 15,
   "id": "70d816d4",
   "metadata": {},
   "outputs": [],
   "source": [
    "def sub(a, b):\n",
    "    return a - b"
   ]
  },
  {
   "cell_type": "code",
   "execution_count": 16,
   "id": "12def859",
   "metadata": {},
   "outputs": [
    {
     "data": {
      "text/plain": [
       "4"
      ]
     },
     "execution_count": 16,
     "metadata": {},
     "output_type": "execute_result"
    }
   ],
   "source": [
    "sub(7,3)"
   ]
  },
  {
   "cell_type": "code",
   "execution_count": 17,
   "id": "4925e545",
   "metadata": {},
   "outputs": [
    {
     "data": {
      "text/plain": [
       "4"
      ]
     },
     "execution_count": 17,
     "metadata": {},
     "output_type": "execute_result"
    }
   ],
   "source": [
    "a=7\n",
    "b=3\n",
    "sub(a,b)"
   ]
  },
  {
   "cell_type": "code",
   "execution_count": 19,
   "id": "e1c1b476",
   "metadata": {},
   "outputs": [
    {
     "name": "stdout",
     "output_type": "stream",
     "text": [
      "4\n"
     ]
    }
   ],
   "source": [
    "result = sub(a=7, b=3)  # a에 7, b에 3을 전달\n",
    "print(result)"
   ]
  },
  {
   "cell_type": "code",
   "execution_count": 20,
   "id": "c58f201c",
   "metadata": {},
   "outputs": [
    {
     "data": {
      "text/plain": [
       "4"
      ]
     },
     "execution_count": 20,
     "metadata": {},
     "output_type": "execute_result"
    }
   ],
   "source": [
    "sub(b=3, a=7)"
   ]
  },
  {
   "cell_type": "markdown",
   "id": "37434ecd",
   "metadata": {},
   "source": [
    "# 입력값이 몇 개가 될지 모를 때는 어떻게 해야할까?\n",
    "\n",
    "```\n",
    "def 함수_이름(*매개변수): #튜플화\n",
    "    수행할_문장\n",
    "    ...\n",
    "```"
   ]
  },
  {
   "cell_type": "code",
   "execution_count": 21,
   "id": "32c028c0",
   "metadata": {},
   "outputs": [],
   "source": [
    "print?"
   ]
  },
  {
   "cell_type": "code",
   "execution_count": null,
   "id": "cbe342c0",
   "metadata": {},
   "outputs": [],
   "source": [
    "#매개변수 이름 앞에 *을 붙이면 입력값을 전부 모아 튜플로 만들어 주기"
   ]
  },
  {
   "cell_type": "code",
   "execution_count": 25,
   "id": "8203365d",
   "metadata": {},
   "outputs": [],
   "source": [
    "def add_many(*args): \n",
    "    result = 0 \n",
    "    for i in args: \n",
    "        result = result + i   # *args에 입력받은 모든 값을 더한다.\n",
    "    return result "
   ]
  },
  {
   "cell_type": "code",
   "execution_count": 26,
   "id": "4ef7a627",
   "metadata": {},
   "outputs": [
    {
     "name": "stdout",
     "output_type": "stream",
     "text": [
      "6\n"
     ]
    }
   ],
   "source": [
    "result = add_many(1,2,3)\n",
    "print(result)"
   ]
  },
  {
   "cell_type": "code",
   "execution_count": 27,
   "id": "3890a2f1",
   "metadata": {},
   "outputs": [
    {
     "name": "stdout",
     "output_type": "stream",
     "text": [
      "55\n"
     ]
    }
   ],
   "source": [
    "result = add_many(1,2,3,4,5,6,7,8,9,10)\n",
    "print(result)"
   ]
  },
  {
   "cell_type": "code",
   "execution_count": 28,
   "id": "c53a2f99",
   "metadata": {},
   "outputs": [],
   "source": [
    "def add_mul(choice, *args): \n",
    "...     if choice == \"add\":   # 매개변수 choice에 \"add\"를 입력받았을 때\n",
    "...         result = 0 \n",
    "...         for i in args: \n",
    "...             result = result + i \n",
    "...     elif choice == \"mul\":   # 매개변수 choice에 \"mul\"을 입력받았을 때\n",
    "...         result = 1 \n",
    "...         for i in args: \n",
    "...             result = result * i \n",
    "...     return result "
   ]
  },
  {
   "cell_type": "code",
   "execution_count": 29,
   "id": "a15f3285",
   "metadata": {},
   "outputs": [
    {
     "name": "stdout",
     "output_type": "stream",
     "text": [
      "15\n",
      "120\n"
     ]
    },
    {
     "data": {
      "text/plain": [
       "120"
      ]
     },
     "execution_count": 29,
     "metadata": {},
     "output_type": "execute_result"
    }
   ],
   "source": [
    "result = add_mul('add', 1,2,3,4,5)\n",
    "print(result)\n",
    "result = add_mul('mul', 1,2,3,4,5)\n",
    "print(result)\n",
    "120"
   ]
  },
  {
   "cell_type": "markdown",
   "id": "a0e359aa",
   "metadata": {},
   "source": [
    "# 키워드 매개변수, kwargs"
   ]
  },
  {
   "cell_type": "code",
   "execution_count": 7,
   "id": "a6475fca",
   "metadata": {},
   "outputs": [],
   "source": [
    "def print_kwargs(**kwargs): # 딕셔너리화\n",
    "...     print(kwargs)"
   ]
  },
  {
   "cell_type": "code",
   "execution_count": 32,
   "id": "12759987",
   "metadata": {},
   "outputs": [
    {
     "name": "stdout",
     "output_type": "stream",
     "text": [
      "{'a': 1}\n"
     ]
    }
   ],
   "source": [
    "print_kwargs(a=1)"
   ]
  },
  {
   "cell_type": "code",
   "execution_count": 33,
   "id": "2163c44f",
   "metadata": {},
   "outputs": [
    {
     "name": "stdout",
     "output_type": "stream",
     "text": [
      "{'name': 'foo', 'age': 3}\n"
     ]
    }
   ],
   "source": [
    "print_kwargs(name='foo', age=3)"
   ]
  },
  {
   "cell_type": "markdown",
   "id": "7583aee9",
   "metadata": {},
   "source": [
    "# 함수의 리턴값은 언제나 하나이다"
   ]
  },
  {
   "cell_type": "code",
   "execution_count": 11,
   "id": "26580775",
   "metadata": {},
   "outputs": [],
   "source": [
    " def add_and_mul(a,b): \n",
    "...     return a+b, a*b"
   ]
  },
  {
   "cell_type": "code",
   "execution_count": 12,
   "id": "4c2ae1e0",
   "metadata": {},
   "outputs": [
    {
     "name": "stdout",
     "output_type": "stream",
     "text": [
      "(7, 12)\n"
     ]
    }
   ],
   "source": [
    "result = add_and_mul(3,4) #함수의 리턴값은 2개가 아니라 언제나 1개라는 데 있다\n",
    "print(result)"
   ]
  },
  {
   "cell_type": "markdown",
   "id": "38f17c57",
   "metadata": {},
   "source": [
    "* 이 하나의 튜플 값을 2개의 값으로 분리하여 받고 싶다면 함수를 다음과 같이 호출하면 된다."
   ]
  },
  {
   "cell_type": "code",
   "execution_count": 37,
   "id": "94194cbe",
   "metadata": {},
   "outputs": [
    {
     "data": {
      "text/plain": [
       "7"
      ]
     },
     "execution_count": 37,
     "metadata": {},
     "output_type": "execute_result"
    }
   ],
   "source": [
    "result1, result2 = add_and_mul(3, 4)\n",
    "result1"
   ]
  },
  {
   "cell_type": "code",
   "execution_count": 38,
   "id": "cc223896",
   "metadata": {},
   "outputs": [
    {
     "data": {
      "text/plain": [
       "12"
      ]
     },
     "execution_count": 38,
     "metadata": {},
     "output_type": "execute_result"
    }
   ],
   "source": [
    "result2"
   ]
  },
  {
   "cell_type": "code",
   "execution_count": 39,
   "id": "66671846",
   "metadata": {},
   "outputs": [],
   "source": [
    "def add_and_mul(a,b): \n",
    "...     return a+b \n",
    "...     return a*b "
   ]
  },
  {
   "cell_type": "code",
   "execution_count": 40,
   "id": "b521fc6a",
   "metadata": {},
   "outputs": [
    {
     "name": "stdout",
     "output_type": "stream",
     "text": [
      "5\n"
     ]
    }
   ],
   "source": [
    "result = add_and_mul(2, 3)\n",
    "print(result)"
   ]
  },
  {
   "cell_type": "code",
   "execution_count": 42,
   "id": "67f44f60",
   "metadata": {},
   "outputs": [],
   "source": [
    "def say_nick(nick): \n",
    "...     if nick == \"바보\": \n",
    "...         return \n",
    "...     print(\"나의 별명은 %s 입니다.\" % nick)"
   ]
  },
  {
   "cell_type": "code",
   "execution_count": 43,
   "id": "a7e53534",
   "metadata": {},
   "outputs": [
    {
     "name": "stdout",
     "output_type": "stream",
     "text": [
      "나의 별명은 야호 입니다.\n"
     ]
    }
   ],
   "source": [
    "say_nick('야호')"
   ]
  },
  {
   "cell_type": "code",
   "execution_count": 44,
   "id": "e5989aa2",
   "metadata": {},
   "outputs": [],
   "source": [
    "say_nick('바보')"
   ]
  },
  {
   "cell_type": "markdown",
   "id": "16ec7fb8",
   "metadata": {},
   "source": [
    "# 매개변수에 초깃값 미리 설정하기"
   ]
  },
  {
   "cell_type": "code",
   "execution_count": 45,
   "id": "13bf2e2a",
   "metadata": {},
   "outputs": [],
   "source": [
    "# default1.py\n",
    "def say_myself(name, age, man=True):  # man =True 매개변수에 초기값 설정\n",
    "    print(\"나의 이름은 %s 입니다.\" % name) \n",
    "    print(\"나이는 %d살입니다.\" % age) \n",
    "    if man: \n",
    "        print(\"남자입니다.\")\n",
    "    else: \n",
    "        print(\"여자입니다.\")\n"
   ]
  },
  {
   "cell_type": "code",
   "execution_count": 46,
   "id": "bb047abc",
   "metadata": {},
   "outputs": [
    {
     "name": "stdout",
     "output_type": "stream",
     "text": [
      "나의 이름은 박응용 입니다.\n",
      "나이는 27살입니다.\n",
      "남자입니다.\n"
     ]
    }
   ],
   "source": [
    "say_myself(\"박응용\", 27)\n"
   ]
  },
  {
   "cell_type": "code",
   "execution_count": 47,
   "id": "f8cb318e",
   "metadata": {},
   "outputs": [
    {
     "name": "stdout",
     "output_type": "stream",
     "text": [
      "나의 이름은 현정 입니다.\n",
      "나이는 27살입니다.\n",
      "여자입니다.\n"
     ]
    }
   ],
   "source": [
    "say_myself(\"현정\", 27, False)\n"
   ]
  },
  {
   "cell_type": "code",
   "execution_count": null,
   "id": "a60bb13d",
   "metadata": {},
   "outputs": [],
   "source": [
    "# default2.py\n",
    "def say_myself(name, man=True, age): #man=True 초깃값이 있는 매개변수\n",
    "    print(\"나의 이름은 %s 입니다.\" % name) \n",
    "    print(\"나이는 %d살입니다.\" % age) \n",
    "    if man: \n",
    "        print(\"남자입니다.\") \n",
    "    else: \n",
    "        print(\"여자입니다.\")"
   ]
  },
  {
   "cell_type": "markdown",
   "id": "219d9299",
   "metadata": {},
   "source": [
    "* ‘초깃값이 없는 매개변수(age)는 초깃값이 있는 매개변수(man) 뒤에 사용할 수 없다’\n",
    "*  초기화하고 싶은 매개변수는 항상 뒤쪽에 놓아야 한다는 것을 잊지 말자."
   ]
  },
  {
   "cell_type": "markdown",
   "id": "057cbf6b",
   "metadata": {},
   "source": [
    "# 함수 안에서 선언한 변수의 효력 범위"
   ]
  },
  {
   "cell_type": "markdown",
   "id": "2e4ff094",
   "metadata": {},
   "source": [
    "# vartest.py\n",
    "```\n",
    "a = 1\n",
    "def vartest(a):\n",
    "    a = a +1\n",
    "\n",
    "vartest(a)\n",
    "print(a)\n",
    "```"
   ]
  },
  {
   "cell_type": "markdown",
   "id": "89c44dbe",
   "metadata": {},
   "source": [
    "# 함수 안에서 함수 밖의 변수를 변경하는 방법"
   ]
  },
  {
   "cell_type": "code",
   "execution_count": 50,
   "id": "b3ce00be",
   "metadata": {},
   "outputs": [
    {
     "name": "stdout",
     "output_type": "stream",
     "text": [
      "2\n"
     ]
    }
   ],
   "source": [
    "# return 사용하기\n",
    "# vartest_return.py\n",
    "a = 1 \n",
    "def vartest(a): \n",
    "    a = a +1 \n",
    "    return a\n",
    "\n",
    "a = vartest(a) \n",
    "print(a)\n"
   ]
  },
  {
   "cell_type": "code",
   "execution_count": 51,
   "id": "157de074",
   "metadata": {},
   "outputs": [
    {
     "name": "stdout",
     "output_type": "stream",
     "text": [
      "2\n"
     ]
    }
   ],
   "source": [
    "# . global 명령어 사용하기\n",
    "# vartest_global.py\n",
    "a = 1 \n",
    "def vartest(): \n",
    "    global a \n",
    "    a = a+1\n",
    "\n",
    "vartest() \n",
    "print(a)\n"
   ]
  },
  {
   "cell_type": "markdown",
   "id": "be677b22",
   "metadata": {},
   "source": [
    "# lambda 예약어\n",
    "\n",
    "* 함수를 생성할 때 사용하는 예약어로, def와 동일한 역할을 한다. \n",
    "* 보통 함수를 한 줄로 간결하게 만들 때 사용한다. \n",
    "\n",
    "* 함수_이름 = lambda 매개변수1, 매개변수2, ... : 매개변수를_이용한_표현식"
   ]
  },
  {
   "cell_type": "code",
   "execution_count": 52,
   "id": "7472ae79",
   "metadata": {},
   "outputs": [
    {
     "name": "stdout",
     "output_type": "stream",
     "text": [
      "7\n"
     ]
    }
   ],
   "source": [
    "add = lambda a, b: a+b\n",
    "result = add(3, 4)\n",
    "print(result)"
   ]
  },
  {
   "cell_type": "code",
   "execution_count": 53,
   "id": "ab4b6497",
   "metadata": {},
   "outputs": [
    {
     "name": "stdout",
     "output_type": "stream",
     "text": [
      "7\n"
     ]
    }
   ],
   "source": [
    "def add(a, b):\n",
    "    return a+b\n",
    "result = add(3, 4)\n",
    "print(result)"
   ]
  },
  {
   "cell_type": "markdown",
   "id": "20679a74",
   "metadata": {},
   "source": [
    "# 사용자 입출력\n",
    "\n",
    "*사용자가 입력한 값을 어떤 변수에 대입하고 싶을 때는 어떻게 해야 할까?\n",
    "* -> input사용"
   ]
  },
  {
   "cell_type": "code",
   "execution_count": 14,
   "id": "e21f5e57",
   "metadata": {
    "scrolled": true
   },
   "outputs": [
    {
     "name": "stdout",
     "output_type": "stream",
     "text": [
      "Life is too short, you need python\n"
     ]
    }
   ],
   "source": [
    "# input 사용\n",
    "a=input()"
   ]
  },
  {
   "cell_type": "code",
   "execution_count": 15,
   "id": "b4378b9e",
   "metadata": {},
   "outputs": [
    {
     "data": {
      "text/plain": [
       "'Life is too short, you need python'"
      ]
     },
     "execution_count": 15,
     "metadata": {},
     "output_type": "execute_result"
    }
   ],
   "source": [
    "a"
   ]
  },
  {
   "cell_type": "code",
   "execution_count": 16,
   "id": "3dc1f5a9",
   "metadata": {},
   "outputs": [
    {
     "name": "stdout",
     "output_type": "stream",
     "text": [
      "숫자를 입력하세요: 5\n"
     ]
    },
    {
     "ename": "NameError",
     "evalue": "name 'number' is not defined",
     "output_type": "error",
     "traceback": [
      "\u001b[1;31m---------------------------------------------------------------------------\u001b[0m",
      "\u001b[1;31mNameError\u001b[0m                                 Traceback (most recent call last)",
      "Cell \u001b[1;32mIn[16], line 2\u001b[0m\n\u001b[0;32m      1\u001b[0m umber \u001b[38;5;241m=\u001b[39m \u001b[38;5;28minput\u001b[39m(\u001b[38;5;124m\"\u001b[39m\u001b[38;5;124m숫자를 입력하세요: \u001b[39m\u001b[38;5;124m\"\u001b[39m)\n\u001b[1;32m----> 2\u001b[0m \u001b[38;5;28mprint\u001b[39m(number)\n",
      "\u001b[1;31mNameError\u001b[0m: name 'number' is not defined"
     ]
    }
   ],
   "source": [
    "umber = input(\"숫자를 입력하세요: \")\n",
    "print(number) #주의 : input 내용은 str 타입임 "
   ]
  },
  {
   "cell_type": "markdown",
   "id": "0d813092",
   "metadata": {},
   "source": [
    "## print 자세히 알기"
   ]
  },
  {
   "cell_type": "markdown",
   "id": "b35eb423",
   "metadata": {},
   "source": [
    "## 큰따옴표로 둘러싸인 문자열은 + 연산과 동일하다"
   ]
  },
  {
   "cell_type": "code",
   "execution_count": 17,
   "id": "0dcfdaac",
   "metadata": {},
   "outputs": [
    {
     "name": "stdout",
     "output_type": "stream",
     "text": [
      "lifeistoo short\n",
      "lifeistoo short\n"
     ]
    }
   ],
   "source": [
    "print(\"life\" \"is\" \"too short\")  # 1번\n",
    "\n",
    "print(\"life\"+\"is\"+\"too short\")  # 2번\n",
    "\n"
   ]
  },
  {
   "cell_type": "markdown",
   "id": "cfdb09a4",
   "metadata": {},
   "source": [
    "## 문자열 띄어쓰기는 쉼표로 한다"
   ]
  },
  {
   "cell_type": "code",
   "execution_count": 18,
   "id": "fa1156be",
   "metadata": {},
   "outputs": [
    {
     "name": "stdout",
     "output_type": "stream",
     "text": [
      "life is too short\n"
     ]
    }
   ],
   "source": [
    "print(\"life\",\"is\",\"too short\") "
   ]
  },
  {
   "cell_type": "markdown",
   "id": "983141ba",
   "metadata": {},
   "source": [
    "## 한 줄에 결괏값 출력하기\n",
    "* 매개변수 end를 사용해 끝 문자를 지정해야 한다."
   ]
  },
  {
   "cell_type": "code",
   "execution_count": 23,
   "id": "6413dcba",
   "metadata": {},
   "outputs": [
    {
     "name": "stdout",
     "output_type": "stream",
     "text": [
      "0 1 2 3 4 5 6 7 8 9 "
     ]
    }
   ],
   "source": [
    "for i in range(10):\n",
    "...     print(i, end=' ')\n"
   ]
  },
  {
   "cell_type": "markdown",
   "id": "7dfb4b6c",
   "metadata": {},
   "source": [
    "# 파일 읽고 쓰기\n",
    "\n",
    "* 파일_객체 = open(파일_이름, 파일_열기_모드)\n",
    "\n",
    "```\n",
    "  r\t읽기 모드: 파일을 읽기만 할 때 사용한다.\n",
    "  w\t쓰기 모드: 파일에 내용을 쓸 때 사용한다.\n",
    "  a\t추가 모드: 파일의 마지막에 새로운 내용을 추가할 때 사용한다.\n",
    "```"
   ]
  },
  {
   "cell_type": "markdown",
   "id": "3760092b",
   "metadata": {},
   "source": [
    "## 파일 생성하기"
   ]
  },
  {
   "cell_type": "code",
   "execution_count": 24,
   "id": "7b0c53e5",
   "metadata": {},
   "outputs": [],
   "source": [
    "# newfile.py\n",
    "f = open(\"새파일.txt\", 'w')\n",
    "f.close()"
   ]
  },
  {
   "cell_type": "markdown",
   "id": "00b7fd35",
   "metadata": {},
   "source": [
    "# 파일을 쓰기 모드로 열어 내용 쓰기"
   ]
  },
  {
   "cell_type": "code",
   "execution_count": 59,
   "id": "28fca3bd",
   "metadata": {},
   "outputs": [
    {
     "data": {
      "text/plain": [
       "'C:\\\\workspace\\\\wassup2\\\\python'"
      ]
     },
     "execution_count": 59,
     "metadata": {},
     "output_type": "execute_result"
    }
   ],
   "source": [
    "pwd"
   ]
  },
  {
   "cell_type": "code",
   "execution_count": 60,
   "id": "6688efc6",
   "metadata": {},
   "outputs": [],
   "source": [
    "# write_data.py\n",
    "f = open(\"C:\\\\workspace\\\\wassup2\\\\python\\\\새파일.txt\", 'w')\n",
    "for i in range(1, 11):\n",
    "    data = \"%d번째 줄입니다.\\n\" % i\n",
    "    f.write(data) ##\n",
    "f.close()\n"
   ]
  },
  {
   "cell_type": "markdown",
   "id": "2af502a1",
   "metadata": {},
   "source": [
    "# 파일을 읽는 여러가지 방법"
   ]
  },
  {
   "cell_type": "markdown",
   "id": "22dace22",
   "metadata": {},
   "source": [
    "## 1.  readline 함수 이용하기"
   ]
  },
  {
   "cell_type": "code",
   "execution_count": 61,
   "id": "46fb9f91",
   "metadata": {},
   "outputs": [
    {
     "name": "stdout",
     "output_type": "stream",
     "text": [
      "1번째 줄입니다.\n",
      "\n"
     ]
    }
   ],
   "source": [
    "# readline_test.py 첫 줄만 읽기\n",
    "f = open(\"새파일.txt\", 'r')\n",
    "line = f.readline()\n",
    "print(line)\n",
    "f.close()\n"
   ]
  },
  {
   "cell_type": "code",
   "execution_count": 62,
   "id": "f2f718e7",
   "metadata": {},
   "outputs": [
    {
     "name": "stdout",
     "output_type": "stream",
     "text": [
      "1번째 줄입니다.\n",
      "\n",
      "2번째 줄입니다.\n",
      "\n",
      "3번째 줄입니다.\n",
      "\n",
      "4번째 줄입니다.\n",
      "\n",
      "5번째 줄입니다.\n",
      "\n",
      "6번째 줄입니다.\n",
      "\n",
      "7번째 줄입니다.\n",
      "\n",
      "8번째 줄입니다.\n",
      "\n",
      "9번째 줄입니다.\n",
      "\n",
      "10번째 줄입니다.\n",
      "\n"
     ]
    }
   ],
   "source": [
    "# readline_all.py 모든 줄을 읽기\n",
    "f = open(\"새파일.txt\", 'r')\n",
    "while True:\n",
    "    line = f.readline()\n",
    "    if not line:\n",
    "        break\n",
    "    print(line)\n",
    "f.close()\n"
   ]
  },
  {
   "cell_type": "markdown",
   "id": "2a2c2285",
   "metadata": {},
   "source": [
    "## 2. readlines 함수 이용하기\n",
    "\n",
    "* readlines 함수는 파일의 모든 줄을 읽어서 각각의 줄을 요소로 가지는 리스트를 리턴한다."
   ]
  },
  {
   "cell_type": "code",
   "execution_count": 63,
   "id": "ae8eb35b",
   "metadata": {},
   "outputs": [
    {
     "name": "stdout",
     "output_type": "stream",
     "text": [
      "1번째 줄입니다.\n",
      "\n",
      "2번째 줄입니다.\n",
      "\n",
      "3번째 줄입니다.\n",
      "\n",
      "4번째 줄입니다.\n",
      "\n",
      "5번째 줄입니다.\n",
      "\n",
      "6번째 줄입니다.\n",
      "\n",
      "7번째 줄입니다.\n",
      "\n",
      "8번째 줄입니다.\n",
      "\n",
      "9번째 줄입니다.\n",
      "\n",
      "10번째 줄입니다.\n",
      "\n"
     ]
    }
   ],
   "source": [
    "# readlines\n",
    "# readlines.py\n",
    "f = open(\"새파일.txt\", 'r')\n",
    "lines = f.readlines()\n",
    "for line in lines:\n",
    "    print(line)\n",
    "f.close()\n"
   ]
  },
  {
   "cell_type": "code",
   "execution_count": 65,
   "id": "c392a767",
   "metadata": {
    "scrolled": true
   },
   "outputs": [
    {
     "name": "stdout",
     "output_type": "stream",
     "text": [
      "1번째 줄입니다.\n",
      "2번째 줄입니다.\n",
      "3번째 줄입니다.\n",
      "4번째 줄입니다.\n",
      "5번째 줄입니다.\n",
      "6번째 줄입니다.\n",
      "7번째 줄입니다.\n",
      "8번째 줄입니다.\n",
      "9번째 줄입니다.\n",
      "10번째 줄입니다.\n"
     ]
    }
   ],
   "source": [
    "# 줄바꿈 문자 제거\n",
    "f = open(\"새파일.txt\", 'r')\n",
    "lines = f.readlines()\n",
    "for line in lines:\n",
    "    line = line.strip()  # 줄 끝의 줄 바꿈 문자를 제거한다.\n",
    "    print(line)\n",
    "f.close()\n"
   ]
  },
  {
   "cell_type": "markdown",
   "id": "b4c29f8f",
   "metadata": {},
   "source": [
    "## 3. read 함수 사용하기"
   ]
  },
  {
   "cell_type": "code",
   "execution_count": null,
   "id": "1ea319ed",
   "metadata": {},
   "outputs": [],
   "source": [
    "# read.py\n",
    "f = open(\"새파일.txt\", 'r')\n",
    "data = f.read()\n",
    "print(data)\n",
    "f.close()"
   ]
  },
  {
   "cell_type": "markdown",
   "id": "74564bc2",
   "metadata": {},
   "source": [
    "# 파일에 새로운 내용 추가하기"
   ]
  },
  {
   "cell_type": "code",
   "execution_count": 69,
   "id": "4d0547d2",
   "metadata": {},
   "outputs": [],
   "source": [
    "# add_data.py\n",
    "f = open(\"새파일.txt\",'a')\n",
    "for i in range(11, 20):\n",
    "    data = \"%d번째 줄입니다.\\n\" % i\n",
    "    f.write(data)\n",
    "f.close()\n"
   ]
  },
  {
   "cell_type": "markdown",
   "id": "f700791c",
   "metadata": {},
   "source": [
    "# with 문과 함께 사용하기"
   ]
  },
  {
   "cell_type": "code",
   "execution_count": null,
   "id": "abf054c2",
   "metadata": {},
   "outputs": [],
   "source": [
    "f = open(\"foo.txt\", 'w')\n",
    "f.write(\"Life is too short, you need python\")\n",
    "f.close()\n",
    "#with문만 쓸 것"
   ]
  },
  {
   "cell_type": "code",
   "execution_count": null,
   "id": "1a0e713b",
   "metadata": {},
   "outputs": [],
   "source": [
    "# file_with.py 자동닫기\n",
    "with open(\"foo.txt\", \"w\") as f:\n",
    "    f.write(\"Life is too short, you need python\")"
   ]
  }
 ],
 "metadata": {
  "kernelspec": {
   "display_name": "Python 3 (ipykernel)",
   "language": "python",
   "name": "python3"
  },
  "language_info": {
   "codemirror_mode": {
    "name": "ipython",
    "version": 3
   },
   "file_extension": ".py",
   "mimetype": "text/x-python",
   "name": "python",
   "nbconvert_exporter": "python",
   "pygments_lexer": "ipython3",
   "version": "3.11.5"
  }
 },
 "nbformat": 4,
 "nbformat_minor": 5
}
